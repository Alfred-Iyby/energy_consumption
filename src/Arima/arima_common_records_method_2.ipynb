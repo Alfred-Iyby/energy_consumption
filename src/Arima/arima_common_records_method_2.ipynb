{
 "cells": [
  {
   "cell_type": "code",
   "execution_count": 1,
   "metadata": {},
   "outputs": [],
   "source": [
    "import os, pandas as pd\n",
    "import numpy as np\n",
    "from pmdarima import auto_arima\n",
    "from sklearn.model_selection import train_test_split\n",
    "from sklearn.metrics import mean_squared_error, mean_absolute_error\n"
   ]
  },
  {
   "cell_type": "code",
   "execution_count": 2,
   "metadata": {},
   "outputs": [
    {
     "data": {
      "text/html": [
       "<div>\n",
       "<style scoped>\n",
       "    .dataframe tbody tr th:only-of-type {\n",
       "        vertical-align: middle;\n",
       "    }\n",
       "\n",
       "    .dataframe tbody tr th {\n",
       "        vertical-align: top;\n",
       "    }\n",
       "\n",
       "    .dataframe thead th {\n",
       "        text-align: right;\n",
       "    }\n",
       "</style>\n",
       "<table border=\"1\" class=\"dataframe\">\n",
       "  <thead>\n",
       "    <tr style=\"text-align: right;\">\n",
       "      <th></th>\n",
       "      <th>ID</th>\n",
       "      <th>From</th>\n",
       "      <th>Date</th>\n",
       "      <th>Hour</th>\n",
       "      <th>Participation_Phase</th>\n",
       "      <th>Demand_kWh</th>\n",
       "      <th>Temperature</th>\n",
       "      <th>Temperature24</th>\n",
       "      <th>Temperature48</th>\n",
       "      <th>Temperature72</th>\n",
       "    </tr>\n",
       "  </thead>\n",
       "  <tbody>\n",
       "    <tr>\n",
       "      <th>0</th>\n",
       "      <td>Exp_1</td>\n",
       "      <td>2020-02-01 00:00:00+00:00</td>\n",
       "      <td>2020-02-01</td>\n",
       "      <td>1</td>\n",
       "      <td>Phase_1</td>\n",
       "      <td>2.393</td>\n",
       "      <td>7.6</td>\n",
       "      <td>6.1</td>\n",
       "      <td>5.0</td>\n",
       "      <td>4.4</td>\n",
       "    </tr>\n",
       "    <tr>\n",
       "      <th>1</th>\n",
       "      <td>Exp_1</td>\n",
       "      <td>2020-02-01 01:00:00+00:00</td>\n",
       "      <td>2020-02-01</td>\n",
       "      <td>2</td>\n",
       "      <td>Phase_1</td>\n",
       "      <td>2.056</td>\n",
       "      <td>8.2</td>\n",
       "      <td>6.2</td>\n",
       "      <td>5.1</td>\n",
       "      <td>4.4</td>\n",
       "    </tr>\n",
       "    <tr>\n",
       "      <th>2</th>\n",
       "      <td>Exp_1</td>\n",
       "      <td>2020-02-01 02:00:00+00:00</td>\n",
       "      <td>2020-02-01</td>\n",
       "      <td>3</td>\n",
       "      <td>Phase_1</td>\n",
       "      <td>2.258</td>\n",
       "      <td>8.4</td>\n",
       "      <td>6.3</td>\n",
       "      <td>5.3</td>\n",
       "      <td>4.5</td>\n",
       "    </tr>\n",
       "    <tr>\n",
       "      <th>3</th>\n",
       "      <td>Exp_1</td>\n",
       "      <td>2020-02-01 03:00:00+00:00</td>\n",
       "      <td>2020-02-01</td>\n",
       "      <td>4</td>\n",
       "      <td>Phase_1</td>\n",
       "      <td>2.535</td>\n",
       "      <td>8.4</td>\n",
       "      <td>6.4</td>\n",
       "      <td>5.4</td>\n",
       "      <td>4.5</td>\n",
       "    </tr>\n",
       "    <tr>\n",
       "      <th>4</th>\n",
       "      <td>Exp_1</td>\n",
       "      <td>2020-02-01 04:00:00+00:00</td>\n",
       "      <td>2020-02-01</td>\n",
       "      <td>5</td>\n",
       "      <td>Phase_1</td>\n",
       "      <td>2.042</td>\n",
       "      <td>8.2</td>\n",
       "      <td>6.5</td>\n",
       "      <td>5.5</td>\n",
       "      <td>4.6</td>\n",
       "    </tr>\n",
       "  </tbody>\n",
       "</table>\n",
       "</div>"
      ],
      "text/plain": [
       "      ID                       From        Date  Hour Participation_Phase  \\\n",
       "0  Exp_1  2020-02-01 00:00:00+00:00  2020-02-01     1             Phase_1   \n",
       "1  Exp_1  2020-02-01 01:00:00+00:00  2020-02-01     2             Phase_1   \n",
       "2  Exp_1  2020-02-01 02:00:00+00:00  2020-02-01     3             Phase_1   \n",
       "3  Exp_1  2020-02-01 03:00:00+00:00  2020-02-01     4             Phase_1   \n",
       "4  Exp_1  2020-02-01 04:00:00+00:00  2020-02-01     5             Phase_1   \n",
       "\n",
       "   Demand_kWh  Temperature  Temperature24  Temperature48  Temperature72  \n",
       "0       2.393          7.6            6.1            5.0            4.4  \n",
       "1       2.056          8.2            6.2            5.1            4.4  \n",
       "2       2.258          8.4            6.3            5.3            4.5  \n",
       "3       2.535          8.4            6.4            5.4            4.5  \n",
       "4       2.042          8.2            6.5            5.5            4.6  "
      ]
     },
     "execution_count": 2,
     "metadata": {},
     "output_type": "execute_result"
    }
   ],
   "source": [
    "parent_directory = os.path.abspath(os.path.join(os.getcwd(), os.pardir))\n",
    "main_directory = os.path.dirname(parent_directory)\n",
    "common_records =  pd.read_csv(main_directory + '/data/common_records.csv')\n",
    "common_records.head()"
   ]
  },
  {
   "cell_type": "code",
   "execution_count": 3,
   "metadata": {},
   "outputs": [],
   "source": [
    "unique_ids = common_records[\"ID\"].unique()[:80]\n",
    "common_records = common_records[common_records[\"ID\"].isin(unique_ids)]"
   ]
  },
  {
   "cell_type": "markdown",
   "metadata": {},
   "source": [
    "75/25"
   ]
  },
  {
   "cell_type": "code",
   "execution_count": 4,
   "metadata": {},
   "outputs": [
    {
     "data": {
      "text/plain": [
       "0         False\n",
       "1         False\n",
       "2         False\n",
       "3         False\n",
       "4         False\n",
       "          ...  \n",
       "366715    False\n",
       "366716    False\n",
       "366717    False\n",
       "366718    False\n",
       "366719    False\n",
       "Name: Demand_kWh, Length: 366720, dtype: bool"
      ]
     },
     "execution_count": 4,
     "metadata": {},
     "output_type": "execute_result"
    }
   ],
   "source": [
    "y=common_records['Demand_kWh']\n",
    "X= common_records[[\"From\",\"Temperature\"]]\n",
    "X_train, X_test, y_train, y_test = train_test_split(X, y, test_size=0.25, shuffle=False)\n",
    "X_train.head()\n",
    "y.isna()"
   ]
  },
  {
   "cell_type": "code",
   "execution_count": 5,
   "metadata": {},
   "outputs": [
    {
     "name": "stdout",
     "output_type": "stream",
     "text": [
      "                               SARIMAX Results                                \n",
      "==============================================================================\n",
      "Dep. Variable:                      y   No. Observations:               275040\n",
      "Model:               SARIMAX(4, 1, 2)   Log Likelihood             -327539.723\n",
      "Date:                Thu, 04 Jul 2024   AIC                         655093.445\n",
      "Time:                        11:15:41   BIC                         655167.118\n",
      "Sample:                             0   HQIC                        655114.833\n",
      "                             - 275040                                         \n",
      "Covariance Type:                  opg                                         \n",
      "==============================================================================\n",
      "                 coef    std err          z      P>|z|      [0.025      0.975]\n",
      "------------------------------------------------------------------------------\n",
      "ar.L1          1.4417      0.004    387.911      0.000       1.434       1.449\n",
      "ar.L2         -0.5067      0.003   -171.245      0.000      -0.512      -0.501\n",
      "ar.L3          0.0579      0.002     25.982      0.000       0.053       0.062\n",
      "ar.L4         -0.0845      0.001    -61.256      0.000      -0.087      -0.082\n",
      "ma.L1         -1.8188      0.004   -504.502      0.000      -1.826      -1.812\n",
      "ma.L2          0.8269      0.003    236.258      0.000       0.820       0.834\n",
      "sigma2         0.6337      0.001    780.270      0.000       0.632       0.635\n",
      "===================================================================================\n",
      "Ljung-Box (L1) (Q):                   0.13   Jarque-Bera (JB):            657191.41\n",
      "Prob(Q):                              0.72   Prob(JB):                         0.00\n",
      "Heteroskedasticity (H):               2.06   Skew:                             1.00\n",
      "Prob(H) (two-sided):                  0.00   Kurtosis:                        10.31\n",
      "===================================================================================\n",
      "\n",
      "Warnings:\n",
      "[1] Covariance matrix calculated using the outer product of gradients (complex-step).\n"
     ]
    }
   ],
   "source": [
    "model = auto_arima(y_train,\n",
    "                   exogenous=X_train, \n",
    "                   suppress_warnings=True, \n",
    "                   error_action=\"ignore\")\n",
    "\n",
    "print(model.summary())"
   ]
  },
  {
   "cell_type": "code",
   "execution_count": 6,
   "metadata": {},
   "outputs": [
    {
     "name": "stdout",
     "output_type": "stream",
     "text": [
      "Predicted values: 275040    6.690575\n",
      "275041    6.493700\n",
      "275042    6.314800\n",
      "275043    6.159677\n",
      "275044    6.089883\n",
      "            ...   \n",
      "366715    6.534441\n",
      "366716    6.534441\n",
      "366717    6.534441\n",
      "366718    6.534441\n",
      "366719    6.534441\n",
      "Name: forecast_data, Length: 91680, dtype: float64\n",
      "Mean Squared Error: 19.98446470131853\n",
      "Mean Absolute Error: 4.1409866289410315\n",
      "Root Mean Squared Error: 4.4703987183827945\n"
     ]
    }
   ],
   "source": [
    "n_periods = len(y_test)\n",
    "\n",
    "forecast = model.predict(n_periods=n_periods, exogenous=X_test)\n",
    "forecast.name = \"forecast_data\"\n",
    "forecast_df = common_records.join(forecast,how=\"left\",rsuffix=\"_forecast\")\n",
    "\n",
    "print(\"Predicted values:\", forecast)\n",
    "\n",
    "mse = mean_squared_error(y_test, forecast)\n",
    "print(\"Mean Squared Error:\", mse)\n",
    "\n",
    "mae = mean_absolute_error(y_test, forecast)\n",
    "print(\"Mean Absolute Error:\", mae)\n",
    "\n",
    "rmse = np.sqrt(mse)\n",
    "print(\"Root Mean Squared Error:\", rmse)"
   ]
  },
  {
   "cell_type": "code",
   "execution_count": 7,
   "metadata": {},
   "outputs": [],
   "source": [
    "df = forecast_df[forecast_df[\"forecast_data\"].notna()]\n",
    "df = df.drop(columns=[\"Temperature\",\"Temperature24\",\"Temperature48\",\"Temperature72\",\"Hour\",\"Participation_Phase\"])\n",
    "\n",
    "df.to_csv(parent_directory+\"/Arima/predictions/common_records/arima_common_records_method_2_75_25.csv\",index=True)"
   ]
  },
  {
   "cell_type": "markdown",
   "metadata": {},
   "source": [
    "80 / 20 Ratio"
   ]
  },
  {
   "cell_type": "code",
   "execution_count": 4,
   "metadata": {},
   "outputs": [
    {
     "data": {
      "text/plain": [
       "0         False\n",
       "1         False\n",
       "2         False\n",
       "3         False\n",
       "4         False\n",
       "          ...  \n",
       "366715    False\n",
       "366716    False\n",
       "366717    False\n",
       "366718    False\n",
       "366719    False\n",
       "Name: Demand_kWh, Length: 366720, dtype: bool"
      ]
     },
     "execution_count": 4,
     "metadata": {},
     "output_type": "execute_result"
    }
   ],
   "source": [
    "# common_records.set_index('From',inplace=True)\n",
    "\n",
    "y=common_records['Demand_kWh']\n",
    "X= common_records[[\"From\",\"Temperature\"]]\n",
    "X_train, X_test, y_train, y_test = train_test_split(X, y, test_size=0.2, shuffle=False)\n",
    "X_train.head()\n",
    "y.isna()"
   ]
  },
  {
   "cell_type": "code",
   "execution_count": 5,
   "metadata": {},
   "outputs": [
    {
     "name": "stdout",
     "output_type": "stream",
     "text": [
      "                               SARIMAX Results                                \n",
      "==============================================================================\n",
      "Dep. Variable:                      y   No. Observations:               293376\n",
      "Model:               SARIMAX(4, 1, 2)   Log Likelihood             -346864.983\n",
      "Date:                Sun, 16 Jun 2024   AIC                         693743.965\n",
      "Time:                        10:50:59   BIC                         693818.090\n",
      "Sample:                             0   HQIC                        693765.425\n",
      "                             - 293376                                         \n",
      "Covariance Type:                  opg                                         \n",
      "==============================================================================\n",
      "                 coef    std err          z      P>|z|      [0.025      0.975]\n",
      "------------------------------------------------------------------------------\n",
      "ar.L1          1.4361      0.004    386.991      0.000       1.429       1.443\n",
      "ar.L2         -0.4980      0.003   -171.393      0.000      -0.504      -0.492\n",
      "ar.L3          0.0547      0.002     25.298      0.000       0.050       0.059\n",
      "ar.L4         -0.0842      0.001    -62.996      0.000      -0.087      -0.082\n",
      "ma.L1         -1.8174      0.004   -503.608      0.000      -1.825      -1.810\n",
      "ma.L2          0.8254      0.004    235.572      0.000       0.819       0.832\n",
      "sigma2         0.6230      0.001    810.177      0.000       0.621       0.624\n",
      "===================================================================================\n",
      "Ljung-Box (L1) (Q):                   0.10   Jarque-Bera (JB):            716406.17\n",
      "Prob(Q):                              0.76   Prob(JB):                         0.00\n",
      "Heteroskedasticity (H):               1.91   Skew:                             1.02\n",
      "Prob(H) (two-sided):                  0.00   Kurtosis:                        10.38\n",
      "===================================================================================\n",
      "\n",
      "Warnings:\n",
      "[1] Covariance matrix calculated using the outer product of gradients (complex-step).\n"
     ]
    }
   ],
   "source": [
    "model = auto_arima(y_train,\n",
    "                   exogenous=X_train, \n",
    "                   suppress_warnings=True, \n",
    "                   error_action=\"ignore\")\n",
    "\n",
    "print(model.summary())"
   ]
  },
  {
   "cell_type": "code",
   "execution_count": 6,
   "metadata": {},
   "outputs": [
    {
     "name": "stdout",
     "output_type": "stream",
     "text": [
      "Predicted values: 293376    1.971861\n",
      "293377    2.534848\n",
      "293378    2.858343\n",
      "293379    3.123538\n",
      "293380    3.296563\n",
      "            ...   \n",
      "366715    2.863245\n",
      "366716    2.863245\n",
      "366717    2.863245\n",
      "366718    2.863245\n",
      "366719    2.863245\n",
      "Name: forecast_data, Length: 73344, dtype: float64\n",
      "Mean Squared Error: 4.623496524018266\n",
      "Mean Absolute Error: 1.720002282257764\n",
      "Root Mean Squared Error: 2.1502317372828137\n"
     ]
    }
   ],
   "source": [
    "n_periods = len(y_test)\n",
    "\n",
    "forecast = model.predict(n_periods=n_periods, exogenous=X_test)\n",
    "forecast.name = \"forecast_data\"\n",
    "forecast_df = common_records.join(forecast,how=\"left\",rsuffix=\"_forecast\")\n",
    "\n",
    "print(\"Predicted values:\", forecast)\n",
    "\n",
    "mse = mean_squared_error(y_test, forecast)\n",
    "print(\"Mean Squared Error:\", mse)\n",
    "\n",
    "mae = mean_absolute_error(y_test, forecast)\n",
    "print(\"Mean Absolute Error:\", mae)\n",
    "\n",
    "rmse = np.sqrt(mse)\n",
    "print(\"Root Mean Squared Error:\", rmse)"
   ]
  },
  {
   "cell_type": "code",
   "execution_count": 7,
   "metadata": {},
   "outputs": [],
   "source": [
    "df = forecast_df[forecast_df[\"forecast_data\"].notna()]\n",
    "df = df.drop(columns=[\"Temperature\",\"Temperature24\",\"Temperature48\",\"Temperature72\",\"Hour\",\"Participation_Phase\"])\n",
    "\n",
    "df.to_csv(parent_directory+\"/Arima/predictions/Common Records/arima_common_records_method_2_80_20.csv\",index=True)"
   ]
  },
  {
   "cell_type": "markdown",
   "metadata": {},
   "source": [
    "50 / 50 Ratio"
   ]
  },
  {
   "cell_type": "code",
   "execution_count": 12,
   "metadata": {},
   "outputs": [
    {
     "data": {
      "text/html": [
       "<div>\n",
       "<style scoped>\n",
       "    .dataframe tbody tr th:only-of-type {\n",
       "        vertical-align: middle;\n",
       "    }\n",
       "\n",
       "    .dataframe tbody tr th {\n",
       "        vertical-align: top;\n",
       "    }\n",
       "\n",
       "    .dataframe thead th {\n",
       "        text-align: right;\n",
       "    }\n",
       "</style>\n",
       "<table border=\"1\" class=\"dataframe\">\n",
       "  <thead>\n",
       "    <tr style=\"text-align: right;\">\n",
       "      <th></th>\n",
       "      <th>From</th>\n",
       "      <th>Temperature</th>\n",
       "    </tr>\n",
       "  </thead>\n",
       "  <tbody>\n",
       "    <tr>\n",
       "      <th>0</th>\n",
       "      <td>2020-02-01 00:00:00+00:00</td>\n",
       "      <td>7.6</td>\n",
       "    </tr>\n",
       "    <tr>\n",
       "      <th>1</th>\n",
       "      <td>2020-02-01 01:00:00+00:00</td>\n",
       "      <td>8.2</td>\n",
       "    </tr>\n",
       "    <tr>\n",
       "      <th>2</th>\n",
       "      <td>2020-02-01 02:00:00+00:00</td>\n",
       "      <td>8.4</td>\n",
       "    </tr>\n",
       "    <tr>\n",
       "      <th>3</th>\n",
       "      <td>2020-02-01 03:00:00+00:00</td>\n",
       "      <td>8.4</td>\n",
       "    </tr>\n",
       "    <tr>\n",
       "      <th>4</th>\n",
       "      <td>2020-02-01 04:00:00+00:00</td>\n",
       "      <td>8.2</td>\n",
       "    </tr>\n",
       "  </tbody>\n",
       "</table>\n",
       "</div>"
      ],
      "text/plain": [
       "                        From  Temperature\n",
       "0  2020-02-01 00:00:00+00:00          7.6\n",
       "1  2020-02-01 01:00:00+00:00          8.2\n",
       "2  2020-02-01 02:00:00+00:00          8.4\n",
       "3  2020-02-01 03:00:00+00:00          8.4\n",
       "4  2020-02-01 04:00:00+00:00          8.2"
      ]
     },
     "execution_count": 12,
     "metadata": {},
     "output_type": "execute_result"
    }
   ],
   "source": [
    "X_train, X_test, y_train, y_test = train_test_split(X, y, test_size=0.5, shuffle=False)\n",
    "X_train.head()"
   ]
  },
  {
   "cell_type": "code",
   "execution_count": 13,
   "metadata": {},
   "outputs": [
    {
     "name": "stdout",
     "output_type": "stream",
     "text": [
      "                               SARIMAX Results                                \n",
      "==============================================================================\n",
      "Dep. Variable:                      y   No. Observations:               183360\n",
      "Model:               SARIMAX(1, 1, 1)   Log Likelihood             -198054.227\n",
      "Date:                Sun, 16 Jun 2024   AIC                         396114.454\n",
      "Time:                        11:34:10   BIC                         396144.812\n",
      "Sample:                             0   HQIC                        396123.423\n",
      "                             - 183360                                         \n",
      "Covariance Type:                  opg                                         \n",
      "==============================================================================\n",
      "                 coef    std err          z      P>|z|      [0.025      0.975]\n",
      "------------------------------------------------------------------------------\n",
      "ar.L1          0.6200      0.001    506.584      0.000       0.618       0.622\n",
      "ma.L1         -0.9784      0.000  -2419.621      0.000      -0.979      -0.978\n",
      "sigma2         0.5078      0.001    678.915      0.000       0.506       0.509\n",
      "===================================================================================\n",
      "Ljung-Box (L1) (Q):                   0.31   Jarque-Bera (JB):            579033.26\n",
      "Prob(Q):                              0.58   Prob(JB):                         0.00\n",
      "Heteroskedasticity (H):               1.81   Skew:                             1.27\n",
      "Prob(H) (two-sided):                  0.00   Kurtosis:                        11.33\n",
      "===================================================================================\n",
      "\n",
      "Warnings:\n",
      "[1] Covariance matrix calculated using the outer product of gradients (complex-step).\n"
     ]
    }
   ],
   "source": [
    "\n",
    "model = auto_arima(y_train,\n",
    "                   exogenous=X_train, \n",
    "                   suppress_warnings=True, \n",
    "                   error_action=\"ignore\")\n",
    "\n",
    "print(model.summary())"
   ]
  },
  {
   "cell_type": "code",
   "execution_count": 14,
   "metadata": {},
   "outputs": [
    {
     "name": "stdout",
     "output_type": "stream",
     "text": [
      "Predicted values: 183360    1.331058\n",
      "183361    1.628704\n",
      "183362    1.813250\n",
      "183363    1.927673\n",
      "183364    1.998617\n",
      "            ...   \n",
      "366715    2.114379\n",
      "366716    2.114379\n",
      "366717    2.114379\n",
      "366718    2.114379\n",
      "366719    2.114379\n",
      "Name: forecast_data, Length: 183360, dtype: float64\n",
      "Mean Squared Error: 5.310102859644252\n",
      "Mean Absolute Error: 1.714165343842552\n",
      "Root Mean Squared Error: 2.3043660428942823\n"
     ]
    }
   ],
   "source": [
    "n_periods = len(y_test)\n",
    "\n",
    "forecast = model.predict(n_periods=n_periods, exogenous=X_test)\n",
    "forecast.name = \"forecast_data\"\n",
    "forecast_df = common_records.join(forecast,how=\"left\",rsuffix=\"_forecast\")\n",
    "\n",
    "print(\"Predicted values:\", forecast)\n",
    "\n",
    "mse = mean_squared_error(y_test, forecast)\n",
    "print(\"Mean Squared Error:\", mse)\n",
    "\n",
    "mae = mean_absolute_error(y_test, forecast)\n",
    "print(\"Mean Absolute Error:\", mae)\n",
    "\n",
    "rmse = np.sqrt(mse)\n",
    "print(\"Root Mean Squared Error:\", rmse)"
   ]
  },
  {
   "cell_type": "code",
   "execution_count": 15,
   "metadata": {},
   "outputs": [],
   "source": [
    "df = forecast_df[forecast_df[\"forecast_data\"].notna()]\n",
    "df = df.drop(columns=[\"Temperature\",\"Temperature24\",\"Temperature48\",\"Temperature72\",\"Hour\",\"Participation_Phase\"])\n",
    "\n",
    "df.to_csv(parent_directory+\"/Arima/predictions/Common Records/arima_common_records_method_2_50_50.csv\",index=True)"
   ]
  }
 ],
 "metadata": {
  "kernelspec": {
   "display_name": "Python 3",
   "language": "python",
   "name": "python3"
  },
  "language_info": {
   "codemirror_mode": {
    "name": "ipython",
    "version": 3
   },
   "file_extension": ".py",
   "mimetype": "text/x-python",
   "name": "python",
   "nbconvert_exporter": "python",
   "pygments_lexer": "ipython3",
   "version": "3.12.0"
  }
 },
 "nbformat": 4,
 "nbformat_minor": 2
}
