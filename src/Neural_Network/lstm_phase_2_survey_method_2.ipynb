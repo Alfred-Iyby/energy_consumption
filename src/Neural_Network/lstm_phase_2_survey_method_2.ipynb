{
 "cells": [
  {
   "cell_type": "code",
   "execution_count": 1,
   "metadata": {},
   "outputs": [],
   "source": [
    "import os\n",
    "import numpy as np\n",
    "import pandas as pd\n",
    "import tensorflow as tf\n",
    "from tensorflow.keras.models import Sequential\n",
    "from tensorflow.keras.layers import Dense, Conv1D, MaxPooling1D, Flatten, LSTM, TimeDistributed\n",
    "from sklearn.model_selection import train_test_split\n",
    "from sklearn.preprocessing import MinMaxScaler\n",
    "from sklearn.metrics import mean_squared_error, mean_absolute_error\n",
    "from sklearn.preprocessing import MinMaxScaler, LabelEncoder\n",
    "from tensorflow.keras.optimizers import Adam\n"
   ]
  },
  {
   "cell_type": "code",
   "execution_count": 2,
   "metadata": {},
   "outputs": [
    {
     "data": {
      "text/html": [
       "<div>\n",
       "<style scoped>\n",
       "    .dataframe tbody tr th:only-of-type {\n",
       "        vertical-align: middle;\n",
       "    }\n",
       "\n",
       "    .dataframe tbody tr th {\n",
       "        vertical-align: top;\n",
       "    }\n",
       "\n",
       "    .dataframe thead th {\n",
       "        text-align: right;\n",
       "    }\n",
       "</style>\n",
       "<table border=\"1\" class=\"dataframe\">\n",
       "  <thead>\n",
       "    <tr style=\"text-align: right;\">\n",
       "      <th></th>\n",
       "      <th>ID</th>\n",
       "      <th>From</th>\n",
       "      <th>Date</th>\n",
       "      <th>Hour</th>\n",
       "      <th>Participation_Phase</th>\n",
       "      <th>Demand_kWh</th>\n",
       "      <th>Temperature</th>\n",
       "      <th>home_size</th>\n",
       "      <th>electric_car</th>\n",
       "      <th>no_of_people</th>\n",
       "      <th>electrically_heated</th>\n",
       "    </tr>\n",
       "  </thead>\n",
       "  <tbody>\n",
       "    <tr>\n",
       "      <th>0</th>\n",
       "      <td>Exp_3928</td>\n",
       "      <td>2020-12-01 00:00:00+00:00</td>\n",
       "      <td>2020-12-01</td>\n",
       "      <td>1</td>\n",
       "      <td>Phase_2</td>\n",
       "      <td>4.43</td>\n",
       "      <td>4.2</td>\n",
       "      <td>120-159 m2</td>\n",
       "      <td>No</td>\n",
       "      <td>4</td>\n",
       "      <td>True</td>\n",
       "    </tr>\n",
       "    <tr>\n",
       "      <th>1</th>\n",
       "      <td>Exp_3928</td>\n",
       "      <td>2020-12-01 01:00:00+00:00</td>\n",
       "      <td>2020-12-01</td>\n",
       "      <td>2</td>\n",
       "      <td>Phase_2</td>\n",
       "      <td>4.50</td>\n",
       "      <td>4.2</td>\n",
       "      <td>120-159 m2</td>\n",
       "      <td>No</td>\n",
       "      <td>4</td>\n",
       "      <td>True</td>\n",
       "    </tr>\n",
       "    <tr>\n",
       "      <th>2</th>\n",
       "      <td>Exp_3928</td>\n",
       "      <td>2020-12-01 02:00:00+00:00</td>\n",
       "      <td>2020-12-01</td>\n",
       "      <td>3</td>\n",
       "      <td>Phase_2</td>\n",
       "      <td>5.44</td>\n",
       "      <td>3.9</td>\n",
       "      <td>120-159 m2</td>\n",
       "      <td>No</td>\n",
       "      <td>4</td>\n",
       "      <td>True</td>\n",
       "    </tr>\n",
       "    <tr>\n",
       "      <th>3</th>\n",
       "      <td>Exp_3928</td>\n",
       "      <td>2020-12-01 03:00:00+00:00</td>\n",
       "      <td>2020-12-01</td>\n",
       "      <td>4</td>\n",
       "      <td>Phase_2</td>\n",
       "      <td>4.50</td>\n",
       "      <td>3.1</td>\n",
       "      <td>120-159 m2</td>\n",
       "      <td>No</td>\n",
       "      <td>4</td>\n",
       "      <td>True</td>\n",
       "    </tr>\n",
       "    <tr>\n",
       "      <th>4</th>\n",
       "      <td>Exp_3928</td>\n",
       "      <td>2020-12-01 04:00:00+00:00</td>\n",
       "      <td>2020-12-01</td>\n",
       "      <td>5</td>\n",
       "      <td>Phase_2</td>\n",
       "      <td>4.48</td>\n",
       "      <td>2.4</td>\n",
       "      <td>120-159 m2</td>\n",
       "      <td>No</td>\n",
       "      <td>4</td>\n",
       "      <td>True</td>\n",
       "    </tr>\n",
       "  </tbody>\n",
       "</table>\n",
       "</div>"
      ],
      "text/plain": [
       "         ID                       From        Date  Hour Participation_Phase  \\\n",
       "0  Exp_3928  2020-12-01 00:00:00+00:00  2020-12-01     1             Phase_2   \n",
       "1  Exp_3928  2020-12-01 01:00:00+00:00  2020-12-01     2             Phase_2   \n",
       "2  Exp_3928  2020-12-01 02:00:00+00:00  2020-12-01     3             Phase_2   \n",
       "3  Exp_3928  2020-12-01 03:00:00+00:00  2020-12-01     4             Phase_2   \n",
       "4  Exp_3928  2020-12-01 04:00:00+00:00  2020-12-01     5             Phase_2   \n",
       "\n",
       "   Demand_kWh  Temperature   home_size electric_car  no_of_people  \\\n",
       "0        4.43          4.2  120-159 m2           No             4   \n",
       "1        4.50          4.2  120-159 m2           No             4   \n",
       "2        5.44          3.9  120-159 m2           No             4   \n",
       "3        4.50          3.1  120-159 m2           No             4   \n",
       "4        4.48          2.4  120-159 m2           No             4   \n",
       "\n",
       "   electrically_heated  \n",
       "0                 True  \n",
       "1                 True  \n",
       "2                 True  \n",
       "3                 True  \n",
       "4                 True  "
      ]
     },
     "execution_count": 2,
     "metadata": {},
     "output_type": "execute_result"
    }
   ],
   "source": [
    "parent_directory = os.path.abspath(os.path.join(os.getcwd(), os.pardir))\n",
    "main_directory = os.path.dirname(parent_directory)\n",
    "phase_2 =  pd.read_csv(main_directory + '/data/phase_2_data_with_survey.csv')\n",
    "phase_2.head()"
   ]
  },
  {
   "cell_type": "code",
   "execution_count": 3,
   "metadata": {},
   "outputs": [],
   "source": [
    "unique_ids = phase_2[\"ID\"].unique()[:500]\n",
    "phase_2 = phase_2[phase_2[\"ID\"].isin(unique_ids)]"
   ]
  },
  {
   "cell_type": "code",
   "execution_count": 4,
   "metadata": {},
   "outputs": [
    {
     "data": {
      "text/html": [
       "<div>\n",
       "<style scoped>\n",
       "    .dataframe tbody tr th:only-of-type {\n",
       "        vertical-align: middle;\n",
       "    }\n",
       "\n",
       "    .dataframe tbody tr th {\n",
       "        vertical-align: top;\n",
       "    }\n",
       "\n",
       "    .dataframe thead th {\n",
       "        text-align: right;\n",
       "    }\n",
       "</style>\n",
       "<table border=\"1\" class=\"dataframe\">\n",
       "  <thead>\n",
       "    <tr style=\"text-align: right;\">\n",
       "      <th></th>\n",
       "      <th>ID</th>\n",
       "      <th>Date</th>\n",
       "      <th>Hour</th>\n",
       "      <th>Participation_Phase</th>\n",
       "      <th>Demand_kWh</th>\n",
       "      <th>Temperature</th>\n",
       "      <th>home_size</th>\n",
       "      <th>electric_car</th>\n",
       "      <th>no_of_people</th>\n",
       "      <th>electrically_heated</th>\n",
       "    </tr>\n",
       "    <tr>\n",
       "      <th>From</th>\n",
       "      <th></th>\n",
       "      <th></th>\n",
       "      <th></th>\n",
       "      <th></th>\n",
       "      <th></th>\n",
       "      <th></th>\n",
       "      <th></th>\n",
       "      <th></th>\n",
       "      <th></th>\n",
       "      <th></th>\n",
       "    </tr>\n",
       "  </thead>\n",
       "  <tbody>\n",
       "    <tr>\n",
       "      <th>2020-12-01 00:00:00+00:00</th>\n",
       "      <td>Exp_3928</td>\n",
       "      <td>2020-12-01</td>\n",
       "      <td>1</td>\n",
       "      <td>Phase_2</td>\n",
       "      <td>4.43</td>\n",
       "      <td>4.2</td>\n",
       "      <td>120-159 m2</td>\n",
       "      <td>No</td>\n",
       "      <td>4</td>\n",
       "      <td>True</td>\n",
       "    </tr>\n",
       "    <tr>\n",
       "      <th>2020-12-01 01:00:00+00:00</th>\n",
       "      <td>Exp_3928</td>\n",
       "      <td>2020-12-01</td>\n",
       "      <td>2</td>\n",
       "      <td>Phase_2</td>\n",
       "      <td>4.50</td>\n",
       "      <td>4.2</td>\n",
       "      <td>120-159 m2</td>\n",
       "      <td>No</td>\n",
       "      <td>4</td>\n",
       "      <td>True</td>\n",
       "    </tr>\n",
       "    <tr>\n",
       "      <th>2020-12-01 02:00:00+00:00</th>\n",
       "      <td>Exp_3928</td>\n",
       "      <td>2020-12-01</td>\n",
       "      <td>3</td>\n",
       "      <td>Phase_2</td>\n",
       "      <td>5.44</td>\n",
       "      <td>3.9</td>\n",
       "      <td>120-159 m2</td>\n",
       "      <td>No</td>\n",
       "      <td>4</td>\n",
       "      <td>True</td>\n",
       "    </tr>\n",
       "    <tr>\n",
       "      <th>2020-12-01 03:00:00+00:00</th>\n",
       "      <td>Exp_3928</td>\n",
       "      <td>2020-12-01</td>\n",
       "      <td>4</td>\n",
       "      <td>Phase_2</td>\n",
       "      <td>4.50</td>\n",
       "      <td>3.1</td>\n",
       "      <td>120-159 m2</td>\n",
       "      <td>No</td>\n",
       "      <td>4</td>\n",
       "      <td>True</td>\n",
       "    </tr>\n",
       "    <tr>\n",
       "      <th>2020-12-01 04:00:00+00:00</th>\n",
       "      <td>Exp_3928</td>\n",
       "      <td>2020-12-01</td>\n",
       "      <td>5</td>\n",
       "      <td>Phase_2</td>\n",
       "      <td>4.48</td>\n",
       "      <td>2.4</td>\n",
       "      <td>120-159 m2</td>\n",
       "      <td>No</td>\n",
       "      <td>4</td>\n",
       "      <td>True</td>\n",
       "    </tr>\n",
       "  </tbody>\n",
       "</table>\n",
       "</div>"
      ],
      "text/plain": [
       "                                 ID        Date  Hour Participation_Phase  \\\n",
       "From                                                                        \n",
       "2020-12-01 00:00:00+00:00  Exp_3928  2020-12-01     1             Phase_2   \n",
       "2020-12-01 01:00:00+00:00  Exp_3928  2020-12-01     2             Phase_2   \n",
       "2020-12-01 02:00:00+00:00  Exp_3928  2020-12-01     3             Phase_2   \n",
       "2020-12-01 03:00:00+00:00  Exp_3928  2020-12-01     4             Phase_2   \n",
       "2020-12-01 04:00:00+00:00  Exp_3928  2020-12-01     5             Phase_2   \n",
       "\n",
       "                           Demand_kWh  Temperature   home_size electric_car  \\\n",
       "From                                                                          \n",
       "2020-12-01 00:00:00+00:00        4.43          4.2  120-159 m2           No   \n",
       "2020-12-01 01:00:00+00:00        4.50          4.2  120-159 m2           No   \n",
       "2020-12-01 02:00:00+00:00        5.44          3.9  120-159 m2           No   \n",
       "2020-12-01 03:00:00+00:00        4.50          3.1  120-159 m2           No   \n",
       "2020-12-01 04:00:00+00:00        4.48          2.4  120-159 m2           No   \n",
       "\n",
       "                           no_of_people  electrically_heated  \n",
       "From                                                          \n",
       "2020-12-01 00:00:00+00:00             4                 True  \n",
       "2020-12-01 01:00:00+00:00             4                 True  \n",
       "2020-12-01 02:00:00+00:00             4                 True  \n",
       "2020-12-01 03:00:00+00:00             4                 True  \n",
       "2020-12-01 04:00:00+00:00             4                 True  "
      ]
     },
     "execution_count": 4,
     "metadata": {},
     "output_type": "execute_result"
    }
   ],
   "source": [
    "# phase_1['From'] = pd.to_datetime(phase_1['From'])\n",
    "# phase_1['Day'] = phase_1['From'].dt.day\n",
    "# phase_1['Month'] = phase_1['From'].dt.month\n",
    "# phase_1['Weekday'] = phase_1['From'].dt.weekday\n",
    "phase_2.set_index('From',inplace=True)\n",
    "\n",
    "phase_2.head()"
   ]
  },
  {
   "cell_type": "code",
   "execution_count": 4,
   "metadata": {},
   "outputs": [
    {
     "data": {
      "text/html": [
       "<div>\n",
       "<style scoped>\n",
       "    .dataframe tbody tr th:only-of-type {\n",
       "        vertical-align: middle;\n",
       "    }\n",
       "\n",
       "    .dataframe tbody tr th {\n",
       "        vertical-align: top;\n",
       "    }\n",
       "\n",
       "    .dataframe thead th {\n",
       "        text-align: right;\n",
       "    }\n",
       "</style>\n",
       "<table border=\"1\" class=\"dataframe\">\n",
       "  <thead>\n",
       "    <tr style=\"text-align: right;\">\n",
       "      <th></th>\n",
       "      <th>ID</th>\n",
       "      <th>From</th>\n",
       "      <th>Date</th>\n",
       "      <th>Hour</th>\n",
       "      <th>Participation_Phase</th>\n",
       "      <th>Demand_kWh</th>\n",
       "      <th>Temperature</th>\n",
       "      <th>home_size</th>\n",
       "      <th>electric_car</th>\n",
       "      <th>no_of_people</th>\n",
       "      <th>electrically_heated</th>\n",
       "    </tr>\n",
       "  </thead>\n",
       "  <tbody>\n",
       "    <tr>\n",
       "      <th>0</th>\n",
       "      <td>406</td>\n",
       "      <td>0</td>\n",
       "      <td>0</td>\n",
       "      <td>1</td>\n",
       "      <td>0</td>\n",
       "      <td>4.43</td>\n",
       "      <td>4.2</td>\n",
       "      <td>139.5</td>\n",
       "      <td>0</td>\n",
       "      <td>4</td>\n",
       "      <td>True</td>\n",
       "    </tr>\n",
       "    <tr>\n",
       "      <th>1</th>\n",
       "      <td>406</td>\n",
       "      <td>1</td>\n",
       "      <td>0</td>\n",
       "      <td>2</td>\n",
       "      <td>0</td>\n",
       "      <td>4.50</td>\n",
       "      <td>4.2</td>\n",
       "      <td>139.5</td>\n",
       "      <td>0</td>\n",
       "      <td>4</td>\n",
       "      <td>True</td>\n",
       "    </tr>\n",
       "    <tr>\n",
       "      <th>2</th>\n",
       "      <td>406</td>\n",
       "      <td>2</td>\n",
       "      <td>0</td>\n",
       "      <td>3</td>\n",
       "      <td>0</td>\n",
       "      <td>5.44</td>\n",
       "      <td>3.9</td>\n",
       "      <td>139.5</td>\n",
       "      <td>0</td>\n",
       "      <td>4</td>\n",
       "      <td>True</td>\n",
       "    </tr>\n",
       "    <tr>\n",
       "      <th>3</th>\n",
       "      <td>406</td>\n",
       "      <td>3</td>\n",
       "      <td>0</td>\n",
       "      <td>4</td>\n",
       "      <td>0</td>\n",
       "      <td>4.50</td>\n",
       "      <td>3.1</td>\n",
       "      <td>139.5</td>\n",
       "      <td>0</td>\n",
       "      <td>4</td>\n",
       "      <td>True</td>\n",
       "    </tr>\n",
       "    <tr>\n",
       "      <th>4</th>\n",
       "      <td>406</td>\n",
       "      <td>4</td>\n",
       "      <td>0</td>\n",
       "      <td>5</td>\n",
       "      <td>0</td>\n",
       "      <td>4.48</td>\n",
       "      <td>2.4</td>\n",
       "      <td>139.5</td>\n",
       "      <td>0</td>\n",
       "      <td>4</td>\n",
       "      <td>True</td>\n",
       "    </tr>\n",
       "  </tbody>\n",
       "</table>\n",
       "</div>"
      ],
      "text/plain": [
       "    ID  From  Date  Hour  Participation_Phase  Demand_kWh  Temperature  \\\n",
       "0  406     0     0     1                    0        4.43          4.2   \n",
       "1  406     1     0     2                    0        4.50          4.2   \n",
       "2  406     2     0     3                    0        5.44          3.9   \n",
       "3  406     3     0     4                    0        4.50          3.1   \n",
       "4  406     4     0     5                    0        4.48          2.4   \n",
       "\n",
       "   home_size  electric_car  no_of_people  electrically_heated  \n",
       "0      139.5             0             4                 True  \n",
       "1      139.5             0             4                 True  \n",
       "2      139.5             0             4                 True  \n",
       "3      139.5             0             4                 True  \n",
       "4      139.5             0             4                 True  "
      ]
     },
     "execution_count": 4,
     "metadata": {},
     "output_type": "execute_result"
    }
   ],
   "source": [
    "def convert_range_to_avg(range_str):\n",
    "    try:\n",
    "        if 'm2' in range_str:\n",
    "            range_str = range_str.replace(' m2', '')\n",
    "        if '-' in range_str:\n",
    "            numbers = range_str.split('-')\n",
    "            avg_value = (float(numbers[0]) + float(numbers[1])) / 2\n",
    "        elif 'or larger' in range_str:\n",
    "            number = range_str.replace(' or larger', '')\n",
    "            avg_value = float(number)\n",
    "        else:\n",
    "            avg_value = float(range_str)\n",
    "        return avg_value\n",
    "    except ValueError:\n",
    "        return np.nan\n",
    "\n",
    "phase_2['home_size'] = phase_2['home_size'].apply(convert_range_to_avg)\n",
    "\n",
    "label_encoders = {}\n",
    "for column in phase_2.select_dtypes(include=['object']).columns:\n",
    "    le = LabelEncoder()\n",
    "    phase_2[column] = le.fit_transform(phase_2[column])\n",
    "    label_encoders[column] = le\n",
    "\n",
    "phase_2.head()"
   ]
  },
  {
   "cell_type": "markdown",
   "metadata": {},
   "source": [
    "75/25"
   ]
  },
  {
   "cell_type": "code",
   "execution_count": 6,
   "metadata": {},
   "outputs": [],
   "source": [
    "df_features = ['Temperature']\n",
    "df_target = [\"Demand_kWh\"]\n",
    "\n",
    "X= phase_2[df_features].values\n",
    "y=phase_2[df_target].values\n",
    "\n",
    "X = X.reshape((X.shape[0], 1, X.shape[1])) \n",
    "\n",
    "X_train, X_test, y_train, y_test = train_test_split(X, y, test_size=0.25, shuffle=False)"
   ]
  },
  {
   "cell_type": "code",
   "execution_count": 7,
   "metadata": {},
   "outputs": [],
   "source": [
    "scaler_X = MinMaxScaler()\n",
    "scaler_y = MinMaxScaler()\n",
    "\n",
    "X_train = scaler_X.fit_transform(X_train.reshape(-1, X_train.shape[1])).reshape(X_train.shape)\n",
    "X_test = scaler_X.transform(X_test.reshape(-1, X_test.shape[1])).reshape(X_test.shape)\n",
    "\n",
    "y_train = scaler_y.fit_transform(y_train.reshape(-1, 1)).flatten()\n",
    "y_test = scaler_y.transform(y_test.reshape(-1, 1)).flatten()"
   ]
  },
  {
   "cell_type": "code",
   "execution_count": 8,
   "metadata": {},
   "outputs": [
    {
     "name": "stderr",
     "output_type": "stream",
     "text": [
      "c:\\Users\\alfre\\AppData\\Local\\Programs\\Python\\Python312\\Lib\\site-packages\\keras\\src\\layers\\rnn\\rnn.py:204: UserWarning: Do not pass an `input_shape`/`input_dim` argument to a layer. When using Sequential models, prefer using an `Input(shape)` object as the first layer in the model instead.\n",
      "  super().__init__(**kwargs)\n"
     ]
    }
   ],
   "source": [
    "model = Sequential()\n",
    "model.add(LSTM(units=64, activation='relu', input_shape=(1, len(df_features)))) \n",
    "model.add(Dense(50, activation='relu'))\n",
    "model.add(Dense(1))\n",
    "learning_rate = 0.001\n",
    "optimizer = Adam(learning_rate=learning_rate)\n",
    "\n",
    "model.compile(optimizer=optimizer, loss='mse')"
   ]
  },
  {
   "cell_type": "code",
   "execution_count": 9,
   "metadata": {},
   "outputs": [
    {
     "name": "stdout",
     "output_type": "stream",
     "text": [
      "Epoch 1/10\n",
      "\u001b[1m65250/65250\u001b[0m \u001b[32m━━━━━━━━━━━━━━━━━━━━\u001b[0m\u001b[37m\u001b[0m \u001b[1m86s\u001b[0m 1ms/step - loss: 0.0096 - val_loss: 0.0099\n",
      "Epoch 2/10\n",
      "\u001b[1m65250/65250\u001b[0m \u001b[32m━━━━━━━━━━━━━━━━━━━━\u001b[0m\u001b[37m\u001b[0m \u001b[1m84s\u001b[0m 1ms/step - loss: 0.0095 - val_loss: 0.0101\n",
      "Epoch 3/10\n",
      "\u001b[1m65250/65250\u001b[0m \u001b[32m━━━━━━━━━━━━━━━━━━━━\u001b[0m\u001b[37m\u001b[0m \u001b[1m81s\u001b[0m 1ms/step - loss: 0.0095 - val_loss: 0.0102\n",
      "Epoch 4/10\n",
      "\u001b[1m65250/65250\u001b[0m \u001b[32m━━━━━━━━━━━━━━━━━━━━\u001b[0m\u001b[37m\u001b[0m \u001b[1m81s\u001b[0m 1ms/step - loss: 0.0095 - val_loss: 0.0099\n",
      "Epoch 5/10\n",
      "\u001b[1m65250/65250\u001b[0m \u001b[32m━━━━━━━━━━━━━━━━━━━━\u001b[0m\u001b[37m\u001b[0m \u001b[1m81s\u001b[0m 1ms/step - loss: 0.0095 - val_loss: 0.0103\n",
      "Epoch 6/10\n",
      "\u001b[1m65250/65250\u001b[0m \u001b[32m━━━━━━━━━━━━━━━━━━━━\u001b[0m\u001b[37m\u001b[0m \u001b[1m79s\u001b[0m 1ms/step - loss: 0.0095 - val_loss: 0.0105\n",
      "Epoch 7/10\n",
      "\u001b[1m65250/65250\u001b[0m \u001b[32m━━━━━━━━━━━━━━━━━━━━\u001b[0m\u001b[37m\u001b[0m \u001b[1m80s\u001b[0m 1ms/step - loss: 0.0095 - val_loss: 0.0102\n",
      "Epoch 8/10\n",
      "\u001b[1m65250/65250\u001b[0m \u001b[32m━━━━━━━━━━━━━━━━━━━━\u001b[0m\u001b[37m\u001b[0m \u001b[1m83s\u001b[0m 1ms/step - loss: 0.0096 - val_loss: 0.0096\n",
      "Epoch 9/10\n",
      "\u001b[1m65250/65250\u001b[0m \u001b[32m━━━━━━━━━━━━━━━━━━━━\u001b[0m\u001b[37m\u001b[0m \u001b[1m82s\u001b[0m 1ms/step - loss: 0.0095 - val_loss: 0.0105\n",
      "Epoch 10/10\n",
      "\u001b[1m65250/65250\u001b[0m \u001b[32m━━━━━━━━━━━━━━━━━━━━\u001b[0m\u001b[37m\u001b[0m \u001b[1m81s\u001b[0m 1ms/step - loss: 0.0095 - val_loss: 0.0101\n"
     ]
    }
   ],
   "source": [
    "history = model.fit(X_train, y_train,epochs=10, batch_size=16, validation_data=(X_test, y_test))\n"
   ]
  },
  {
   "cell_type": "code",
   "execution_count": 10,
   "metadata": {},
   "outputs": [
    {
     "name": "stdout",
     "output_type": "stream",
     "text": [
      "\u001b[1m10875/10875\u001b[0m \u001b[32m━━━━━━━━━━━━━━━━━━━━\u001b[0m\u001b[37m\u001b[0m \u001b[1m9s\u001b[0m 790us/step - loss: 0.0094\n",
      "Test Loss: 0.010143236257135868\n",
      "\u001b[1m10875/10875\u001b[0m \u001b[32m━━━━━━━━━━━━━━━━━━━━\u001b[0m\u001b[37m\u001b[0m \u001b[1m8s\u001b[0m 748us/step\n",
      "MSE: 9.87396081034679\n",
      "MAE: 3.0979304513199084\n",
      "RMSE: 3.1422859211642074\n"
     ]
    }
   ],
   "source": [
    "loss = model.evaluate(X_test, y_test)\n",
    "print(f'Test Loss: {loss}')\n",
    "\n",
    "forecast = model.predict(X_test)\n",
    "y_pred = scaler_y.inverse_transform(forecast)\n",
    "\n",
    "forecast_df = pd.DataFrame(data=y_pred, columns=['forecast_data'], index=phase_2.index[:len(y_pred)])\n",
    "\n",
    "forecast_df = phase_2.join(forecast_df, how=\"left\")\n",
    "\n",
    "mse = mean_squared_error(y_test, y_pred)\n",
    "mae = mean_absolute_error(y_test, y_pred)\n",
    "rmse = np.sqrt(mse)\n",
    "\n",
    "print(f'MSE: {mse}')\n",
    "print(f'MAE: {mae}')\n",
    "print(f'RMSE: {rmse}')"
   ]
  },
  {
   "cell_type": "code",
   "execution_count": 11,
   "metadata": {},
   "outputs": [],
   "source": [
    "df = forecast_df[forecast_df[\"forecast_data\"].notna()]\n",
    "df = df.drop(columns=[\"Temperature\",\"Hour\",\"Participation_Phase\"])\n",
    "\n",
    "df.to_csv(parent_directory+\"/Neural_Network/predictions/phase_2_with_survey_data/cnn_lstm_phase_2_with_survey_method_2_75_25.csv\",index=True)"
   ]
  },
  {
   "cell_type": "markdown",
   "metadata": {},
   "source": [
    "80/20"
   ]
  },
  {
   "cell_type": "code",
   "execution_count": 12,
   "metadata": {},
   "outputs": [],
   "source": [
    "df_features = ['Temperature']\n",
    "df_target = [\"Demand_kWh\"]\n",
    "\n",
    "X= phase_2[df_features].values\n",
    "y=phase_2[df_target].values\n",
    "\n",
    "X = X.reshape((X.shape[0], 1, X.shape[1])) \n",
    "\n",
    "X_train, X_test, y_train, y_test = train_test_split(X, y, test_size=0.2, shuffle=False)"
   ]
  },
  {
   "cell_type": "code",
   "execution_count": 13,
   "metadata": {},
   "outputs": [],
   "source": [
    "scaler_X = MinMaxScaler()\n",
    "scaler_y = MinMaxScaler()\n",
    "\n",
    "X_train = scaler_X.fit_transform(X_train.reshape(-1, X_train.shape[1])).reshape(X_train.shape)\n",
    "X_test = scaler_X.transform(X_test.reshape(-1, X_test.shape[1])).reshape(X_test.shape)\n",
    "\n",
    "y_train = scaler_y.fit_transform(y_train.reshape(-1, 1)).flatten()\n",
    "y_test = scaler_y.transform(y_test.reshape(-1, 1)).flatten()"
   ]
  },
  {
   "cell_type": "code",
   "execution_count": 14,
   "metadata": {},
   "outputs": [
    {
     "name": "stderr",
     "output_type": "stream",
     "text": [
      "c:\\Users\\alfre\\AppData\\Local\\Programs\\Python\\Python312\\Lib\\site-packages\\keras\\src\\layers\\rnn\\rnn.py:204: UserWarning: Do not pass an `input_shape`/`input_dim` argument to a layer. When using Sequential models, prefer using an `Input(shape)` object as the first layer in the model instead.\n",
      "  super().__init__(**kwargs)\n"
     ]
    }
   ],
   "source": [
    "model = Sequential()\n",
    "model.add(LSTM(units=64, activation='relu', input_shape=(1, len(df_features)))) \n",
    "model.add(Dense(50, activation='relu'))\n",
    "model.add(Dense(1))\n",
    "learning_rate = 0.001\n",
    "optimizer = Adam(learning_rate=learning_rate)\n",
    "\n",
    "model.compile(optimizer=optimizer, loss='mse')"
   ]
  },
  {
   "cell_type": "code",
   "execution_count": 15,
   "metadata": {},
   "outputs": [
    {
     "name": "stdout",
     "output_type": "stream",
     "text": [
      "Epoch 1/10\n",
      "\u001b[1m69600/69600\u001b[0m \u001b[32m━━━━━━━━━━━━━━━━━━━━\u001b[0m\u001b[37m\u001b[0m \u001b[1m95s\u001b[0m 1ms/step - loss: 0.0095 - val_loss: 0.0103\n",
      "Epoch 2/10\n",
      "\u001b[1m69600/69600\u001b[0m \u001b[32m━━━━━━━━━━━━━━━━━━━━\u001b[0m\u001b[37m\u001b[0m \u001b[1m89s\u001b[0m 1ms/step - loss: 0.0094 - val_loss: 0.0103\n",
      "Epoch 3/10\n",
      "\u001b[1m69600/69600\u001b[0m \u001b[32m━━━━━━━━━━━━━━━━━━━━\u001b[0m\u001b[37m\u001b[0m \u001b[1m92s\u001b[0m 1ms/step - loss: 0.0094 - val_loss: 0.0101\n",
      "Epoch 4/10\n",
      "\u001b[1m69600/69600\u001b[0m \u001b[32m━━━━━━━━━━━━━━━━━━━━\u001b[0m\u001b[37m\u001b[0m \u001b[1m90s\u001b[0m 1ms/step - loss: 0.0094 - val_loss: 0.0102\n",
      "Epoch 5/10\n",
      "\u001b[1m69600/69600\u001b[0m \u001b[32m━━━━━━━━━━━━━━━━━━━━\u001b[0m\u001b[37m\u001b[0m \u001b[1m90s\u001b[0m 1ms/step - loss: 0.0094 - val_loss: 0.0104\n",
      "Epoch 6/10\n",
      "\u001b[1m69600/69600\u001b[0m \u001b[32m━━━━━━━━━━━━━━━━━━━━\u001b[0m\u001b[37m\u001b[0m \u001b[1m89s\u001b[0m 1ms/step - loss: 0.0094 - val_loss: 0.0108\n",
      "Epoch 7/10\n",
      "\u001b[1m69600/69600\u001b[0m \u001b[32m━━━━━━━━━━━━━━━━━━━━\u001b[0m\u001b[37m\u001b[0m \u001b[1m88s\u001b[0m 1ms/step - loss: 0.0094 - val_loss: 0.0103\n",
      "Epoch 8/10\n",
      "\u001b[1m69600/69600\u001b[0m \u001b[32m━━━━━━━━━━━━━━━━━━━━\u001b[0m\u001b[37m\u001b[0m \u001b[1m87s\u001b[0m 1ms/step - loss: 0.0094 - val_loss: 0.0104\n",
      "Epoch 9/10\n",
      "\u001b[1m69600/69600\u001b[0m \u001b[32m━━━━━━━━━━━━━━━━━━━━\u001b[0m\u001b[37m\u001b[0m \u001b[1m88s\u001b[0m 1ms/step - loss: 0.0094 - val_loss: 0.0103\n",
      "Epoch 10/10\n",
      "\u001b[1m69600/69600\u001b[0m \u001b[32m━━━━━━━━━━━━━━━━━━━━\u001b[0m\u001b[37m\u001b[0m \u001b[1m88s\u001b[0m 1ms/step - loss: 0.0094 - val_loss: 0.0106\n"
     ]
    }
   ],
   "source": [
    "history = model.fit(X_train, y_train,epochs=10, batch_size=16, validation_data=(X_test, y_test))\n"
   ]
  },
  {
   "cell_type": "code",
   "execution_count": 16,
   "metadata": {},
   "outputs": [
    {
     "name": "stdout",
     "output_type": "stream",
     "text": [
      "\u001b[1m8700/8700\u001b[0m \u001b[32m━━━━━━━━━━━━━━━━━━━━\u001b[0m\u001b[37m\u001b[0m \u001b[1m7s\u001b[0m 790us/step - loss: 0.0098\n",
      "Test Loss: 0.010551730170845985\n",
      "\u001b[1m8700/8700\u001b[0m \u001b[32m━━━━━━━━━━━━━━━━━━━━\u001b[0m\u001b[37m\u001b[0m \u001b[1m7s\u001b[0m 815us/step\n",
      "MSE: 9.745334487288934\n",
      "MAE: 3.0777564092818896\n",
      "RMSE: 3.1217518298687574\n"
     ]
    }
   ],
   "source": [
    "loss = model.evaluate(X_test, y_test)\n",
    "print(f'Test Loss: {loss}')\n",
    "\n",
    "forecast = model.predict(X_test)\n",
    "y_pred = scaler_y.inverse_transform(forecast)\n",
    "\n",
    "forecast_df = pd.DataFrame(data=y_pred, columns=['forecast_data'], index=phase_2.index[:len(y_pred)])\n",
    "\n",
    "forecast_df = phase_2.join(forecast_df, how=\"left\")\n",
    "\n",
    "mse = mean_squared_error(y_test, y_pred)\n",
    "mae = mean_absolute_error(y_test, y_pred)\n",
    "rmse = np.sqrt(mse)\n",
    "\n",
    "print(f'MSE: {mse}')\n",
    "print(f'MAE: {mae}')\n",
    "print(f'RMSE: {rmse}')"
   ]
  },
  {
   "cell_type": "code",
   "execution_count": 17,
   "metadata": {},
   "outputs": [],
   "source": [
    "df = forecast_df[forecast_df[\"forecast_data\"].notna()]\n",
    "df = df.drop(columns=[\"Temperature\",\"Hour\",\"Participation_Phase\"])\n",
    "\n",
    "df.to_csv(parent_directory+\"/Neural_Network/predictions/phase_2_with_survey_data/cnn_lstm_phase_2_with_survey_method_2_80_20.csv\",index=True)"
   ]
  },
  {
   "cell_type": "markdown",
   "metadata": {},
   "source": [
    "50/50"
   ]
  },
  {
   "cell_type": "code",
   "execution_count": 5,
   "metadata": {},
   "outputs": [],
   "source": [
    "df_features = ['Temperature']\n",
    "df_target = [\"Demand_kWh\"]\n",
    "\n",
    "X= phase_2[df_features].values\n",
    "y=phase_2[df_target].values\n",
    "\n",
    "X = X.reshape((X.shape[0], 1, X.shape[1])) \n",
    "\n",
    "X_train, X_test, y_train, y_test = train_test_split(X, y, test_size=0.5, shuffle=False)"
   ]
  },
  {
   "cell_type": "code",
   "execution_count": 6,
   "metadata": {},
   "outputs": [],
   "source": [
    "scaler_X = MinMaxScaler()\n",
    "scaler_y = MinMaxScaler()\n",
    "\n",
    "X_train = scaler_X.fit_transform(X_train.reshape(-1, X_train.shape[1])).reshape(X_train.shape)\n",
    "X_test = scaler_X.transform(X_test.reshape(-1, X_test.shape[1])).reshape(X_test.shape)\n",
    "\n",
    "y_train = scaler_y.fit_transform(y_train.reshape(-1, 1)).flatten()\n",
    "y_test = scaler_y.transform(y_test.reshape(-1, 1)).flatten()"
   ]
  },
  {
   "cell_type": "code",
   "execution_count": 7,
   "metadata": {},
   "outputs": [
    {
     "name": "stderr",
     "output_type": "stream",
     "text": [
      "c:\\Users\\alfre\\AppData\\Local\\Programs\\Python\\Python312\\Lib\\site-packages\\keras\\src\\layers\\rnn\\rnn.py:204: UserWarning: Do not pass an `input_shape`/`input_dim` argument to a layer. When using Sequential models, prefer using an `Input(shape)` object as the first layer in the model instead.\n",
      "  super().__init__(**kwargs)\n"
     ]
    }
   ],
   "source": [
    "model = Sequential()\n",
    "model.add(LSTM(units=64, activation='relu', input_shape=(1, len(df_features)))) \n",
    "model.add(Dense(50, activation='relu'))\n",
    "model.add(Dense(1))\n",
    "learning_rate = 0.001\n",
    "optimizer = Adam(learning_rate=learning_rate)\n",
    "\n",
    "model.compile(optimizer=optimizer, loss='mse')"
   ]
  },
  {
   "cell_type": "code",
   "execution_count": 8,
   "metadata": {},
   "outputs": [
    {
     "name": "stdout",
     "output_type": "stream",
     "text": [
      "Epoch 1/10\n",
      "\u001b[1m43500/43500\u001b[0m \u001b[32m━━━━━━━━━━━━━━━━━━━━\u001b[0m\u001b[37m\u001b[0m \u001b[1m82s\u001b[0m 2ms/step - loss: 0.0104 - val_loss: 0.0113\n",
      "Epoch 2/10\n",
      "\u001b[1m43500/43500\u001b[0m \u001b[32m━━━━━━━━━━━━━━━━━━━━\u001b[0m\u001b[37m\u001b[0m \u001b[1m74s\u001b[0m 2ms/step - loss: 0.0102 - val_loss: 0.0114\n",
      "Epoch 3/10\n",
      "\u001b[1m43500/43500\u001b[0m \u001b[32m━━━━━━━━━━━━━━━━━━━━\u001b[0m\u001b[37m\u001b[0m \u001b[1m73s\u001b[0m 2ms/step - loss: 0.0102 - val_loss: 0.0112\n",
      "Epoch 4/10\n",
      "\u001b[1m43500/43500\u001b[0m \u001b[32m━━━━━━━━━━━━━━━━━━━━\u001b[0m\u001b[37m\u001b[0m \u001b[1m73s\u001b[0m 2ms/step - loss: 0.0103 - val_loss: 0.0113\n",
      "Epoch 5/10\n",
      "\u001b[1m43500/43500\u001b[0m \u001b[32m━━━━━━━━━━━━━━━━━━━━\u001b[0m\u001b[37m\u001b[0m \u001b[1m73s\u001b[0m 2ms/step - loss: 0.0102 - val_loss: 0.0114\n",
      "Epoch 6/10\n",
      "\u001b[1m43500/43500\u001b[0m \u001b[32m━━━━━━━━━━━━━━━━━━━━\u001b[0m\u001b[37m\u001b[0m \u001b[1m72s\u001b[0m 2ms/step - loss: 0.0103 - val_loss: 0.0113\n",
      "Epoch 7/10\n",
      "\u001b[1m43500/43500\u001b[0m \u001b[32m━━━━━━━━━━━━━━━━━━━━\u001b[0m\u001b[37m\u001b[0m \u001b[1m73s\u001b[0m 2ms/step - loss: 0.0102 - val_loss: 0.0112\n",
      "Epoch 8/10\n",
      "\u001b[1m43500/43500\u001b[0m \u001b[32m━━━━━━━━━━━━━━━━━━━━\u001b[0m\u001b[37m\u001b[0m \u001b[1m73s\u001b[0m 2ms/step - loss: 0.0102 - val_loss: 0.0113\n",
      "Epoch 9/10\n",
      "\u001b[1m43500/43500\u001b[0m \u001b[32m━━━━━━━━━━━━━━━━━━━━\u001b[0m\u001b[37m\u001b[0m \u001b[1m74s\u001b[0m 2ms/step - loss: 0.0103 - val_loss: 0.0113\n",
      "Epoch 10/10\n",
      "\u001b[1m43500/43500\u001b[0m \u001b[32m━━━━━━━━━━━━━━━━━━━━\u001b[0m\u001b[37m\u001b[0m \u001b[1m73s\u001b[0m 2ms/step - loss: 0.0102 - val_loss: 0.0114\n"
     ]
    }
   ],
   "source": [
    "history = model.fit(X_train, y_train,epochs=10, batch_size=16, validation_data=(X_test, y_test))\n"
   ]
  },
  {
   "cell_type": "code",
   "execution_count": 9,
   "metadata": {},
   "outputs": [
    {
     "name": "stdout",
     "output_type": "stream",
     "text": [
      "\u001b[1m21750/21750\u001b[0m \u001b[32m━━━━━━━━━━━━━━━━━━━━\u001b[0m\u001b[37m\u001b[0m \u001b[1m17s\u001b[0m 749us/step - loss: 0.0110\n",
      "Test Loss: 0.011358583346009254\n",
      "\u001b[1m21750/21750\u001b[0m \u001b[32m━━━━━━━━━━━━━━━━━━━━\u001b[0m\u001b[37m\u001b[0m \u001b[1m17s\u001b[0m 758us/step\n",
      "MSE: 9.302427122634509\n",
      "MAE: 3.0065416981051096\n",
      "RMSE: 3.049988052867504\n"
     ]
    }
   ],
   "source": [
    "loss = model.evaluate(X_test, y_test)\n",
    "print(f'Test Loss: {loss}')\n",
    "\n",
    "forecast = model.predict(X_test)\n",
    "y_pred = scaler_y.inverse_transform(forecast)\n",
    "\n",
    "forecast_df = pd.DataFrame(data=y_pred, columns=['forecast_data'], index=phase_2.index[:len(y_pred)])\n",
    "\n",
    "forecast_df = phase_2.join(forecast_df, how=\"left\")\n",
    "\n",
    "mse = mean_squared_error(y_test, y_pred)\n",
    "mae = mean_absolute_error(y_test, y_pred)\n",
    "rmse = np.sqrt(mse)\n",
    "\n",
    "print(f'MSE: {mse}')\n",
    "print(f'MAE: {mae}')\n",
    "print(f'RMSE: {rmse}')"
   ]
  },
  {
   "cell_type": "code",
   "execution_count": 10,
   "metadata": {},
   "outputs": [],
   "source": [
    "df = forecast_df[forecast_df[\"forecast_data\"].notna()]\n",
    "df = df.drop(columns=[\"Temperature\",\"Hour\",\"Participation_Phase\"])\n",
    "\n",
    "df.to_csv(parent_directory+\"/Neural_Network/predictions/phase_2_with_survey_data/cnn_lstm_phase_2_with_survey_method_2_50_50.csv\",index=True)"
   ]
  }
 ],
 "metadata": {
  "kernelspec": {
   "display_name": "Python 3",
   "language": "python",
   "name": "python3"
  },
  "language_info": {
   "codemirror_mode": {
    "name": "ipython",
    "version": 3
   },
   "file_extension": ".py",
   "mimetype": "text/x-python",
   "name": "python",
   "nbconvert_exporter": "python",
   "pygments_lexer": "ipython3",
   "version": "3.12.0"
  }
 },
 "nbformat": 4,
 "nbformat_minor": 2
}
