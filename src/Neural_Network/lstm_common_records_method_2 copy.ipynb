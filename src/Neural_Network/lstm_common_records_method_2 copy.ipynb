{
 "cells": [
  {
   "cell_type": "code",
   "execution_count": 1,
   "metadata": {},
   "outputs": [],
   "source": [
    "import os\n",
    "import numpy as np\n",
    "import pandas as pd\n",
    "import tensorflow as tf\n",
    "from tensorflow.keras.models import Sequential\n",
    "from tensorflow.keras.layers import Dense, Conv1D, MaxPooling1D, Flatten, LSTM, TimeDistributed\n",
    "from sklearn.model_selection import train_test_split\n",
    "from sklearn.preprocessing import MinMaxScaler\n",
    "from sklearn.metrics import mean_squared_error, mean_absolute_error\n",
    "\n",
    "from tensorflow.keras.optimizers import Adam\n"
   ]
  },
  {
   "cell_type": "code",
   "execution_count": 2,
   "metadata": {},
   "outputs": [
    {
     "data": {
      "text/html": [
       "<div>\n",
       "<style scoped>\n",
       "    .dataframe tbody tr th:only-of-type {\n",
       "        vertical-align: middle;\n",
       "    }\n",
       "\n",
       "    .dataframe tbody tr th {\n",
       "        vertical-align: top;\n",
       "    }\n",
       "\n",
       "    .dataframe thead th {\n",
       "        text-align: right;\n",
       "    }\n",
       "</style>\n",
       "<table border=\"1\" class=\"dataframe\">\n",
       "  <thead>\n",
       "    <tr style=\"text-align: right;\">\n",
       "      <th></th>\n",
       "      <th>ID</th>\n",
       "      <th>From</th>\n",
       "      <th>Date</th>\n",
       "      <th>Hour</th>\n",
       "      <th>Participation_Phase</th>\n",
       "      <th>Demand_kWh</th>\n",
       "      <th>Temperature</th>\n",
       "      <th>Temperature24</th>\n",
       "      <th>Temperature48</th>\n",
       "      <th>Temperature72</th>\n",
       "    </tr>\n",
       "  </thead>\n",
       "  <tbody>\n",
       "    <tr>\n",
       "      <th>0</th>\n",
       "      <td>Exp_1</td>\n",
       "      <td>2020-02-01 00:00:00+00:00</td>\n",
       "      <td>2020-02-01</td>\n",
       "      <td>1</td>\n",
       "      <td>Phase_1</td>\n",
       "      <td>2.393</td>\n",
       "      <td>7.6</td>\n",
       "      <td>6.1</td>\n",
       "      <td>5.0</td>\n",
       "      <td>4.4</td>\n",
       "    </tr>\n",
       "    <tr>\n",
       "      <th>1</th>\n",
       "      <td>Exp_1</td>\n",
       "      <td>2020-02-01 01:00:00+00:00</td>\n",
       "      <td>2020-02-01</td>\n",
       "      <td>2</td>\n",
       "      <td>Phase_1</td>\n",
       "      <td>2.056</td>\n",
       "      <td>8.2</td>\n",
       "      <td>6.2</td>\n",
       "      <td>5.1</td>\n",
       "      <td>4.4</td>\n",
       "    </tr>\n",
       "    <tr>\n",
       "      <th>2</th>\n",
       "      <td>Exp_1</td>\n",
       "      <td>2020-02-01 02:00:00+00:00</td>\n",
       "      <td>2020-02-01</td>\n",
       "      <td>3</td>\n",
       "      <td>Phase_1</td>\n",
       "      <td>2.258</td>\n",
       "      <td>8.4</td>\n",
       "      <td>6.3</td>\n",
       "      <td>5.3</td>\n",
       "      <td>4.5</td>\n",
       "    </tr>\n",
       "    <tr>\n",
       "      <th>3</th>\n",
       "      <td>Exp_1</td>\n",
       "      <td>2020-02-01 03:00:00+00:00</td>\n",
       "      <td>2020-02-01</td>\n",
       "      <td>4</td>\n",
       "      <td>Phase_1</td>\n",
       "      <td>2.535</td>\n",
       "      <td>8.4</td>\n",
       "      <td>6.4</td>\n",
       "      <td>5.4</td>\n",
       "      <td>4.5</td>\n",
       "    </tr>\n",
       "    <tr>\n",
       "      <th>4</th>\n",
       "      <td>Exp_1</td>\n",
       "      <td>2020-02-01 04:00:00+00:00</td>\n",
       "      <td>2020-02-01</td>\n",
       "      <td>5</td>\n",
       "      <td>Phase_1</td>\n",
       "      <td>2.042</td>\n",
       "      <td>8.2</td>\n",
       "      <td>6.5</td>\n",
       "      <td>5.5</td>\n",
       "      <td>4.6</td>\n",
       "    </tr>\n",
       "  </tbody>\n",
       "</table>\n",
       "</div>"
      ],
      "text/plain": [
       "      ID                       From        Date  Hour Participation_Phase  \\\n",
       "0  Exp_1  2020-02-01 00:00:00+00:00  2020-02-01     1             Phase_1   \n",
       "1  Exp_1  2020-02-01 01:00:00+00:00  2020-02-01     2             Phase_1   \n",
       "2  Exp_1  2020-02-01 02:00:00+00:00  2020-02-01     3             Phase_1   \n",
       "3  Exp_1  2020-02-01 03:00:00+00:00  2020-02-01     4             Phase_1   \n",
       "4  Exp_1  2020-02-01 04:00:00+00:00  2020-02-01     5             Phase_1   \n",
       "\n",
       "   Demand_kWh  Temperature  Temperature24  Temperature48  Temperature72  \n",
       "0       2.393          7.6            6.1            5.0            4.4  \n",
       "1       2.056          8.2            6.2            5.1            4.4  \n",
       "2       2.258          8.4            6.3            5.3            4.5  \n",
       "3       2.535          8.4            6.4            5.4            4.5  \n",
       "4       2.042          8.2            6.5            5.5            4.6  "
      ]
     },
     "execution_count": 2,
     "metadata": {},
     "output_type": "execute_result"
    }
   ],
   "source": [
    "parent_directory = os.path.abspath(os.path.join(os.getcwd(), os.pardir))\n",
    "main_directory = os.path.dirname(parent_directory)\n",
    "common_records =  pd.read_csv(main_directory + '/data/common_records.csv')\n",
    "common_records.head()"
   ]
  },
  {
   "cell_type": "code",
   "execution_count": 3,
   "metadata": {},
   "outputs": [],
   "source": [
    "unique_ids = common_records[\"ID\"].unique()[:80]\n",
    "common_records = common_records[common_records[\"ID\"].isin(unique_ids)]"
   ]
  },
  {
   "cell_type": "code",
   "execution_count": 4,
   "metadata": {},
   "outputs": [
    {
     "data": {
      "text/html": [
       "<div>\n",
       "<style scoped>\n",
       "    .dataframe tbody tr th:only-of-type {\n",
       "        vertical-align: middle;\n",
       "    }\n",
       "\n",
       "    .dataframe tbody tr th {\n",
       "        vertical-align: top;\n",
       "    }\n",
       "\n",
       "    .dataframe thead th {\n",
       "        text-align: right;\n",
       "    }\n",
       "</style>\n",
       "<table border=\"1\" class=\"dataframe\">\n",
       "  <thead>\n",
       "    <tr style=\"text-align: right;\">\n",
       "      <th></th>\n",
       "      <th>ID</th>\n",
       "      <th>Date</th>\n",
       "      <th>Hour</th>\n",
       "      <th>Participation_Phase</th>\n",
       "      <th>Demand_kWh</th>\n",
       "      <th>Temperature</th>\n",
       "      <th>Temperature24</th>\n",
       "      <th>Temperature48</th>\n",
       "      <th>Temperature72</th>\n",
       "    </tr>\n",
       "    <tr>\n",
       "      <th>From</th>\n",
       "      <th></th>\n",
       "      <th></th>\n",
       "      <th></th>\n",
       "      <th></th>\n",
       "      <th></th>\n",
       "      <th></th>\n",
       "      <th></th>\n",
       "      <th></th>\n",
       "      <th></th>\n",
       "    </tr>\n",
       "  </thead>\n",
       "  <tbody>\n",
       "    <tr>\n",
       "      <th>2020-02-01 00:00:00+00:00</th>\n",
       "      <td>Exp_1</td>\n",
       "      <td>2020-02-01</td>\n",
       "      <td>1</td>\n",
       "      <td>Phase_1</td>\n",
       "      <td>2.393</td>\n",
       "      <td>7.6</td>\n",
       "      <td>6.1</td>\n",
       "      <td>5.0</td>\n",
       "      <td>4.4</td>\n",
       "    </tr>\n",
       "    <tr>\n",
       "      <th>2020-02-01 01:00:00+00:00</th>\n",
       "      <td>Exp_1</td>\n",
       "      <td>2020-02-01</td>\n",
       "      <td>2</td>\n",
       "      <td>Phase_1</td>\n",
       "      <td>2.056</td>\n",
       "      <td>8.2</td>\n",
       "      <td>6.2</td>\n",
       "      <td>5.1</td>\n",
       "      <td>4.4</td>\n",
       "    </tr>\n",
       "    <tr>\n",
       "      <th>2020-02-01 02:00:00+00:00</th>\n",
       "      <td>Exp_1</td>\n",
       "      <td>2020-02-01</td>\n",
       "      <td>3</td>\n",
       "      <td>Phase_1</td>\n",
       "      <td>2.258</td>\n",
       "      <td>8.4</td>\n",
       "      <td>6.3</td>\n",
       "      <td>5.3</td>\n",
       "      <td>4.5</td>\n",
       "    </tr>\n",
       "    <tr>\n",
       "      <th>2020-02-01 03:00:00+00:00</th>\n",
       "      <td>Exp_1</td>\n",
       "      <td>2020-02-01</td>\n",
       "      <td>4</td>\n",
       "      <td>Phase_1</td>\n",
       "      <td>2.535</td>\n",
       "      <td>8.4</td>\n",
       "      <td>6.4</td>\n",
       "      <td>5.4</td>\n",
       "      <td>4.5</td>\n",
       "    </tr>\n",
       "    <tr>\n",
       "      <th>2020-02-01 04:00:00+00:00</th>\n",
       "      <td>Exp_1</td>\n",
       "      <td>2020-02-01</td>\n",
       "      <td>5</td>\n",
       "      <td>Phase_1</td>\n",
       "      <td>2.042</td>\n",
       "      <td>8.2</td>\n",
       "      <td>6.5</td>\n",
       "      <td>5.5</td>\n",
       "      <td>4.6</td>\n",
       "    </tr>\n",
       "  </tbody>\n",
       "</table>\n",
       "</div>"
      ],
      "text/plain": [
       "                              ID        Date  Hour Participation_Phase  \\\n",
       "From                                                                     \n",
       "2020-02-01 00:00:00+00:00  Exp_1  2020-02-01     1             Phase_1   \n",
       "2020-02-01 01:00:00+00:00  Exp_1  2020-02-01     2             Phase_1   \n",
       "2020-02-01 02:00:00+00:00  Exp_1  2020-02-01     3             Phase_1   \n",
       "2020-02-01 03:00:00+00:00  Exp_1  2020-02-01     4             Phase_1   \n",
       "2020-02-01 04:00:00+00:00  Exp_1  2020-02-01     5             Phase_1   \n",
       "\n",
       "                           Demand_kWh  Temperature  Temperature24  \\\n",
       "From                                                                \n",
       "2020-02-01 00:00:00+00:00       2.393          7.6            6.1   \n",
       "2020-02-01 01:00:00+00:00       2.056          8.2            6.2   \n",
       "2020-02-01 02:00:00+00:00       2.258          8.4            6.3   \n",
       "2020-02-01 03:00:00+00:00       2.535          8.4            6.4   \n",
       "2020-02-01 04:00:00+00:00       2.042          8.2            6.5   \n",
       "\n",
       "                           Temperature48  Temperature72  \n",
       "From                                                     \n",
       "2020-02-01 00:00:00+00:00            5.0            4.4  \n",
       "2020-02-01 01:00:00+00:00            5.1            4.4  \n",
       "2020-02-01 02:00:00+00:00            5.3            4.5  \n",
       "2020-02-01 03:00:00+00:00            5.4            4.5  \n",
       "2020-02-01 04:00:00+00:00            5.5            4.6  "
      ]
     },
     "execution_count": 4,
     "metadata": {},
     "output_type": "execute_result"
    }
   ],
   "source": [
    "common_records.set_index('From',inplace=True)\n",
    "common_records.head()"
   ]
  },
  {
   "cell_type": "markdown",
   "metadata": {},
   "source": [
    "75/25"
   ]
  },
  {
   "cell_type": "code",
   "execution_count": 5,
   "metadata": {},
   "outputs": [],
   "source": [
    "df_features = ['Temperature']\n",
    "df_target = [\"Demand_kWh\"]\n",
    "\n",
    "X= common_records[df_features].values\n",
    "y=common_records[df_target].values\n",
    "\n",
    "X = X.reshape((X.shape[0], 1, X.shape[1])) \n",
    "\n",
    "X_train, X_test, y_train, y_test = train_test_split(X, y, test_size=0.25, shuffle=False)"
   ]
  },
  {
   "cell_type": "code",
   "execution_count": 6,
   "metadata": {},
   "outputs": [],
   "source": [
    "scaler_X = MinMaxScaler()\n",
    "scaler_y = MinMaxScaler()\n",
    "\n",
    "X_train = scaler_X.fit_transform(X_train.reshape(-1, X_train.shape[1])).reshape(X_train.shape)\n",
    "X_test = scaler_X.transform(X_test.reshape(-1, X_test.shape[1])).reshape(X_test.shape)\n",
    "\n",
    "y_train = scaler_y.fit_transform(y_train.reshape(-1, 1)).flatten()\n",
    "y_test = scaler_y.transform(y_test.reshape(-1, 1)).flatten()"
   ]
  },
  {
   "cell_type": "code",
   "execution_count": 7,
   "metadata": {},
   "outputs": [
    {
     "name": "stderr",
     "output_type": "stream",
     "text": [
      "c:\\Users\\alfre\\AppData\\Local\\Programs\\Python\\Python312\\Lib\\site-packages\\keras\\src\\layers\\convolutional\\base_conv.py:99: UserWarning: Do not pass an `input_shape`/`input_dim` argument to a layer. When using Sequential models, prefer using an `Input(shape)` object as the first layer in the model instead.\n",
      "  super().__init__(\n"
     ]
    }
   ],
   "source": [
    "model = Sequential()\n",
    "model.add(LSTM(units=64, activation='relu', input_shape=(1, 1))) \n",
    "model.add(Dense(50, activation='relu'))\n",
    "model.add(Dense(1))\n",
    "learning_rate = 0.001\n",
    "optimizer = Adam(learning_rate=learning_rate)\n",
    "\n",
    "model.compile(optimizer=optimizer, loss='mse')"
   ]
  },
  {
   "cell_type": "code",
   "execution_count": 8,
   "metadata": {},
   "outputs": [
    {
     "name": "stdout",
     "output_type": "stream",
     "text": [
      "Epoch 1/10\n",
      "\u001b[1m17190/17190\u001b[0m \u001b[32m━━━━━━━━━━━━━━━━━━━━\u001b[0m\u001b[37m\u001b[0m \u001b[1m33s\u001b[0m 2ms/step - loss: 0.0133 - val_loss: 0.0146\n",
      "Epoch 2/10\n",
      "\u001b[1m17190/17190\u001b[0m \u001b[32m━━━━━━━━━━━━━━━━━━━━\u001b[0m\u001b[37m\u001b[0m \u001b[1m30s\u001b[0m 2ms/step - loss: 0.0131 - val_loss: 0.0146\n",
      "Epoch 3/10\n",
      "\u001b[1m17190/17190\u001b[0m \u001b[32m━━━━━━━━━━━━━━━━━━━━\u001b[0m\u001b[37m\u001b[0m \u001b[1m30s\u001b[0m 2ms/step - loss: 0.0131 - val_loss: 0.0147\n",
      "Epoch 4/10\n",
      "\u001b[1m17190/17190\u001b[0m \u001b[32m━━━━━━━━━━━━━━━━━━━━\u001b[0m\u001b[37m\u001b[0m \u001b[1m30s\u001b[0m 2ms/step - loss: 0.0130 - val_loss: 0.0148\n",
      "Epoch 5/10\n",
      "\u001b[1m17190/17190\u001b[0m \u001b[32m━━━━━━━━━━━━━━━━━━━━\u001b[0m\u001b[37m\u001b[0m \u001b[1m30s\u001b[0m 2ms/step - loss: 0.0131 - val_loss: 0.0146\n",
      "Epoch 6/10\n",
      "\u001b[1m17190/17190\u001b[0m \u001b[32m━━━━━━━━━━━━━━━━━━━━\u001b[0m\u001b[37m\u001b[0m \u001b[1m30s\u001b[0m 2ms/step - loss: 0.0131 - val_loss: 0.0146\n",
      "Epoch 7/10\n",
      "\u001b[1m17190/17190\u001b[0m \u001b[32m━━━━━━━━━━━━━━━━━━━━\u001b[0m\u001b[37m\u001b[0m \u001b[1m31s\u001b[0m 2ms/step - loss: 0.0130 - val_loss: 0.0147\n",
      "Epoch 8/10\n",
      "\u001b[1m17190/17190\u001b[0m \u001b[32m━━━━━━━━━━━━━━━━━━━━\u001b[0m\u001b[37m\u001b[0m \u001b[1m31s\u001b[0m 2ms/step - loss: 0.0132 - val_loss: 0.0147\n",
      "Epoch 9/10\n",
      "\u001b[1m17190/17190\u001b[0m \u001b[32m━━━━━━━━━━━━━━━━━━━━\u001b[0m\u001b[37m\u001b[0m \u001b[1m42s\u001b[0m 2ms/step - loss: 0.0132 - val_loss: 0.0146\n",
      "Epoch 10/10\n",
      "\u001b[1m17190/17190\u001b[0m \u001b[32m━━━━━━━━━━━━━━━━━━━━\u001b[0m\u001b[37m\u001b[0m \u001b[1m39s\u001b[0m 2ms/step - loss: 0.0131 - val_loss: 0.0147\n"
     ]
    }
   ],
   "source": [
    "history = model.fit(X_train, y_train,epochs=10, batch_size=16, validation_data=(X_test, y_test))\n"
   ]
  },
  {
   "cell_type": "code",
   "execution_count": 9,
   "metadata": {},
   "outputs": [
    {
     "name": "stdout",
     "output_type": "stream",
     "text": [
      "\u001b[1m2865/2865\u001b[0m \u001b[32m━━━━━━━━━━━━━━━━━━━━\u001b[0m\u001b[37m\u001b[0m \u001b[1m5s\u001b[0m 2ms/step - loss: 0.0117\n",
      "Test Loss: 0.014732243493199348\n",
      "\u001b[1m2865/2865\u001b[0m \u001b[32m━━━━━━━━━━━━━━━━━━━━\u001b[0m\u001b[37m\u001b[0m \u001b[1m3s\u001b[0m 1ms/step\n",
      "                                ID        Date  Hour Participation_Phase  \\\n",
      "From                                                                       \n",
      "2020-02-01 00:00:00+00:00    Exp_1  2020-02-01     1             Phase_1   \n",
      "2020-02-01 00:00:00+00:00    Exp_1  2020-02-01     1             Phase_1   \n",
      "2020-02-01 00:00:00+00:00    Exp_1  2020-02-01     1             Phase_1   \n",
      "2020-02-01 00:00:00+00:00    Exp_1  2020-02-01     1             Phase_1   \n",
      "2020-02-01 00:00:00+00:00    Exp_1  2020-02-01     1             Phase_1   \n",
      "...                            ...         ...   ...                 ...   \n",
      "2021-03-26 23:00:00+00:00  Exp_176  2021-03-26    24             Phase_2   \n",
      "2021-03-26 23:00:00+00:00  Exp_176  2021-03-26    24             Phase_2   \n",
      "2021-03-26 23:00:00+00:00  Exp_176  2021-03-26    24             Phase_2   \n",
      "2021-03-26 23:00:00+00:00  Exp_176  2021-03-26    24             Phase_2   \n",
      "2021-03-26 23:00:00+00:00  Exp_176  2021-03-26    24             Phase_2   \n",
      "\n",
      "                           Demand_kWh  Temperature  Temperature24  \\\n",
      "From                                                                \n",
      "2020-02-01 00:00:00+00:00       2.393          7.6            6.1   \n",
      "2020-02-01 00:00:00+00:00       2.393          7.6            6.1   \n",
      "2020-02-01 00:00:00+00:00       2.393          7.6            6.1   \n",
      "2020-02-01 00:00:00+00:00       2.393          7.6            6.1   \n",
      "2020-02-01 00:00:00+00:00       2.393          7.6            6.1   \n",
      "...                               ...          ...            ...   \n",
      "2021-03-26 23:00:00+00:00       0.552          5.2            6.9   \n",
      "2021-03-26 23:00:00+00:00       0.552          5.2            6.9   \n",
      "2021-03-26 23:00:00+00:00       0.552          5.2            6.9   \n",
      "2021-03-26 23:00:00+00:00       0.552          5.2            6.9   \n",
      "2021-03-26 23:00:00+00:00       0.552          5.2            6.9   \n",
      "\n",
      "                           Temperature48  Temperature72  forecast_data  \n",
      "From                                                                    \n",
      "2020-02-01 00:00:00+00:00            5.0            4.4       2.645374  \n",
      "2020-02-01 00:00:00+00:00            5.0            4.4       2.645374  \n",
      "2020-02-01 00:00:00+00:00            5.0            4.4       2.645374  \n",
      "2020-02-01 00:00:00+00:00            5.0            4.4       2.645374  \n",
      "2020-02-01 00:00:00+00:00            5.0            4.4       2.645374  \n",
      "...                                  ...            ...            ...  \n",
      "2021-03-26 23:00:00+00:00            6.8            6.9       2.645374  \n",
      "2021-03-26 23:00:00+00:00            6.8            6.9       2.645374  \n",
      "2021-03-26 23:00:00+00:00            6.8            6.9       2.645374  \n",
      "2021-03-26 23:00:00+00:00            6.8            6.9       2.645374  \n",
      "2021-03-26 23:00:00+00:00            6.8            6.9       2.645374  \n",
      "\n",
      "[7334400 rows x 10 columns]\n",
      "MSE: 6.824442371870697\n",
      "MAE: 2.59967447641067\n",
      "RMSE: 2.612363369034005\n"
     ]
    }
   ],
   "source": [
    "loss = model.evaluate(X_test, y_test)\n",
    "print(f'Test Loss: {loss}')\n",
    "\n",
    "forecast = model.predict(X_test)\n",
    "y_pred = scaler_y.inverse_transform(forecast)\n",
    "\n",
    "forecast_df = pd.DataFrame(data=y_pred, columns=['forecast_data'], index=common_records.index[:len(y_pred)])\n",
    "\n",
    "forecast_df = common_records.join(forecast_df, how=\"left\")\n",
    "\n",
    "print(forecast_df)\n",
    "mse = mean_squared_error(y_test, y_pred)\n",
    "mae = mean_absolute_error(y_test, y_pred)\n",
    "rmse = np.sqrt(mse)\n",
    "\n",
    "print(f'MSE: {mse}')\n",
    "print(f'MAE: {mae}')\n",
    "print(f'RMSE: {rmse}')"
   ]
  },
  {
   "cell_type": "code",
   "execution_count": 10,
   "metadata": {},
   "outputs": [],
   "source": [
    "df = forecast_df[forecast_df[\"forecast_data\"].notna()]\n",
    "df = df.drop(columns=[\"Temperature\",\"Temperature24\",\"Temperature48\",\"Temperature72\",\"Hour\",\"Participation_Phase\"])\n",
    "\n",
    "df.to_csv(parent_directory+\"/Neural_Network/predictions/common_records/cnn_lstm_common_records_method_2_75_25.csv\",index=True)"
   ]
  },
  {
   "cell_type": "markdown",
   "metadata": {},
   "source": [
    "80/20"
   ]
  },
  {
   "cell_type": "code",
   "execution_count": 11,
   "metadata": {},
   "outputs": [],
   "source": [
    "df_features = ['Temperature']\n",
    "df_target = [\"Demand_kWh\"]\n",
    "\n",
    "X= common_records[df_features].values\n",
    "y=common_records[df_target].values\n",
    "\n",
    "X = X.reshape((X.shape[0], 1, X.shape[1])) \n",
    "\n",
    "X_train, X_test, y_train, y_test = train_test_split(X, y, test_size=0.2, shuffle=False)"
   ]
  },
  {
   "cell_type": "code",
   "execution_count": 12,
   "metadata": {},
   "outputs": [],
   "source": [
    "scaler_X = MinMaxScaler()\n",
    "scaler_y = MinMaxScaler()\n",
    "\n",
    "X_train = scaler_X.fit_transform(X_train.reshape(-1, X_train.shape[1])).reshape(X_train.shape)\n",
    "X_test = scaler_X.transform(X_test.reshape(-1, X_test.shape[1])).reshape(X_test.shape)\n",
    "\n",
    "y_train = scaler_y.fit_transform(y_train.reshape(-1, 1)).flatten()\n",
    "y_test = scaler_y.transform(y_test.reshape(-1, 1)).flatten()"
   ]
  },
  {
   "cell_type": "code",
   "execution_count": 13,
   "metadata": {},
   "outputs": [
    {
     "name": "stderr",
     "output_type": "stream",
     "text": [
      "c:\\Users\\alfre\\AppData\\Local\\Programs\\Python\\Python312\\Lib\\site-packages\\keras\\src\\layers\\convolutional\\base_conv.py:99: UserWarning: Do not pass an `input_shape`/`input_dim` argument to a layer. When using Sequential models, prefer using an `Input(shape)` object as the first layer in the model instead.\n",
      "  super().__init__(\n"
     ]
    }
   ],
   "source": [
    "model = Sequential()\n",
    "model.add(LSTM(units=64, activation='relu', input_shape=(1, 1))) \n",
    "model.add(Dense(50, activation='relu'))\n",
    "model.add(Dense(1))\n",
    "learning_rate = 0.001\n",
    "optimizer = Adam(learning_rate=learning_rate)\n",
    "\n",
    "model.compile(optimizer=optimizer, loss='mse')"
   ]
  },
  {
   "cell_type": "code",
   "execution_count": 14,
   "metadata": {},
   "outputs": [
    {
     "name": "stdout",
     "output_type": "stream",
     "text": [
      "Epoch 1/10\n",
      "\u001b[1m18336/18336\u001b[0m \u001b[32m━━━━━━━━━━━━━━━━━━━━\u001b[0m\u001b[37m\u001b[0m \u001b[1m32s\u001b[0m 2ms/step - loss: 0.0130 - val_loss: 0.0164\n",
      "Epoch 2/10\n",
      "\u001b[1m18336/18336\u001b[0m \u001b[32m━━━━━━━━━━━━━━━━━━━━\u001b[0m\u001b[37m\u001b[0m \u001b[1m33s\u001b[0m 2ms/step - loss: 0.0128 - val_loss: 0.0164\n",
      "Epoch 3/10\n",
      "\u001b[1m18336/18336\u001b[0m \u001b[32m━━━━━━━━━━━━━━━━━━━━\u001b[0m\u001b[37m\u001b[0m \u001b[1m34s\u001b[0m 2ms/step - loss: 0.0127 - val_loss: 0.0164\n",
      "Epoch 4/10\n",
      "\u001b[1m18336/18336\u001b[0m \u001b[32m━━━━━━━━━━━━━━━━━━━━\u001b[0m\u001b[37m\u001b[0m \u001b[1m32s\u001b[0m 2ms/step - loss: 0.0128 - val_loss: 0.0164\n",
      "Epoch 5/10\n",
      "\u001b[1m18336/18336\u001b[0m \u001b[32m━━━━━━━━━━━━━━━━━━━━\u001b[0m\u001b[37m\u001b[0m \u001b[1m32s\u001b[0m 2ms/step - loss: 0.0127 - val_loss: 0.0164\n",
      "Epoch 6/10\n",
      "\u001b[1m18336/18336\u001b[0m \u001b[32m━━━━━━━━━━━━━━━━━━━━\u001b[0m\u001b[37m\u001b[0m \u001b[1m32s\u001b[0m 2ms/step - loss: 0.0127 - val_loss: 0.0164\n",
      "Epoch 7/10\n",
      "\u001b[1m18336/18336\u001b[0m \u001b[32m━━━━━━━━━━━━━━━━━━━━\u001b[0m\u001b[37m\u001b[0m \u001b[1m31s\u001b[0m 2ms/step - loss: 0.0127 - val_loss: 0.0164\n",
      "Epoch 8/10\n",
      "\u001b[1m18336/18336\u001b[0m \u001b[32m━━━━━━━━━━━━━━━━━━━━\u001b[0m\u001b[37m\u001b[0m \u001b[1m33s\u001b[0m 2ms/step - loss: 0.0128 - val_loss: 0.0164\n",
      "Epoch 9/10\n",
      "\u001b[1m18336/18336\u001b[0m \u001b[32m━━━━━━━━━━━━━━━━━━━━\u001b[0m\u001b[37m\u001b[0m \u001b[1m33s\u001b[0m 2ms/step - loss: 0.0127 - val_loss: 0.0164\n",
      "Epoch 10/10\n",
      "\u001b[1m18336/18336\u001b[0m \u001b[32m━━━━━━━━━━━━━━━━━━━━\u001b[0m\u001b[37m\u001b[0m \u001b[1m35s\u001b[0m 2ms/step - loss: 0.0127 - val_loss: 0.0164\n"
     ]
    }
   ],
   "source": [
    "history = model.fit(X_train, y_train,epochs=10, batch_size=16, validation_data=(X_test, y_test))\n"
   ]
  },
  {
   "cell_type": "code",
   "execution_count": 15,
   "metadata": {},
   "outputs": [
    {
     "name": "stdout",
     "output_type": "stream",
     "text": [
      "\u001b[1m2292/2292\u001b[0m \u001b[32m━━━━━━━━━━━━━━━━━━━━\u001b[0m\u001b[37m\u001b[0m \u001b[1m4s\u001b[0m 2ms/step - loss: 0.0154\n",
      "Test Loss: 0.016413573175668716\n",
      "\u001b[1m2292/2292\u001b[0m \u001b[32m━━━━━━━━━━━━━━━━━━━━\u001b[0m\u001b[37m\u001b[0m \u001b[1m3s\u001b[0m 1ms/step\n",
      "                                ID        Date  Hour Participation_Phase  \\\n",
      "From                                                                       \n",
      "2020-02-01 00:00:00+00:00    Exp_1  2020-02-01     1             Phase_1   \n",
      "2020-02-01 00:00:00+00:00    Exp_1  2020-02-01     1             Phase_1   \n",
      "2020-02-01 00:00:00+00:00    Exp_1  2020-02-01     1             Phase_1   \n",
      "2020-02-01 00:00:00+00:00    Exp_1  2020-02-01     1             Phase_1   \n",
      "2020-02-01 00:00:00+00:00    Exp_1  2020-02-01     1             Phase_1   \n",
      "...                            ...         ...   ...                 ...   \n",
      "2021-03-26 23:00:00+00:00  Exp_176  2021-03-26    24             Phase_2   \n",
      "2021-03-26 23:00:00+00:00  Exp_176  2021-03-26    24             Phase_2   \n",
      "2021-03-26 23:00:00+00:00  Exp_176  2021-03-26    24             Phase_2   \n",
      "2021-03-26 23:00:00+00:00  Exp_176  2021-03-26    24             Phase_2   \n",
      "2021-03-26 23:00:00+00:00  Exp_176  2021-03-26    24             Phase_2   \n",
      "\n",
      "                           Demand_kWh  Temperature  Temperature24  \\\n",
      "From                                                                \n",
      "2020-02-01 00:00:00+00:00       2.393          7.6            6.1   \n",
      "2020-02-01 00:00:00+00:00       2.393          7.6            6.1   \n",
      "2020-02-01 00:00:00+00:00       2.393          7.6            6.1   \n",
      "2020-02-01 00:00:00+00:00       2.393          7.6            6.1   \n",
      "2020-02-01 00:00:00+00:00       2.393          7.6            6.1   \n",
      "...                               ...          ...            ...   \n",
      "2021-03-26 23:00:00+00:00       0.552          5.2            6.9   \n",
      "2021-03-26 23:00:00+00:00       0.552          5.2            6.9   \n",
      "2021-03-26 23:00:00+00:00       0.552          5.2            6.9   \n",
      "2021-03-26 23:00:00+00:00       0.552          5.2            6.9   \n",
      "2021-03-26 23:00:00+00:00       0.552          5.2            6.9   \n",
      "\n",
      "                           Temperature48  Temperature72  forecast_data  \n",
      "From                                                                    \n",
      "2020-02-01 00:00:00+00:00            5.0            4.4       2.449278  \n",
      "2020-02-01 00:00:00+00:00            5.0            4.4       2.553257  \n",
      "2020-02-01 00:00:00+00:00            5.0            4.4       2.553257  \n",
      "2020-02-01 00:00:00+00:00            5.0            4.4       2.553257  \n",
      "2020-02-01 00:00:00+00:00            5.0            4.4       2.449278  \n",
      "...                                  ...            ...            ...  \n",
      "2021-03-26 23:00:00+00:00            6.8            6.9       2.484548  \n",
      "2021-03-26 23:00:00+00:00            6.8            6.9       2.517828  \n",
      "2021-03-26 23:00:00+00:00            6.8            6.9       2.495641  \n",
      "2021-03-26 23:00:00+00:00            6.8            6.9       2.517828  \n",
      "2021-03-26 23:00:00+00:00            6.8            6.9       2.495641  \n",
      "\n",
      "[5867520 rows x 10 columns]\n",
      "MSE: 5.842100007910711\n",
      "MAE: 2.4080198848147663\n",
      "RMSE: 2.417043650394157\n"
     ]
    }
   ],
   "source": [
    "loss = model.evaluate(X_test, y_test)\n",
    "print(f'Test Loss: {loss}')\n",
    "\n",
    "forecast = model.predict(X_test)\n",
    "y_pred = scaler_y.inverse_transform(forecast)\n",
    "\n",
    "forecast_df = pd.DataFrame(data=y_pred, columns=['forecast_data'], index=common_records.index[:len(y_pred)])\n",
    "\n",
    "forecast_df = common_records.join(forecast_df, how=\"left\")\n",
    "\n",
    "print(forecast_df)\n",
    "mse = mean_squared_error(y_test, y_pred)\n",
    "mae = mean_absolute_error(y_test, y_pred)\n",
    "rmse = np.sqrt(mse)\n",
    "\n",
    "print(f'MSE: {mse}')\n",
    "print(f'MAE: {mae}')\n",
    "print(f'RMSE: {rmse}')"
   ]
  },
  {
   "cell_type": "code",
   "execution_count": 16,
   "metadata": {},
   "outputs": [],
   "source": [
    "df = forecast_df[forecast_df[\"forecast_data\"].notna()]\n",
    "df = df.drop(columns=[\"Temperature\",\"Temperature24\",\"Temperature48\",\"Temperature72\",\"Hour\",\"Participation_Phase\"])\n",
    "\n",
    "df.to_csv(parent_directory+\"/Neural_Network/predictions/common_records/cnn_lstm_common_records_method_2_80_20.csv\",index=True)"
   ]
  },
  {
   "cell_type": "markdown",
   "metadata": {},
   "source": [
    "50/50"
   ]
  },
  {
   "cell_type": "code",
   "execution_count": 17,
   "metadata": {},
   "outputs": [],
   "source": [
    "df_features = ['Temperature']\n",
    "df_target = [\"Demand_kWh\"]\n",
    "\n",
    "X= common_records[df_features].values\n",
    "y=common_records[df_target].values\n",
    "\n",
    "X = X.reshape((X.shape[0], 1, X.shape[1])) \n",
    "\n",
    "X_train, X_test, y_train, y_test = train_test_split(X, y, test_size=0.5, shuffle=False)"
   ]
  },
  {
   "cell_type": "code",
   "execution_count": 18,
   "metadata": {},
   "outputs": [],
   "source": [
    "scaler_X = MinMaxScaler()\n",
    "scaler_y = MinMaxScaler()\n",
    "\n",
    "X_train = scaler_X.fit_transform(X_train.reshape(-1, X_train.shape[1])).reshape(X_train.shape)\n",
    "X_test = scaler_X.transform(X_test.reshape(-1, X_test.shape[1])).reshape(X_test.shape)\n",
    "\n",
    "y_train = scaler_y.fit_transform(y_train.reshape(-1, 1)).flatten()\n",
    "y_test = scaler_y.transform(y_test.reshape(-1, 1)).flatten()"
   ]
  },
  {
   "cell_type": "code",
   "execution_count": 19,
   "metadata": {},
   "outputs": [
    {
     "name": "stderr",
     "output_type": "stream",
     "text": [
      "c:\\Users\\alfre\\AppData\\Local\\Programs\\Python\\Python312\\Lib\\site-packages\\keras\\src\\layers\\convolutional\\base_conv.py:99: UserWarning: Do not pass an `input_shape`/`input_dim` argument to a layer. When using Sequential models, prefer using an `Input(shape)` object as the first layer in the model instead.\n",
      "  super().__init__(\n"
     ]
    }
   ],
   "source": [
    "model = Sequential()\n",
    "model.add(LSTM(units=64, activation='relu', input_shape=(1, 1))) \n",
    "model.add(Dense(50, activation='relu'))\n",
    "model.add(Dense(1))\n",
    "learning_rate = 0.001\n",
    "optimizer = Adam(learning_rate=learning_rate)\n",
    "\n",
    "model.compile(optimizer=optimizer, loss='mse')"
   ]
  },
  {
   "cell_type": "code",
   "execution_count": 20,
   "metadata": {},
   "outputs": [
    {
     "name": "stdout",
     "output_type": "stream",
     "text": [
      "Epoch 1/10\n",
      "\u001b[1m11460/11460\u001b[0m \u001b[32m━━━━━━━━━━━━━━━━━━━━\u001b[0m\u001b[37m\u001b[0m \u001b[1m30s\u001b[0m 3ms/step - loss: 0.0110 - val_loss: 0.0204\n",
      "Epoch 2/10\n",
      "\u001b[1m11460/11460\u001b[0m \u001b[32m━━━━━━━━━━━━━━━━━━━━\u001b[0m\u001b[37m\u001b[0m \u001b[1m29s\u001b[0m 3ms/step - loss: 0.0103 - val_loss: 0.0195\n",
      "Epoch 3/10\n",
      "\u001b[1m11460/11460\u001b[0m \u001b[32m━━━━━━━━━━━━━━━━━━━━\u001b[0m\u001b[37m\u001b[0m \u001b[1m29s\u001b[0m 3ms/step - loss: 0.0103 - val_loss: 0.0195\n",
      "Epoch 4/10\n",
      "\u001b[1m11460/11460\u001b[0m \u001b[32m━━━━━━━━━━━━━━━━━━━━\u001b[0m\u001b[37m\u001b[0m \u001b[1m27s\u001b[0m 2ms/step - loss: 0.0103 - val_loss: 0.0195\n",
      "Epoch 5/10\n",
      "\u001b[1m11460/11460\u001b[0m \u001b[32m━━━━━━━━━━━━━━━━━━━━\u001b[0m\u001b[37m\u001b[0m \u001b[1m26s\u001b[0m 2ms/step - loss: 0.0103 - val_loss: 0.0201\n",
      "Epoch 6/10\n",
      "\u001b[1m11460/11460\u001b[0m \u001b[32m━━━━━━━━━━━━━━━━━━━━\u001b[0m\u001b[37m\u001b[0m \u001b[1m26s\u001b[0m 2ms/step - loss: 0.0104 - val_loss: 0.0198\n",
      "Epoch 7/10\n",
      "\u001b[1m11460/11460\u001b[0m \u001b[32m━━━━━━━━━━━━━━━━━━━━\u001b[0m\u001b[37m\u001b[0m \u001b[1m26s\u001b[0m 2ms/step - loss: 0.0104 - val_loss: 0.0193\n",
      "Epoch 8/10\n",
      "\u001b[1m11460/11460\u001b[0m \u001b[32m━━━━━━━━━━━━━━━━━━━━\u001b[0m\u001b[37m\u001b[0m \u001b[1m27s\u001b[0m 2ms/step - loss: 0.0103 - val_loss: 0.0198\n",
      "Epoch 9/10\n",
      "\u001b[1m11460/11460\u001b[0m \u001b[32m━━━━━━━━━━━━━━━━━━━━\u001b[0m\u001b[37m\u001b[0m \u001b[1m28s\u001b[0m 2ms/step - loss: 0.0104 - val_loss: 0.0194\n",
      "Epoch 10/10\n",
      "\u001b[1m11460/11460\u001b[0m \u001b[32m━━━━━━━━━━━━━━━━━━━━\u001b[0m\u001b[37m\u001b[0m \u001b[1m27s\u001b[0m 2ms/step - loss: 0.0103 - val_loss: 0.0199\n"
     ]
    }
   ],
   "source": [
    "history = model.fit(X_train, y_train,epochs=10, batch_size=16, validation_data=(X_test, y_test))\n"
   ]
  },
  {
   "cell_type": "code",
   "execution_count": 21,
   "metadata": {},
   "outputs": [
    {
     "name": "stdout",
     "output_type": "stream",
     "text": [
      "\u001b[1m5730/5730\u001b[0m \u001b[32m━━━━━━━━━━━━━━━━━━━━\u001b[0m\u001b[37m\u001b[0m \u001b[1m6s\u001b[0m 1ms/step - loss: 0.0203\n",
      "Test Loss: 0.019885776564478874\n",
      "\u001b[1m5730/5730\u001b[0m \u001b[32m━━━━━━━━━━━━━━━━━━━━\u001b[0m\u001b[37m\u001b[0m \u001b[1m6s\u001b[0m 1ms/step\n",
      "                                ID        Date  Hour Participation_Phase  \\\n",
      "From                                                                       \n",
      "2020-02-01 00:00:00+00:00    Exp_1  2020-02-01     1             Phase_1   \n",
      "2020-02-01 00:00:00+00:00    Exp_1  2020-02-01     1             Phase_1   \n",
      "2020-02-01 00:00:00+00:00    Exp_1  2020-02-01     1             Phase_1   \n",
      "2020-02-01 00:00:00+00:00    Exp_1  2020-02-01     1             Phase_1   \n",
      "2020-02-01 00:00:00+00:00    Exp_1  2020-02-01     1             Phase_1   \n",
      "...                            ...         ...   ...                 ...   \n",
      "2021-03-26 23:00:00+00:00  Exp_176  2021-03-26    24             Phase_2   \n",
      "2021-03-26 23:00:00+00:00  Exp_176  2021-03-26    24             Phase_2   \n",
      "2021-03-26 23:00:00+00:00  Exp_176  2021-03-26    24             Phase_2   \n",
      "2021-03-26 23:00:00+00:00  Exp_176  2021-03-26    24             Phase_2   \n",
      "2021-03-26 23:00:00+00:00  Exp_176  2021-03-26    24             Phase_2   \n",
      "\n",
      "                           Demand_kWh  Temperature  Temperature24  \\\n",
      "From                                                                \n",
      "2020-02-01 00:00:00+00:00       2.393          7.6            6.1   \n",
      "2020-02-01 00:00:00+00:00       2.393          7.6            6.1   \n",
      "2020-02-01 00:00:00+00:00       2.393          7.6            6.1   \n",
      "2020-02-01 00:00:00+00:00       2.393          7.6            6.1   \n",
      "2020-02-01 00:00:00+00:00       2.393          7.6            6.1   \n",
      "...                               ...          ...            ...   \n",
      "2021-03-26 23:00:00+00:00       0.552          5.2            6.9   \n",
      "2021-03-26 23:00:00+00:00       0.552          5.2            6.9   \n",
      "2021-03-26 23:00:00+00:00       0.552          5.2            6.9   \n",
      "2021-03-26 23:00:00+00:00       0.552          5.2            6.9   \n",
      "2021-03-26 23:00:00+00:00       0.552          5.2            6.9   \n",
      "\n",
      "                           Temperature48  Temperature72  forecast_data  \n",
      "From                                                                    \n",
      "2020-02-01 00:00:00+00:00            5.0            4.4       2.242523  \n",
      "2020-02-01 00:00:00+00:00            5.0            4.4       2.242523  \n",
      "2020-02-01 00:00:00+00:00            5.0            4.4       2.242523  \n",
      "2020-02-01 00:00:00+00:00            5.0            4.4       2.242523  \n",
      "2020-02-01 00:00:00+00:00            5.0            4.4       2.242523  \n",
      "...                                  ...            ...            ...  \n",
      "2021-03-26 23:00:00+00:00            6.8            6.9       2.242523  \n",
      "2021-03-26 23:00:00+00:00            6.8            6.9       2.242523  \n",
      "2021-03-26 23:00:00+00:00            6.8            6.9       2.242523  \n",
      "2021-03-26 23:00:00+00:00            6.8            6.9       2.242523  \n",
      "2021-03-26 23:00:00+00:00            6.8            6.9       2.242523  \n",
      "\n",
      "[14668800 rows x 10 columns]\n",
      "MSE: 4.694826699057315\n",
      "MAE: 2.1538647022704507\n",
      "RMSE: 2.1667548774739878\n"
     ]
    }
   ],
   "source": [
    "loss = model.evaluate(X_test, y_test)\n",
    "print(f'Test Loss: {loss}')\n",
    "\n",
    "forecast = model.predict(X_test)\n",
    "y_pred = scaler_y.inverse_transform(forecast)\n",
    "\n",
    "forecast_df = pd.DataFrame(data=y_pred, columns=['forecast_data'], index=common_records.index[:len(y_pred)])\n",
    "\n",
    "forecast_df = common_records.join(forecast_df, how=\"left\")\n",
    "\n",
    "print(forecast_df)\n",
    "mse = mean_squared_error(y_test, y_pred)\n",
    "mae = mean_absolute_error(y_test, y_pred)\n",
    "rmse = np.sqrt(mse)\n",
    "\n",
    "print(f'MSE: {mse}')\n",
    "print(f'MAE: {mae}')\n",
    "print(f'RMSE: {rmse}')"
   ]
  },
  {
   "cell_type": "code",
   "execution_count": 22,
   "metadata": {},
   "outputs": [],
   "source": [
    "df = forecast_df[forecast_df[\"forecast_data\"].notna()]\n",
    "df = df.drop(columns=[\"Temperature\",\"Temperature24\",\"Temperature48\",\"Temperature72\",\"Hour\",\"Participation_Phase\"])\n",
    "\n",
    "df.to_csv(parent_directory+\"/Neural_Network/predictions/common_records/cnn_lstm_common_records_method_2_50_50.csv\",index=True)"
   ]
  }
 ],
 "metadata": {
  "kernelspec": {
   "display_name": "Python 3",
   "language": "python",
   "name": "python3"
  },
  "language_info": {
   "codemirror_mode": {
    "name": "ipython",
    "version": 3
   },
   "file_extension": ".py",
   "mimetype": "text/x-python",
   "name": "python",
   "nbconvert_exporter": "python",
   "pygments_lexer": "ipython3",
   "version": "3.12.0"
  }
 },
 "nbformat": 4,
 "nbformat_minor": 2
}
