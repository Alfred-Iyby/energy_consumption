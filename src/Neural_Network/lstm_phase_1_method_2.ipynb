{
 "cells": [
  {
   "cell_type": "code",
   "execution_count": 1,
   "metadata": {},
   "outputs": [],
   "source": [
    "import os\n",
    "import numpy as np\n",
    "import pandas as pd\n",
    "import tensorflow as tf\n",
    "from tensorflow.keras.models import Sequential\n",
    "from tensorflow.keras.layers import LSTM,Dense, Conv1D, MaxPooling1D, Flatten, LSTM, TimeDistributed\n",
    "from sklearn.model_selection import train_test_split\n",
    "from sklearn.preprocessing import MinMaxScaler\n",
    "from sklearn.metrics import mean_squared_error, mean_absolute_error\n",
    "\n",
    "from tensorflow.keras.optimizers import Adam\n"
   ]
  },
  {
   "cell_type": "code",
   "execution_count": 2,
   "metadata": {},
   "outputs": [
    {
     "data": {
      "text/html": [
       "<div>\n",
       "<style scoped>\n",
       "    .dataframe tbody tr th:only-of-type {\n",
       "        vertical-align: middle;\n",
       "    }\n",
       "\n",
       "    .dataframe tbody tr th {\n",
       "        vertical-align: top;\n",
       "    }\n",
       "\n",
       "    .dataframe thead th {\n",
       "        text-align: right;\n",
       "    }\n",
       "</style>\n",
       "<table border=\"1\" class=\"dataframe\">\n",
       "  <thead>\n",
       "    <tr style=\"text-align: right;\">\n",
       "      <th></th>\n",
       "      <th>ID</th>\n",
       "      <th>From</th>\n",
       "      <th>Date</th>\n",
       "      <th>Hour</th>\n",
       "      <th>Participation_Phase</th>\n",
       "      <th>Demand_kWh</th>\n",
       "      <th>Temperature</th>\n",
       "      <th>Temperature24</th>\n",
       "      <th>Temperature48</th>\n",
       "      <th>Temperature72</th>\n",
       "    </tr>\n",
       "  </thead>\n",
       "  <tbody>\n",
       "    <tr>\n",
       "      <th>0</th>\n",
       "      <td>Exp_553</td>\n",
       "      <td>2020-02-01 00:00:00+00:00</td>\n",
       "      <td>2020-02-01</td>\n",
       "      <td>1</td>\n",
       "      <td>Phase_1</td>\n",
       "      <td>1.174</td>\n",
       "      <td>7.6</td>\n",
       "      <td>6.1</td>\n",
       "      <td>5.0</td>\n",
       "      <td>4.4</td>\n",
       "    </tr>\n",
       "    <tr>\n",
       "      <th>1</th>\n",
       "      <td>Exp_553</td>\n",
       "      <td>2020-02-01 01:00:00+00:00</td>\n",
       "      <td>2020-02-01</td>\n",
       "      <td>2</td>\n",
       "      <td>Phase_1</td>\n",
       "      <td>1.172</td>\n",
       "      <td>8.2</td>\n",
       "      <td>6.2</td>\n",
       "      <td>5.1</td>\n",
       "      <td>4.4</td>\n",
       "    </tr>\n",
       "    <tr>\n",
       "      <th>2</th>\n",
       "      <td>Exp_553</td>\n",
       "      <td>2020-02-01 02:00:00+00:00</td>\n",
       "      <td>2020-02-01</td>\n",
       "      <td>3</td>\n",
       "      <td>Phase_1</td>\n",
       "      <td>1.207</td>\n",
       "      <td>8.4</td>\n",
       "      <td>6.3</td>\n",
       "      <td>5.3</td>\n",
       "      <td>4.5</td>\n",
       "    </tr>\n",
       "    <tr>\n",
       "      <th>3</th>\n",
       "      <td>Exp_553</td>\n",
       "      <td>2020-02-01 03:00:00+00:00</td>\n",
       "      <td>2020-02-01</td>\n",
       "      <td>4</td>\n",
       "      <td>Phase_1</td>\n",
       "      <td>1.613</td>\n",
       "      <td>8.4</td>\n",
       "      <td>6.4</td>\n",
       "      <td>5.4</td>\n",
       "      <td>4.5</td>\n",
       "    </tr>\n",
       "    <tr>\n",
       "      <th>4</th>\n",
       "      <td>Exp_553</td>\n",
       "      <td>2020-02-01 04:00:00+00:00</td>\n",
       "      <td>2020-02-01</td>\n",
       "      <td>5</td>\n",
       "      <td>Phase_1</td>\n",
       "      <td>1.101</td>\n",
       "      <td>8.2</td>\n",
       "      <td>6.5</td>\n",
       "      <td>5.5</td>\n",
       "      <td>4.6</td>\n",
       "    </tr>\n",
       "  </tbody>\n",
       "</table>\n",
       "</div>"
      ],
      "text/plain": [
       "        ID                       From        Date  Hour Participation_Phase  \\\n",
       "0  Exp_553  2020-02-01 00:00:00+00:00  2020-02-01     1             Phase_1   \n",
       "1  Exp_553  2020-02-01 01:00:00+00:00  2020-02-01     2             Phase_1   \n",
       "2  Exp_553  2020-02-01 02:00:00+00:00  2020-02-01     3             Phase_1   \n",
       "3  Exp_553  2020-02-01 03:00:00+00:00  2020-02-01     4             Phase_1   \n",
       "4  Exp_553  2020-02-01 04:00:00+00:00  2020-02-01     5             Phase_1   \n",
       "\n",
       "   Demand_kWh  Temperature  Temperature24  Temperature48  Temperature72  \n",
       "0       1.174          7.6            6.1            5.0            4.4  \n",
       "1       1.172          8.2            6.2            5.1            4.4  \n",
       "2       1.207          8.4            6.3            5.3            4.5  \n",
       "3       1.613          8.4            6.4            5.4            4.5  \n",
       "4       1.101          8.2            6.5            5.5            4.6  "
      ]
     },
     "execution_count": 2,
     "metadata": {},
     "output_type": "execute_result"
    }
   ],
   "source": [
    "parent_directory = os.path.abspath(os.path.join(os.getcwd(), os.pardir))\n",
    "main_directory = os.path.dirname(parent_directory)\n",
    "phase_1 =  pd.read_csv(main_directory + '/data/phase_1_data.csv')\n",
    "phase_1.head()"
   ]
  },
  {
   "cell_type": "code",
   "execution_count": 3,
   "metadata": {},
   "outputs": [
    {
     "data": {
      "text/html": [
       "<div>\n",
       "<style scoped>\n",
       "    .dataframe tbody tr th:only-of-type {\n",
       "        vertical-align: middle;\n",
       "    }\n",
       "\n",
       "    .dataframe tbody tr th {\n",
       "        vertical-align: top;\n",
       "    }\n",
       "\n",
       "    .dataframe thead th {\n",
       "        text-align: right;\n",
       "    }\n",
       "</style>\n",
       "<table border=\"1\" class=\"dataframe\">\n",
       "  <thead>\n",
       "    <tr style=\"text-align: right;\">\n",
       "      <th></th>\n",
       "      <th>ID</th>\n",
       "      <th>Date</th>\n",
       "      <th>Hour</th>\n",
       "      <th>Participation_Phase</th>\n",
       "      <th>Demand_kWh</th>\n",
       "      <th>Temperature</th>\n",
       "      <th>Temperature24</th>\n",
       "      <th>Temperature48</th>\n",
       "      <th>Temperature72</th>\n",
       "    </tr>\n",
       "    <tr>\n",
       "      <th>From</th>\n",
       "      <th></th>\n",
       "      <th></th>\n",
       "      <th></th>\n",
       "      <th></th>\n",
       "      <th></th>\n",
       "      <th></th>\n",
       "      <th></th>\n",
       "      <th></th>\n",
       "      <th></th>\n",
       "    </tr>\n",
       "  </thead>\n",
       "  <tbody>\n",
       "    <tr>\n",
       "      <th>2020-02-01 00:00:00+00:00</th>\n",
       "      <td>Exp_553</td>\n",
       "      <td>2020-02-01</td>\n",
       "      <td>1</td>\n",
       "      <td>Phase_1</td>\n",
       "      <td>1.174</td>\n",
       "      <td>7.6</td>\n",
       "      <td>6.1</td>\n",
       "      <td>5.0</td>\n",
       "      <td>4.4</td>\n",
       "    </tr>\n",
       "    <tr>\n",
       "      <th>2020-02-01 01:00:00+00:00</th>\n",
       "      <td>Exp_553</td>\n",
       "      <td>2020-02-01</td>\n",
       "      <td>2</td>\n",
       "      <td>Phase_1</td>\n",
       "      <td>1.172</td>\n",
       "      <td>8.2</td>\n",
       "      <td>6.2</td>\n",
       "      <td>5.1</td>\n",
       "      <td>4.4</td>\n",
       "    </tr>\n",
       "    <tr>\n",
       "      <th>2020-02-01 02:00:00+00:00</th>\n",
       "      <td>Exp_553</td>\n",
       "      <td>2020-02-01</td>\n",
       "      <td>3</td>\n",
       "      <td>Phase_1</td>\n",
       "      <td>1.207</td>\n",
       "      <td>8.4</td>\n",
       "      <td>6.3</td>\n",
       "      <td>5.3</td>\n",
       "      <td>4.5</td>\n",
       "    </tr>\n",
       "    <tr>\n",
       "      <th>2020-02-01 03:00:00+00:00</th>\n",
       "      <td>Exp_553</td>\n",
       "      <td>2020-02-01</td>\n",
       "      <td>4</td>\n",
       "      <td>Phase_1</td>\n",
       "      <td>1.613</td>\n",
       "      <td>8.4</td>\n",
       "      <td>6.4</td>\n",
       "      <td>5.4</td>\n",
       "      <td>4.5</td>\n",
       "    </tr>\n",
       "    <tr>\n",
       "      <th>2020-02-01 04:00:00+00:00</th>\n",
       "      <td>Exp_553</td>\n",
       "      <td>2020-02-01</td>\n",
       "      <td>5</td>\n",
       "      <td>Phase_1</td>\n",
       "      <td>1.101</td>\n",
       "      <td>8.2</td>\n",
       "      <td>6.5</td>\n",
       "      <td>5.5</td>\n",
       "      <td>4.6</td>\n",
       "    </tr>\n",
       "  </tbody>\n",
       "</table>\n",
       "</div>"
      ],
      "text/plain": [
       "                                ID        Date  Hour Participation_Phase  \\\n",
       "From                                                                       \n",
       "2020-02-01 00:00:00+00:00  Exp_553  2020-02-01     1             Phase_1   \n",
       "2020-02-01 01:00:00+00:00  Exp_553  2020-02-01     2             Phase_1   \n",
       "2020-02-01 02:00:00+00:00  Exp_553  2020-02-01     3             Phase_1   \n",
       "2020-02-01 03:00:00+00:00  Exp_553  2020-02-01     4             Phase_1   \n",
       "2020-02-01 04:00:00+00:00  Exp_553  2020-02-01     5             Phase_1   \n",
       "\n",
       "                           Demand_kWh  Temperature  Temperature24  \\\n",
       "From                                                                \n",
       "2020-02-01 00:00:00+00:00       1.174          7.6            6.1   \n",
       "2020-02-01 01:00:00+00:00       1.172          8.2            6.2   \n",
       "2020-02-01 02:00:00+00:00       1.207          8.4            6.3   \n",
       "2020-02-01 03:00:00+00:00       1.613          8.4            6.4   \n",
       "2020-02-01 04:00:00+00:00       1.101          8.2            6.5   \n",
       "\n",
       "                           Temperature48  Temperature72  \n",
       "From                                                     \n",
       "2020-02-01 00:00:00+00:00            5.0            4.4  \n",
       "2020-02-01 01:00:00+00:00            5.1            4.4  \n",
       "2020-02-01 02:00:00+00:00            5.3            4.5  \n",
       "2020-02-01 03:00:00+00:00            5.4            4.5  \n",
       "2020-02-01 04:00:00+00:00            5.5            4.6  "
      ]
     },
     "execution_count": 3,
     "metadata": {},
     "output_type": "execute_result"
    }
   ],
   "source": [
    "# phase_1['From'] = pd.to_datetime(phase_1['From'])\n",
    "# phase_1['Day'] = phase_1['From'].dt.day\n",
    "# phase_1['Month'] = phase_1['From'].dt.month\n",
    "# phase_1['Weekday'] = phase_1['From'].dt.weekday\n",
    "phase_1.set_index('From',inplace=True)\n",
    "\n",
    "phase_1.head()"
   ]
  },
  {
   "cell_type": "markdown",
   "metadata": {},
   "source": [
    "75/25"
   ]
  },
  {
   "cell_type": "code",
   "execution_count": 4,
   "metadata": {},
   "outputs": [],
   "source": [
    "df_features = ['Temperature']\n",
    "df_target = [\"Demand_kWh\"]\n",
    "\n",
    "X= phase_1[df_features].values\n",
    "y=phase_1[df_target].values\n",
    "\n",
    "X = X.reshape((X.shape[0], 1, X.shape[1])) \n",
    "\n",
    "X_train, X_test, y_train, y_test = train_test_split(X, y, test_size=0.25, shuffle=False)"
   ]
  },
  {
   "cell_type": "code",
   "execution_count": 5,
   "metadata": {},
   "outputs": [],
   "source": [
    "scaler_X = MinMaxScaler()\n",
    "scaler_y = MinMaxScaler()\n",
    "\n",
    "X_train = scaler_X.fit_transform(X_train.reshape(-1, X_train.shape[1])).reshape(X_train.shape)\n",
    "X_test = scaler_X.transform(X_test.reshape(-1, X_test.shape[1])).reshape(X_test.shape)\n",
    "\n",
    "y_train = scaler_y.fit_transform(y_train.reshape(-1, 1)).flatten()\n",
    "y_test = scaler_y.transform(y_test.reshape(-1, 1)).flatten()"
   ]
  },
  {
   "cell_type": "code",
   "execution_count": 6,
   "metadata": {},
   "outputs": [
    {
     "name": "stderr",
     "output_type": "stream",
     "text": [
      "c:\\Users\\alfre\\AppData\\Local\\Programs\\Python\\Python312\\Lib\\site-packages\\keras\\src\\layers\\rnn\\rnn.py:204: UserWarning: Do not pass an `input_shape`/`input_dim` argument to a layer. When using Sequential models, prefer using an `Input(shape)` object as the first layer in the model instead.\n",
      "  super().__init__(**kwargs)\n"
     ]
    }
   ],
   "source": [
    "model = Sequential()\n",
    "model.add(LSTM(units=64, activation='relu', input_shape=(1, 1))) \n",
    "model.add(Dense(50, activation='relu'))\n",
    "model.add(Dense(1))\n",
    "learning_rate = 0.001\n",
    "optimizer = Adam(learning_rate=learning_rate)\n",
    "\n",
    "model.compile(optimizer=optimizer, loss='mse')"
   ]
  },
  {
   "cell_type": "code",
   "execution_count": 7,
   "metadata": {},
   "outputs": [
    {
     "name": "stdout",
     "output_type": "stream",
     "text": [
      "Epoch 1/10\n",
      "\u001b[1m4557/4557\u001b[0m \u001b[32m━━━━━━━━━━━━━━━━━━━━\u001b[0m\u001b[37m\u001b[0m \u001b[1m17s\u001b[0m 3ms/step - loss: 0.0154 - val_loss: 0.0170\n",
      "Epoch 2/10\n",
      "\u001b[1m4557/4557\u001b[0m \u001b[32m━━━━━━━━━━━━━━━━━━━━\u001b[0m\u001b[37m\u001b[0m \u001b[1m13s\u001b[0m 3ms/step - loss: 0.0153 - val_loss: 0.0172\n",
      "Epoch 3/10\n",
      "\u001b[1m4557/4557\u001b[0m \u001b[32m━━━━━━━━━━━━━━━━━━━━\u001b[0m\u001b[37m\u001b[0m \u001b[1m5s\u001b[0m 1ms/step - loss: 0.0150 - val_loss: 0.0173\n",
      "Epoch 4/10\n",
      "\u001b[1m4557/4557\u001b[0m \u001b[32m━━━━━━━━━━━━━━━━━━━━\u001b[0m\u001b[37m\u001b[0m \u001b[1m5s\u001b[0m 1ms/step - loss: 0.0151 - val_loss: 0.0167\n",
      "Epoch 5/10\n",
      "\u001b[1m4557/4557\u001b[0m \u001b[32m━━━━━━━━━━━━━━━━━━━━\u001b[0m\u001b[37m\u001b[0m \u001b[1m5s\u001b[0m 1ms/step - loss: 0.0154 - val_loss: 0.0170\n",
      "Epoch 6/10\n",
      "\u001b[1m4557/4557\u001b[0m \u001b[32m━━━━━━━━━━━━━━━━━━━━\u001b[0m\u001b[37m\u001b[0m \u001b[1m5s\u001b[0m 1ms/step - loss: 0.0154 - val_loss: 0.0172\n",
      "Epoch 7/10\n",
      "\u001b[1m4557/4557\u001b[0m \u001b[32m━━━━━━━━━━━━━━━━━━━━\u001b[0m\u001b[37m\u001b[0m \u001b[1m5s\u001b[0m 1ms/step - loss: 0.0153 - val_loss: 0.0170\n",
      "Epoch 8/10\n",
      "\u001b[1m4557/4557\u001b[0m \u001b[32m━━━━━━━━━━━━━━━━━━━━\u001b[0m\u001b[37m\u001b[0m \u001b[1m5s\u001b[0m 1ms/step - loss: 0.0151 - val_loss: 0.0175\n",
      "Epoch 9/10\n",
      "\u001b[1m4557/4557\u001b[0m \u001b[32m━━━━━━━━━━━━━━━━━━━━\u001b[0m\u001b[37m\u001b[0m \u001b[1m5s\u001b[0m 1ms/step - loss: 0.0151 - val_loss: 0.0173\n",
      "Epoch 10/10\n",
      "\u001b[1m4557/4557\u001b[0m \u001b[32m━━━━━━━━━━━━━━━━━━━━\u001b[0m\u001b[37m\u001b[0m \u001b[1m5s\u001b[0m 1ms/step - loss: 0.0152 - val_loss: 0.0172\n"
     ]
    }
   ],
   "source": [
    "history = model.fit(X_train, y_train,epochs=10, batch_size=16, validation_data=(X_test, y_test))\n"
   ]
  },
  {
   "cell_type": "code",
   "execution_count": 8,
   "metadata": {},
   "outputs": [
    {
     "name": "stdout",
     "output_type": "stream",
     "text": [
      "\u001b[1m760/760\u001b[0m \u001b[32m━━━━━━━━━━━━━━━━━━━━\u001b[0m\u001b[37m\u001b[0m \u001b[1m0s\u001b[0m 586us/step - loss: 0.0157\n",
      "Test Loss: 0.017177226021885872\n",
      "\u001b[1m760/760\u001b[0m \u001b[32m━━━━━━━━━━━━━━━━━━━━\u001b[0m\u001b[37m\u001b[0m \u001b[1m1s\u001b[0m 733us/step\n",
      "                                ID        Date  Hour Participation_Phase  \\\n",
      "From                                                                       \n",
      "2020-02-01 00:00:00+00:00  Exp_553  2020-02-01     1             Phase_1   \n",
      "2020-02-01 00:00:00+00:00  Exp_553  2020-02-01     1             Phase_1   \n",
      "2020-02-01 00:00:00+00:00  Exp_553  2020-02-01     1             Phase_1   \n",
      "2020-02-01 00:00:00+00:00  Exp_553  2020-02-01     1             Phase_1   \n",
      "2020-02-01 00:00:00+00:00  Exp_553  2020-02-01     1             Phase_1   \n",
      "...                            ...         ...   ...                 ...   \n",
      "2020-03-20 23:00:00+00:00  Exp_460  2020-03-20    24             Phase_1   \n",
      "2020-03-20 23:00:00+00:00  Exp_460  2020-03-20    24             Phase_1   \n",
      "2020-03-20 23:00:00+00:00  Exp_460  2020-03-20    24             Phase_1   \n",
      "2020-03-20 23:00:00+00:00  Exp_460  2020-03-20    24             Phase_1   \n",
      "2020-03-20 23:00:00+00:00  Exp_460  2020-03-20    24             Phase_1   \n",
      "\n",
      "                           Demand_kWh  Temperature  Temperature24  \\\n",
      "From                                                                \n",
      "2020-02-01 00:00:00+00:00       1.174          7.6            6.1   \n",
      "2020-02-01 00:00:00+00:00       1.174          7.6            6.1   \n",
      "2020-02-01 00:00:00+00:00       1.174          7.6            6.1   \n",
      "2020-02-01 00:00:00+00:00       1.174          7.6            6.1   \n",
      "2020-02-01 00:00:00+00:00       1.174          7.6            6.1   \n",
      "...                               ...          ...            ...   \n",
      "2020-03-20 23:00:00+00:00       0.626          1.9            4.3   \n",
      "2020-03-20 23:00:00+00:00       0.626          1.9            4.3   \n",
      "2020-03-20 23:00:00+00:00       0.626          1.9            4.3   \n",
      "2020-03-20 23:00:00+00:00       0.626          1.9            4.3   \n",
      "2020-03-20 23:00:00+00:00       0.626          1.9            4.3   \n",
      "\n",
      "                           Temperature48  Temperature72  forecast_data  \n",
      "From                                                                    \n",
      "2020-02-01 00:00:00+00:00            5.0            4.4       1.963260  \n",
      "2020-02-01 00:00:00+00:00            5.0            4.4       1.963260  \n",
      "2020-02-01 00:00:00+00:00            5.0            4.4       1.972659  \n",
      "2020-02-01 00:00:00+00:00            5.0            4.4       1.972659  \n",
      "2020-02-01 00:00:00+00:00            5.0            4.4       1.972659  \n",
      "...                                  ...            ...            ...  \n",
      "2020-03-20 23:00:00+00:00            4.3            4.7       1.994292  \n",
      "2020-03-20 23:00:00+00:00            4.3            4.7       1.994292  \n",
      "2020-03-20 23:00:00+00:00            4.3            4.7       1.994292  \n",
      "2020-03-20 23:00:00+00:00            4.3            4.7       1.994292  \n",
      "2020-03-20 23:00:00+00:00            4.3            4.7       1.994292  \n",
      "\n",
      "[1312200 rows x 10 columns]\n",
      "MSE: 3.4384634798403955\n",
      "MAE: 1.8487804271564456\n",
      "RMSE: 1.85430943476012\n"
     ]
    }
   ],
   "source": [
    "loss = model.evaluate(X_test, y_test)\n",
    "print(f'Test Loss: {loss}')\n",
    "\n",
    "forecast = model.predict(X_test)\n",
    "y_pred = scaler_y.inverse_transform(forecast)\n",
    "\n",
    "forecast_df = pd.DataFrame(data=y_pred, columns=['forecast_data'], index=phase_1.index[:len(y_pred)])\n",
    "\n",
    "forecast_df = phase_1.join(forecast_df, how=\"left\")\n",
    "\n",
    "print(forecast_df)\n",
    "mse = mean_squared_error(y_test, y_pred)\n",
    "mae = mean_absolute_error(y_test, y_pred)\n",
    "rmse = np.sqrt(mse)\n",
    "\n",
    "print(f'MSE: {mse}')\n",
    "print(f'MAE: {mae}')\n",
    "print(f'RMSE: {rmse}')"
   ]
  },
  {
   "cell_type": "code",
   "execution_count": 9,
   "metadata": {},
   "outputs": [],
   "source": [
    "df = forecast_df[forecast_df[\"forecast_data\"].notna()]\n",
    "df = df.drop(columns=[\"Temperature\",\"Temperature24\",\"Temperature48\",\"Temperature72\",\"Hour\",\"Participation_Phase\"])\n",
    "\n",
    "df.to_csv(parent_directory+\"/Neural_Network/predictions/phase_1/cnn_lstm_phase_1_method_2_75_25.csv\",index=True)"
   ]
  },
  {
   "cell_type": "markdown",
   "metadata": {},
   "source": [
    "80/20"
   ]
  },
  {
   "cell_type": "code",
   "execution_count": 10,
   "metadata": {},
   "outputs": [],
   "source": [
    "df_features = ['Temperature']\n",
    "df_target = [\"Demand_kWh\"]\n",
    "\n",
    "X= phase_1[df_features].values\n",
    "y=phase_1[df_target].values\n",
    "\n",
    "X = X.reshape((X.shape[0], 1, X.shape[1])) \n",
    "\n",
    "X_train, X_test, y_train, y_test = train_test_split(X, y, test_size=0.2, shuffle=False)"
   ]
  },
  {
   "cell_type": "code",
   "execution_count": 11,
   "metadata": {},
   "outputs": [],
   "source": [
    "scaler_X = MinMaxScaler()\n",
    "scaler_y = MinMaxScaler()\n",
    "\n",
    "X_train = scaler_X.fit_transform(X_train.reshape(-1, X_train.shape[1])).reshape(X_train.shape)\n",
    "X_test = scaler_X.transform(X_test.reshape(-1, X_test.shape[1])).reshape(X_test.shape)\n",
    "\n",
    "y_train = scaler_y.fit_transform(y_train.reshape(-1, 1)).flatten()\n",
    "y_test = scaler_y.transform(y_test.reshape(-1, 1)).flatten()"
   ]
  },
  {
   "cell_type": "code",
   "execution_count": 12,
   "metadata": {},
   "outputs": [
    {
     "name": "stderr",
     "output_type": "stream",
     "text": [
      "c:\\Users\\alfre\\AppData\\Local\\Programs\\Python\\Python312\\Lib\\site-packages\\keras\\src\\layers\\rnn\\rnn.py:204: UserWarning: Do not pass an `input_shape`/`input_dim` argument to a layer. When using Sequential models, prefer using an `Input(shape)` object as the first layer in the model instead.\n",
      "  super().__init__(**kwargs)\n"
     ]
    }
   ],
   "source": [
    "model = Sequential()\n",
    "model.add(LSTM(units=64, activation='relu', input_shape=(1, 1))) \n",
    "model.add(Dense(50, activation='relu'))\n",
    "model.add(Dense(1))\n",
    "learning_rate = 0.001\n",
    "optimizer = Adam(learning_rate=learning_rate)\n",
    "\n",
    "model.compile(optimizer=optimizer, loss='mse')"
   ]
  },
  {
   "cell_type": "code",
   "execution_count": 13,
   "metadata": {},
   "outputs": [
    {
     "name": "stdout",
     "output_type": "stream",
     "text": [
      "Epoch 1/10\n",
      "\u001b[1m4860/4860\u001b[0m \u001b[32m━━━━━━━━━━━━━━━━━━━━\u001b[0m\u001b[37m\u001b[0m \u001b[1m6s\u001b[0m 1ms/step - loss: 0.0152 - val_loss: 0.0197\n",
      "Epoch 2/10\n",
      "\u001b[1m4860/4860\u001b[0m \u001b[32m━━━━━━━━━━━━━━━━━━━━\u001b[0m\u001b[37m\u001b[0m \u001b[1m5s\u001b[0m 954us/step - loss: 0.0152 - val_loss: 0.0194\n",
      "Epoch 3/10\n",
      "\u001b[1m4860/4860\u001b[0m \u001b[32m━━━━━━━━━━━━━━━━━━━━\u001b[0m\u001b[37m\u001b[0m \u001b[1m5s\u001b[0m 929us/step - loss: 0.0147 - val_loss: 0.0188\n",
      "Epoch 4/10\n",
      "\u001b[1m4860/4860\u001b[0m \u001b[32m━━━━━━━━━━━━━━━━━━━━\u001b[0m\u001b[37m\u001b[0m \u001b[1m4s\u001b[0m 905us/step - loss: 0.0146 - val_loss: 0.0191\n",
      "Epoch 5/10\n",
      "\u001b[1m4860/4860\u001b[0m \u001b[32m━━━━━━━━━━━━━━━━━━━━\u001b[0m\u001b[37m\u001b[0m \u001b[1m4s\u001b[0m 901us/step - loss: 0.0148 - val_loss: 0.0192\n",
      "Epoch 6/10\n",
      "\u001b[1m4860/4860\u001b[0m \u001b[32m━━━━━━━━━━━━━━━━━━━━\u001b[0m\u001b[37m\u001b[0m \u001b[1m4s\u001b[0m 906us/step - loss: 0.0150 - val_loss: 0.0185\n",
      "Epoch 7/10\n",
      "\u001b[1m4860/4860\u001b[0m \u001b[32m━━━━━━━━━━━━━━━━━━━━\u001b[0m\u001b[37m\u001b[0m \u001b[1m4s\u001b[0m 897us/step - loss: 0.0150 - val_loss: 0.0189\n",
      "Epoch 8/10\n",
      "\u001b[1m4860/4860\u001b[0m \u001b[32m━━━━━━━━━━━━━━━━━━━━\u001b[0m\u001b[37m\u001b[0m \u001b[1m4s\u001b[0m 900us/step - loss: 0.0151 - val_loss: 0.0188\n",
      "Epoch 9/10\n",
      "\u001b[1m4860/4860\u001b[0m \u001b[32m━━━━━━━━━━━━━━━━━━━━\u001b[0m\u001b[37m\u001b[0m \u001b[1m4s\u001b[0m 908us/step - loss: 0.0150 - val_loss: 0.0192\n",
      "Epoch 10/10\n",
      "\u001b[1m4860/4860\u001b[0m \u001b[32m━━━━━━━━━━━━━━━━━━━━\u001b[0m\u001b[37m\u001b[0m \u001b[1m4s\u001b[0m 899us/step - loss: 0.0148 - val_loss: 0.0188\n"
     ]
    }
   ],
   "source": [
    "history = model.fit(X_train, y_train,epochs=10, batch_size=16, validation_data=(X_test, y_test))\n"
   ]
  },
  {
   "cell_type": "code",
   "execution_count": 14,
   "metadata": {},
   "outputs": [
    {
     "name": "stdout",
     "output_type": "stream",
     "text": [
      "\u001b[1m608/608\u001b[0m \u001b[32m━━━━━━━━━━━━━━━━━━━━\u001b[0m\u001b[37m\u001b[0m \u001b[1m1s\u001b[0m 665us/step - loss: 0.0192\n",
      "Test Loss: 0.018766017630696297\n",
      "\u001b[1m608/608\u001b[0m \u001b[32m━━━━━━━━━━━━━━━━━━━━\u001b[0m\u001b[37m\u001b[0m \u001b[1m1s\u001b[0m 740us/step\n",
      "MSE: 3.657292767344886\n",
      "MAE: 1.9074842385664712\n",
      "RMSE: 1.9124049694938794\n"
     ]
    }
   ],
   "source": [
    "loss = model.evaluate(X_test, y_test)\n",
    "print(f'Test Loss: {loss}')\n",
    "\n",
    "forecast = model.predict(X_test)\n",
    "y_pred = scaler_y.inverse_transform(forecast)\n",
    "\n",
    "forecast_df = pd.DataFrame(data=y_pred, columns=['forecast_data'], index=phase_1.index[:len(y_pred)])\n",
    "\n",
    "forecast_df = phase_1.join(forecast_df, how=\"left\")\n",
    "\n",
    "mse = mean_squared_error(y_test, y_pred)\n",
    "mae = mean_absolute_error(y_test, y_pred)\n",
    "rmse = np.sqrt(mse)\n",
    "\n",
    "print(f'MSE: {mse}')\n",
    "print(f'MAE: {mae}')\n",
    "print(f'RMSE: {rmse}')"
   ]
  },
  {
   "cell_type": "code",
   "execution_count": 15,
   "metadata": {},
   "outputs": [],
   "source": [
    "df = forecast_df[forecast_df[\"forecast_data\"].notna()]\n",
    "df = df.drop(columns=[\"Temperature\",\"Temperature24\",\"Temperature48\",\"Temperature72\",\"Hour\",\"Participation_Phase\"])\n",
    "\n",
    "df.to_csv(parent_directory+\"/Neural_Network/predictions/phase_1/cnn_lstm_phase_1_method_2_80_20.csv\",index=True)"
   ]
  },
  {
   "cell_type": "markdown",
   "metadata": {},
   "source": [
    "50/50"
   ]
  },
  {
   "cell_type": "code",
   "execution_count": 16,
   "metadata": {},
   "outputs": [],
   "source": [
    "df_features = ['Temperature']\n",
    "df_target = [\"Demand_kWh\"]\n",
    "\n",
    "X= phase_1[df_features].values\n",
    "y=phase_1[df_target].values\n",
    "\n",
    "X = X.reshape((X.shape[0], 1, X.shape[1])) \n",
    "\n",
    "X_train, X_test, y_train, y_test = train_test_split(X, y, test_size=0.5, shuffle=False)"
   ]
  },
  {
   "cell_type": "code",
   "execution_count": 17,
   "metadata": {},
   "outputs": [],
   "source": [
    "scaler_X = MinMaxScaler()\n",
    "scaler_y = MinMaxScaler()\n",
    "\n",
    "X_train = scaler_X.fit_transform(X_train.reshape(-1, X_train.shape[1])).reshape(X_train.shape)\n",
    "X_test = scaler_X.transform(X_test.reshape(-1, X_test.shape[1])).reshape(X_test.shape)\n",
    "\n",
    "y_train = scaler_y.fit_transform(y_train.reshape(-1, 1)).flatten()\n",
    "y_test = scaler_y.transform(y_test.reshape(-1, 1)).flatten()"
   ]
  },
  {
   "cell_type": "code",
   "execution_count": 18,
   "metadata": {},
   "outputs": [
    {
     "name": "stderr",
     "output_type": "stream",
     "text": [
      "c:\\Users\\alfre\\AppData\\Local\\Programs\\Python\\Python312\\Lib\\site-packages\\keras\\src\\layers\\rnn\\rnn.py:204: UserWarning: Do not pass an `input_shape`/`input_dim` argument to a layer. When using Sequential models, prefer using an `Input(shape)` object as the first layer in the model instead.\n",
      "  super().__init__(**kwargs)\n"
     ]
    }
   ],
   "source": [
    "model = Sequential()\n",
    "model.add(LSTM(units=64, activation='relu', input_shape=(1, 1))) \n",
    "model.add(Dense(50, activation='relu'))\n",
    "model.add(Dense(1))\n",
    "learning_rate = 0.001\n",
    "optimizer = Adam(learning_rate=learning_rate)\n",
    "\n",
    "model.compile(optimizer=optimizer, loss='mse')"
   ]
  },
  {
   "cell_type": "code",
   "execution_count": 19,
   "metadata": {},
   "outputs": [
    {
     "name": "stdout",
     "output_type": "stream",
     "text": [
      "Epoch 1/10\n",
      "\u001b[1m3038/3038\u001b[0m \u001b[32m━━━━━━━━━━━━━━━━━━━━\u001b[0m\u001b[37m\u001b[0m \u001b[1m6s\u001b[0m 1ms/step - loss: 0.0172 - val_loss: 0.0183\n",
      "Epoch 2/10\n",
      "\u001b[1m3038/3038\u001b[0m \u001b[32m━━━━━━━━━━━━━━━━━━━━\u001b[0m\u001b[37m\u001b[0m \u001b[1m5s\u001b[0m 1ms/step - loss: 0.0160 - val_loss: 0.0167\n",
      "Epoch 3/10\n",
      "\u001b[1m3038/3038\u001b[0m \u001b[32m━━━━━━━━━━━━━━━━━━━━\u001b[0m\u001b[37m\u001b[0m \u001b[1m4s\u001b[0m 1ms/step - loss: 0.0162 - val_loss: 0.0169\n",
      "Epoch 4/10\n",
      "\u001b[1m3038/3038\u001b[0m \u001b[32m━━━━━━━━━━━━━━━━━━━━\u001b[0m\u001b[37m\u001b[0m \u001b[1m4s\u001b[0m 1ms/step - loss: 0.0161 - val_loss: 0.0180\n",
      "Epoch 5/10\n",
      "\u001b[1m3038/3038\u001b[0m \u001b[32m━━━━━━━━━━━━━━━━━━━━\u001b[0m\u001b[37m\u001b[0m \u001b[1m4s\u001b[0m 1ms/step - loss: 0.0162 - val_loss: 0.0179\n",
      "Epoch 6/10\n",
      "\u001b[1m3038/3038\u001b[0m \u001b[32m━━━━━━━━━━━━━━━━━━━━\u001b[0m\u001b[37m\u001b[0m \u001b[1m4s\u001b[0m 1ms/step - loss: 0.0160 - val_loss: 0.0190\n",
      "Epoch 7/10\n",
      "\u001b[1m3038/3038\u001b[0m \u001b[32m━━━━━━━━━━━━━━━━━━━━\u001b[0m\u001b[37m\u001b[0m \u001b[1m4s\u001b[0m 1ms/step - loss: 0.0163 - val_loss: 0.0174\n",
      "Epoch 8/10\n",
      "\u001b[1m3038/3038\u001b[0m \u001b[32m━━━━━━━━━━━━━━━━━━━━\u001b[0m\u001b[37m\u001b[0m \u001b[1m4s\u001b[0m 1ms/step - loss: 0.0162 - val_loss: 0.0176\n",
      "Epoch 9/10\n",
      "\u001b[1m3038/3038\u001b[0m \u001b[32m━━━━━━━━━━━━━━━━━━━━\u001b[0m\u001b[37m\u001b[0m \u001b[1m5s\u001b[0m 1ms/step - loss: 0.0161 - val_loss: 0.0170\n",
      "Epoch 10/10\n",
      "\u001b[1m3038/3038\u001b[0m \u001b[32m━━━━━━━━━━━━━━━━━━━━\u001b[0m\u001b[37m\u001b[0m \u001b[1m4s\u001b[0m 1ms/step - loss: 0.0162 - val_loss: 0.0195\n"
     ]
    }
   ],
   "source": [
    "history = model.fit(X_train, y_train,epochs=10, batch_size=16, validation_data=(X_test, y_test))\n"
   ]
  },
  {
   "cell_type": "code",
   "execution_count": 20,
   "metadata": {},
   "outputs": [
    {
     "name": "stdout",
     "output_type": "stream",
     "text": [
      "\u001b[1m1519/1519\u001b[0m \u001b[32m━━━━━━━━━━━━━━━━━━━━\u001b[0m\u001b[37m\u001b[0m \u001b[1m1s\u001b[0m 630us/step - loss: 0.0220\n",
      "Test Loss: 0.019538866356015205\n",
      "\u001b[1m1519/1519\u001b[0m \u001b[32m━━━━━━━━━━━━━━━━━━━━\u001b[0m\u001b[37m\u001b[0m \u001b[1m1s\u001b[0m 669us/step\n",
      "                                ID        Date  Hour Participation_Phase  \\\n",
      "From                                                                       \n",
      "2020-02-01 00:00:00+00:00  Exp_553  2020-02-01     1             Phase_1   \n",
      "2020-02-01 00:00:00+00:00  Exp_553  2020-02-01     1             Phase_1   \n",
      "2020-02-01 00:00:00+00:00  Exp_553  2020-02-01     1             Phase_1   \n",
      "2020-02-01 00:00:00+00:00  Exp_553  2020-02-01     1             Phase_1   \n",
      "2020-02-01 00:00:00+00:00  Exp_553  2020-02-01     1             Phase_1   \n",
      "...                            ...         ...   ...                 ...   \n",
      "2020-03-20 23:00:00+00:00  Exp_460  2020-03-20    24             Phase_1   \n",
      "2020-03-20 23:00:00+00:00  Exp_460  2020-03-20    24             Phase_1   \n",
      "2020-03-20 23:00:00+00:00  Exp_460  2020-03-20    24             Phase_1   \n",
      "2020-03-20 23:00:00+00:00  Exp_460  2020-03-20    24             Phase_1   \n",
      "2020-03-20 23:00:00+00:00  Exp_460  2020-03-20    24             Phase_1   \n",
      "\n",
      "                           Demand_kWh  Temperature  Temperature24  \\\n",
      "From                                                                \n",
      "2020-02-01 00:00:00+00:00       1.174          7.6            6.1   \n",
      "2020-02-01 00:00:00+00:00       1.174          7.6            6.1   \n",
      "2020-02-01 00:00:00+00:00       1.174          7.6            6.1   \n",
      "2020-02-01 00:00:00+00:00       1.174          7.6            6.1   \n",
      "2020-02-01 00:00:00+00:00       1.174          7.6            6.1   \n",
      "...                               ...          ...            ...   \n",
      "2020-03-20 23:00:00+00:00       0.626          1.9            4.3   \n",
      "2020-03-20 23:00:00+00:00       0.626          1.9            4.3   \n",
      "2020-03-20 23:00:00+00:00       0.626          1.9            4.3   \n",
      "2020-03-20 23:00:00+00:00       0.626          1.9            4.3   \n",
      "2020-03-20 23:00:00+00:00       0.626          1.9            4.3   \n",
      "\n",
      "                           Temperature48  Temperature72  forecast_data  \n",
      "From                                                                    \n",
      "2020-02-01 00:00:00+00:00            5.0            4.4       2.941370  \n",
      "2020-02-01 00:00:00+00:00            5.0            4.4       2.941370  \n",
      "2020-02-01 00:00:00+00:00            5.0            4.4       2.941370  \n",
      "2020-02-01 00:00:00+00:00            5.0            4.4       2.941370  \n",
      "2020-02-01 00:00:00+00:00            5.0            4.4       2.941370  \n",
      "...                                  ...            ...            ...  \n",
      "2020-03-20 23:00:00+00:00            4.3            4.7       2.893132  \n",
      "2020-03-20 23:00:00+00:00            4.3            4.7       2.893132  \n",
      "2020-03-20 23:00:00+00:00            4.3            4.7       2.893132  \n",
      "2020-03-20 23:00:00+00:00            4.3            4.7       2.893132  \n",
      "2020-03-20 23:00:00+00:00            4.3            4.7       2.893132  \n",
      "\n",
      "[2624400 rows x 10 columns]\n",
      "MSE: 7.053510883014558\n",
      "MAE: 2.6303408154643457\n",
      "RMSE: 2.655844664699831\n"
     ]
    }
   ],
   "source": [
    "loss = model.evaluate(X_test, y_test)\n",
    "print(f'Test Loss: {loss}')\n",
    "\n",
    "forecast = model.predict(X_test)\n",
    "y_pred = scaler_y.inverse_transform(forecast)\n",
    "\n",
    "forecast_df = pd.DataFrame(data=y_pred, columns=['forecast_data'], index=phase_1.index[:len(y_pred)])\n",
    "\n",
    "forecast_df = phase_1.join(forecast_df, how=\"left\")\n",
    "\n",
    "print(forecast_df)\n",
    "mse = mean_squared_error(y_test, y_pred)\n",
    "mae = mean_absolute_error(y_test, y_pred)\n",
    "rmse = np.sqrt(mse)\n",
    "\n",
    "print(f'MSE: {mse}')\n",
    "print(f'MAE: {mae}')\n",
    "print(f'RMSE: {rmse}')"
   ]
  },
  {
   "cell_type": "code",
   "execution_count": 21,
   "metadata": {},
   "outputs": [],
   "source": [
    "df = forecast_df[forecast_df[\"forecast_data\"].notna()]\n",
    "df = df.drop(columns=[\"Temperature\",\"Temperature24\",\"Temperature48\",\"Temperature72\",\"Hour\",\"Participation_Phase\"])\n",
    "\n",
    "df.to_csv(parent_directory+\"/Neural_Network/predictions/phase_1/cnn_lstm_phase_1_method_2_50_50.csv\",index=True)"
   ]
  }
 ],
 "metadata": {
  "kernelspec": {
   "display_name": "Python 3",
   "language": "python",
   "name": "python3"
  },
  "language_info": {
   "codemirror_mode": {
    "name": "ipython",
    "version": 3
   },
   "file_extension": ".py",
   "mimetype": "text/x-python",
   "name": "python",
   "nbconvert_exporter": "python",
   "pygments_lexer": "ipython3",
   "version": "3.12.0"
  }
 },
 "nbformat": 4,
 "nbformat_minor": 2
}
