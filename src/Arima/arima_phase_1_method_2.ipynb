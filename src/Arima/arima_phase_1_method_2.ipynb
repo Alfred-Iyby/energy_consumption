{
 "cells": [
  {
   "cell_type": "code",
   "execution_count": 3,
   "metadata": {},
   "outputs": [],
   "source": [
    "import os, pandas as pd\n",
    "import numpy as np\n",
    "from pmdarima import auto_arima\n",
    "from sklearn.model_selection import train_test_split\n",
    "from sklearn.metrics import mean_squared_error, mean_absolute_error\n"
   ]
  },
  {
   "cell_type": "code",
   "execution_count": 4,
   "metadata": {},
   "outputs": [
    {
     "data": {
      "text/html": [
       "<div>\n",
       "<style scoped>\n",
       "    .dataframe tbody tr th:only-of-type {\n",
       "        vertical-align: middle;\n",
       "    }\n",
       "\n",
       "    .dataframe tbody tr th {\n",
       "        vertical-align: top;\n",
       "    }\n",
       "\n",
       "    .dataframe thead th {\n",
       "        text-align: right;\n",
       "    }\n",
       "</style>\n",
       "<table border=\"1\" class=\"dataframe\">\n",
       "  <thead>\n",
       "    <tr style=\"text-align: right;\">\n",
       "      <th></th>\n",
       "      <th>ID</th>\n",
       "      <th>From</th>\n",
       "      <th>Date</th>\n",
       "      <th>Hour</th>\n",
       "      <th>Participation_Phase</th>\n",
       "      <th>Demand_kWh</th>\n",
       "      <th>Temperature</th>\n",
       "      <th>Temperature24</th>\n",
       "      <th>Temperature48</th>\n",
       "      <th>Temperature72</th>\n",
       "    </tr>\n",
       "  </thead>\n",
       "  <tbody>\n",
       "    <tr>\n",
       "      <th>0</th>\n",
       "      <td>Exp_553</td>\n",
       "      <td>2020-02-01 00:00:00+00:00</td>\n",
       "      <td>2020-02-01</td>\n",
       "      <td>1</td>\n",
       "      <td>Phase_1</td>\n",
       "      <td>1.174</td>\n",
       "      <td>7.6</td>\n",
       "      <td>6.1</td>\n",
       "      <td>5.0</td>\n",
       "      <td>4.4</td>\n",
       "    </tr>\n",
       "    <tr>\n",
       "      <th>1</th>\n",
       "      <td>Exp_553</td>\n",
       "      <td>2020-02-01 01:00:00+00:00</td>\n",
       "      <td>2020-02-01</td>\n",
       "      <td>2</td>\n",
       "      <td>Phase_1</td>\n",
       "      <td>1.172</td>\n",
       "      <td>8.2</td>\n",
       "      <td>6.2</td>\n",
       "      <td>5.1</td>\n",
       "      <td>4.4</td>\n",
       "    </tr>\n",
       "    <tr>\n",
       "      <th>2</th>\n",
       "      <td>Exp_553</td>\n",
       "      <td>2020-02-01 02:00:00+00:00</td>\n",
       "      <td>2020-02-01</td>\n",
       "      <td>3</td>\n",
       "      <td>Phase_1</td>\n",
       "      <td>1.207</td>\n",
       "      <td>8.4</td>\n",
       "      <td>6.3</td>\n",
       "      <td>5.3</td>\n",
       "      <td>4.5</td>\n",
       "    </tr>\n",
       "    <tr>\n",
       "      <th>3</th>\n",
       "      <td>Exp_553</td>\n",
       "      <td>2020-02-01 03:00:00+00:00</td>\n",
       "      <td>2020-02-01</td>\n",
       "      <td>4</td>\n",
       "      <td>Phase_1</td>\n",
       "      <td>1.613</td>\n",
       "      <td>8.4</td>\n",
       "      <td>6.4</td>\n",
       "      <td>5.4</td>\n",
       "      <td>4.5</td>\n",
       "    </tr>\n",
       "    <tr>\n",
       "      <th>4</th>\n",
       "      <td>Exp_553</td>\n",
       "      <td>2020-02-01 04:00:00+00:00</td>\n",
       "      <td>2020-02-01</td>\n",
       "      <td>5</td>\n",
       "      <td>Phase_1</td>\n",
       "      <td>1.101</td>\n",
       "      <td>8.2</td>\n",
       "      <td>6.5</td>\n",
       "      <td>5.5</td>\n",
       "      <td>4.6</td>\n",
       "    </tr>\n",
       "  </tbody>\n",
       "</table>\n",
       "</div>"
      ],
      "text/plain": [
       "        ID                       From        Date  Hour Participation_Phase  \\\n",
       "0  Exp_553  2020-02-01 00:00:00+00:00  2020-02-01     1             Phase_1   \n",
       "1  Exp_553  2020-02-01 01:00:00+00:00  2020-02-01     2             Phase_1   \n",
       "2  Exp_553  2020-02-01 02:00:00+00:00  2020-02-01     3             Phase_1   \n",
       "3  Exp_553  2020-02-01 03:00:00+00:00  2020-02-01     4             Phase_1   \n",
       "4  Exp_553  2020-02-01 04:00:00+00:00  2020-02-01     5             Phase_1   \n",
       "\n",
       "   Demand_kWh  Temperature  Temperature24  Temperature48  Temperature72  \n",
       "0       1.174          7.6            6.1            5.0            4.4  \n",
       "1       1.172          8.2            6.2            5.1            4.4  \n",
       "2       1.207          8.4            6.3            5.3            4.5  \n",
       "3       1.613          8.4            6.4            5.4            4.5  \n",
       "4       1.101          8.2            6.5            5.5            4.6  "
      ]
     },
     "execution_count": 4,
     "metadata": {},
     "output_type": "execute_result"
    }
   ],
   "source": [
    "parent_directory = os.path.abspath(os.path.join(os.getcwd(), os.pardir))\n",
    "main_directory = os.path.dirname(parent_directory)\n",
    "phase_1 =  pd.read_csv(main_directory + '/data/phase_1_data.csv')\n",
    "phase_1.head()"
   ]
  },
  {
   "cell_type": "markdown",
   "metadata": {},
   "source": [
    "75 / 25"
   ]
  },
  {
   "cell_type": "code",
   "execution_count": 5,
   "metadata": {},
   "outputs": [
    {
     "data": {
      "text/html": [
       "<div>\n",
       "<style scoped>\n",
       "    .dataframe tbody tr th:only-of-type {\n",
       "        vertical-align: middle;\n",
       "    }\n",
       "\n",
       "    .dataframe tbody tr th {\n",
       "        vertical-align: top;\n",
       "    }\n",
       "\n",
       "    .dataframe thead th {\n",
       "        text-align: right;\n",
       "    }\n",
       "</style>\n",
       "<table border=\"1\" class=\"dataframe\">\n",
       "  <thead>\n",
       "    <tr style=\"text-align: right;\">\n",
       "      <th></th>\n",
       "      <th>From</th>\n",
       "      <th>Temperature</th>\n",
       "    </tr>\n",
       "  </thead>\n",
       "  <tbody>\n",
       "    <tr>\n",
       "      <th>0</th>\n",
       "      <td>2020-02-01 00:00:00+00:00</td>\n",
       "      <td>7.6</td>\n",
       "    </tr>\n",
       "    <tr>\n",
       "      <th>1</th>\n",
       "      <td>2020-02-01 01:00:00+00:00</td>\n",
       "      <td>8.2</td>\n",
       "    </tr>\n",
       "    <tr>\n",
       "      <th>2</th>\n",
       "      <td>2020-02-01 02:00:00+00:00</td>\n",
       "      <td>8.4</td>\n",
       "    </tr>\n",
       "    <tr>\n",
       "      <th>3</th>\n",
       "      <td>2020-02-01 03:00:00+00:00</td>\n",
       "      <td>8.4</td>\n",
       "    </tr>\n",
       "    <tr>\n",
       "      <th>4</th>\n",
       "      <td>2020-02-01 04:00:00+00:00</td>\n",
       "      <td>8.2</td>\n",
       "    </tr>\n",
       "  </tbody>\n",
       "</table>\n",
       "</div>"
      ],
      "text/plain": [
       "                        From  Temperature\n",
       "0  2020-02-01 00:00:00+00:00          7.6\n",
       "1  2020-02-01 01:00:00+00:00          8.2\n",
       "2  2020-02-01 02:00:00+00:00          8.4\n",
       "3  2020-02-01 03:00:00+00:00          8.4\n",
       "4  2020-02-01 04:00:00+00:00          8.2"
      ]
     },
     "execution_count": 5,
     "metadata": {},
     "output_type": "execute_result"
    }
   ],
   "source": [
    "y=phase_1['Demand_kWh']\n",
    "X= phase_1[[\"From\",\"Temperature\"]]\n",
    "X_train, X_test, y_train, y_test = train_test_split(X, y, test_size=0.25, shuffle=False)\n",
    "X_train.head()"
   ]
  },
  {
   "cell_type": "code",
   "execution_count": 6,
   "metadata": {},
   "outputs": [
    {
     "name": "stdout",
     "output_type": "stream",
     "text": [
      "                               SARIMAX Results                                \n",
      "==============================================================================\n",
      "Dep. Variable:                      y   No. Observations:                72900\n",
      "Model:               SARIMAX(2, 1, 5)   Log Likelihood              -74928.868\n",
      "Date:                Mon, 08 Jul 2024   AIC                         149873.736\n",
      "Time:                        00:11:52   BIC                         149947.311\n",
      "Sample:                             0   HQIC                        149896.386\n",
      "                              - 72900                                         \n",
      "Covariance Type:                  opg                                         \n",
      "==============================================================================\n",
      "                 coef    std err          z      P>|z|      [0.025      0.975]\n",
      "------------------------------------------------------------------------------\n",
      "ar.L1          1.6520      0.002    680.611      0.000       1.647       1.657\n",
      "ar.L2         -0.9238      0.002   -414.000      0.000      -0.928      -0.919\n",
      "ma.L1         -2.0395      0.003   -614.922      0.000      -2.046      -2.033\n",
      "ma.L2          1.2794      0.006    207.603      0.000       1.267       1.291\n",
      "ma.L3         -0.0179      0.007     -2.668      0.008      -0.031      -0.005\n",
      "ma.L4         -0.0599      0.006     -9.966      0.000      -0.072      -0.048\n",
      "ma.L5         -0.1394      0.003    -49.990      0.000      -0.145      -0.134\n",
      "sigma2         0.4695      0.001    402.918      0.000       0.467       0.472\n",
      "===================================================================================\n",
      "Ljung-Box (L1) (Q):                  13.31   Jarque-Bera (JB):            196566.74\n",
      "Prob(Q):                              0.00   Prob(JB):                         0.00\n",
      "Heteroskedasticity (H):               0.33   Skew:                             1.15\n",
      "Prob(H) (two-sided):                  0.00   Kurtosis:                        10.71\n",
      "===================================================================================\n",
      "\n",
      "Warnings:\n",
      "[1] Covariance matrix calculated using the outer product of gradients (complex-step).\n"
     ]
    }
   ],
   "source": [
    "\n",
    "model = auto_arima(y_train,\n",
    "                   exogenous=X_train, \n",
    "                   suppress_warnings=True, \n",
    "                   error_action=\"ignore\")\n",
    "\n",
    "print(model.summary())"
   ]
  },
  {
   "cell_type": "code",
   "execution_count": 7,
   "metadata": {},
   "outputs": [
    {
     "name": "stdout",
     "output_type": "stream",
     "text": [
      "Predicted values: 72900    0.397018\n",
      "72901    0.483619\n",
      "72902    0.480745\n",
      "72903    0.510343\n",
      "72904    0.579505\n",
      "           ...   \n",
      "97195    0.664205\n",
      "97196    0.664205\n",
      "97197    0.664205\n",
      "97198    0.664205\n",
      "97199    0.664205\n",
      "Name: forecast_data, Length: 24300, dtype: float64\n",
      "Mean Squared Error: 6.425413042085854\n",
      "Mean Absolute Error: 1.8916285050061323\n",
      "Root Mean Squared Error: 2.5348398454509615\n"
     ]
    }
   ],
   "source": [
    "n_periods = len(y_test)\n",
    "\n",
    "forecast = model.predict(n_periods=n_periods, exogenous=X_test)\n",
    "forecast.name = \"forecast_data\"\n",
    "forecast_df = phase_1.join(forecast,how=\"left\",rsuffix=\"_forecast\")\n",
    "\n",
    "print(\"Predicted values:\", forecast)\n",
    "\n",
    "mse = mean_squared_error(y_test, forecast)\n",
    "print(\"Mean Squared Error:\", mse)\n",
    "\n",
    "mae = mean_absolute_error(y_test, forecast)\n",
    "print(\"Mean Absolute Error:\", mae)\n",
    "\n",
    "rmse = np.sqrt(mse)\n",
    "print(\"Root Mean Squared Error:\", rmse)"
   ]
  },
  {
   "cell_type": "code",
   "execution_count": 16,
   "metadata": {},
   "outputs": [],
   "source": [
    "df = forecast_df[forecast_df[\"forecast_data\"].notna()]\n",
    "df = df.drop(columns=[\"Temperature\",\"Temperature24\",\"Temperature48\",\"Temperature72\",\"Hour\",\"Participation_Phase\"])\n",
    "\n",
    "df.to_csv(parent_directory+\"/Arima/predictions/Phase_1/arima_phase_1_method_2_75_25.csv\",index=True)"
   ]
  },
  {
   "cell_type": "markdown",
   "metadata": {},
   "source": [
    "80 / 20 Ratio"
   ]
  },
  {
   "cell_type": "code",
   "execution_count": 3,
   "metadata": {},
   "outputs": [
    {
     "data": {
      "text/html": [
       "<div>\n",
       "<style scoped>\n",
       "    .dataframe tbody tr th:only-of-type {\n",
       "        vertical-align: middle;\n",
       "    }\n",
       "\n",
       "    .dataframe tbody tr th {\n",
       "        vertical-align: top;\n",
       "    }\n",
       "\n",
       "    .dataframe thead th {\n",
       "        text-align: right;\n",
       "    }\n",
       "</style>\n",
       "<table border=\"1\" class=\"dataframe\">\n",
       "  <thead>\n",
       "    <tr style=\"text-align: right;\">\n",
       "      <th></th>\n",
       "      <th>From</th>\n",
       "      <th>Temperature</th>\n",
       "    </tr>\n",
       "  </thead>\n",
       "  <tbody>\n",
       "    <tr>\n",
       "      <th>0</th>\n",
       "      <td>2020-02-01 00:00:00+00:00</td>\n",
       "      <td>7.6</td>\n",
       "    </tr>\n",
       "    <tr>\n",
       "      <th>1</th>\n",
       "      <td>2020-02-01 01:00:00+00:00</td>\n",
       "      <td>8.2</td>\n",
       "    </tr>\n",
       "    <tr>\n",
       "      <th>2</th>\n",
       "      <td>2020-02-01 02:00:00+00:00</td>\n",
       "      <td>8.4</td>\n",
       "    </tr>\n",
       "    <tr>\n",
       "      <th>3</th>\n",
       "      <td>2020-02-01 03:00:00+00:00</td>\n",
       "      <td>8.4</td>\n",
       "    </tr>\n",
       "    <tr>\n",
       "      <th>4</th>\n",
       "      <td>2020-02-01 04:00:00+00:00</td>\n",
       "      <td>8.2</td>\n",
       "    </tr>\n",
       "  </tbody>\n",
       "</table>\n",
       "</div>"
      ],
      "text/plain": [
       "                        From  Temperature\n",
       "0  2020-02-01 00:00:00+00:00          7.6\n",
       "1  2020-02-01 01:00:00+00:00          8.2\n",
       "2  2020-02-01 02:00:00+00:00          8.4\n",
       "3  2020-02-01 03:00:00+00:00          8.4\n",
       "4  2020-02-01 04:00:00+00:00          8.2"
      ]
     },
     "execution_count": 3,
     "metadata": {},
     "output_type": "execute_result"
    }
   ],
   "source": [
    "# phase_1.set_index('From',inplace=True)\n",
    "\n",
    "y=phase_1['Demand_kWh']\n",
    "X= phase_1[[\"From\",\"Temperature\"]]\n",
    "X_train, X_test, y_train, y_test = train_test_split(X, y, test_size=0.2, shuffle=False)\n",
    "X_train.head()"
   ]
  },
  {
   "cell_type": "code",
   "execution_count": 4,
   "metadata": {},
   "outputs": [
    {
     "name": "stdout",
     "output_type": "stream",
     "text": [
      "                               SARIMAX Results                                \n",
      "==============================================================================\n",
      "Dep. Variable:                      y   No. Observations:                77760\n",
      "Model:               SARIMAX(4, 1, 5)   Log Likelihood              -81841.470\n",
      "Date:                Mon, 17 Jun 2024   AIC                         163702.940\n",
      "Time:                        13:51:20   BIC                         163795.554\n",
      "Sample:                             0   HQIC                        163731.368\n",
      "                              - 77760                                         \n",
      "Covariance Type:                  opg                                         \n",
      "==============================================================================\n",
      "                 coef    std err          z      P>|z|      [0.025      0.975]\n",
      "------------------------------------------------------------------------------\n",
      "ar.L1          1.3394      0.007    187.423      0.000       1.325       1.353\n",
      "ar.L2          0.2672      0.013     20.767      0.000       0.242       0.292\n",
      "ar.L3         -1.4056      0.011   -129.204      0.000      -1.427      -1.384\n",
      "ar.L4          0.5893      0.005    117.630      0.000       0.580       0.599\n",
      "ma.L1         -1.7440      0.008   -230.906      0.000      -1.759      -1.729\n",
      "ma.L2          0.0721      0.016      4.427      0.000       0.040       0.104\n",
      "ma.L3          1.6588      0.013    123.964      0.000       1.633       1.685\n",
      "ma.L4         -1.0214      0.009   -114.865      0.000      -1.039      -1.004\n",
      "ma.L5          0.0505      0.004     11.673      0.000       0.042       0.059\n",
      "sigma2         0.4863      0.001    412.054      0.000       0.484       0.489\n",
      "===================================================================================\n",
      "Ljung-Box (L1) (Q):                  10.58   Jarque-Bera (JB):            196340.59\n",
      "Prob(Q):                              0.00   Prob(JB):                         0.00\n",
      "Heteroskedasticity (H):               0.56   Skew:                             1.15\n",
      "Prob(H) (two-sided):                  0.00   Kurtosis:                        10.44\n",
      "===================================================================================\n",
      "\n",
      "Warnings:\n",
      "[1] Covariance matrix calculated using the outer product of gradients (complex-step).\n"
     ]
    }
   ],
   "source": [
    "\n",
    "model = auto_arima(y_train,\n",
    "                   exogenous=X_train, \n",
    "                   suppress_warnings=True, \n",
    "                   error_action=\"ignore\")\n",
    "\n",
    "print(model.summary())"
   ]
  },
  {
   "cell_type": "code",
   "execution_count": 5,
   "metadata": {},
   "outputs": [
    {
     "name": "stdout",
     "output_type": "stream",
     "text": [
      "Predicted values: 77760    2.216165\n",
      "77761    2.511278\n",
      "77762    2.799564\n",
      "77763    3.080638\n",
      "77764    3.345477\n",
      "           ...   \n",
      "97195    3.314866\n",
      "97196    3.314866\n",
      "97197    3.314866\n",
      "97198    3.314866\n",
      "97199    3.314866\n",
      "Name: forecast_data, Length: 19440, dtype: float64\n",
      "Mean Squared Error: 4.856287261524148\n",
      "Mean Absolute Error: 1.7729937633484438\n",
      "Root Mean Squared Error: 2.203698541435318\n"
     ]
    }
   ],
   "source": [
    "n_periods = len(y_test)\n",
    "\n",
    "forecast = model.predict(n_periods=n_periods, exogenous=X_test)\n",
    "forecast.name = \"forecast_data\"\n",
    "forecast_df = phase_1.join(forecast,how=\"left\",rsuffix=\"_forecast\")\n",
    "\n",
    "print(\"Predicted values:\", forecast)\n",
    "\n",
    "mse = mean_squared_error(y_test, forecast)\n",
    "print(\"Mean Squared Error:\", mse)\n",
    "\n",
    "mae = mean_absolute_error(y_test, forecast)\n",
    "print(\"Mean Absolute Error:\", mae)\n",
    "\n",
    "rmse = np.sqrt(mse)\n",
    "print(\"Root Mean Squared Error:\", rmse)"
   ]
  },
  {
   "cell_type": "code",
   "execution_count": 6,
   "metadata": {},
   "outputs": [],
   "source": [
    "df = forecast_df[forecast_df[\"forecast_data\"].notna()]\n",
    "df = df.drop(columns=[\"Temperature\",\"Temperature24\",\"Temperature48\",\"Temperature72\",\"Hour\",\"Participation_Phase\"])\n",
    "\n",
    "df.to_csv(parent_directory+\"/Arima/predictions/Phase_1/arima_phase_1_method_2_80_20.csv\",index=True)"
   ]
  },
  {
   "cell_type": "markdown",
   "metadata": {},
   "source": [
    "60 / 40 Ratio"
   ]
  },
  {
   "cell_type": "code",
   "execution_count": 7,
   "metadata": {},
   "outputs": [
    {
     "data": {
      "text/html": [
       "<div>\n",
       "<style scoped>\n",
       "    .dataframe tbody tr th:only-of-type {\n",
       "        vertical-align: middle;\n",
       "    }\n",
       "\n",
       "    .dataframe tbody tr th {\n",
       "        vertical-align: top;\n",
       "    }\n",
       "\n",
       "    .dataframe thead th {\n",
       "        text-align: right;\n",
       "    }\n",
       "</style>\n",
       "<table border=\"1\" class=\"dataframe\">\n",
       "  <thead>\n",
       "    <tr style=\"text-align: right;\">\n",
       "      <th></th>\n",
       "      <th>From</th>\n",
       "      <th>Temperature</th>\n",
       "    </tr>\n",
       "  </thead>\n",
       "  <tbody>\n",
       "    <tr>\n",
       "      <th>0</th>\n",
       "      <td>2020-02-01 00:00:00+00:00</td>\n",
       "      <td>7.6</td>\n",
       "    </tr>\n",
       "    <tr>\n",
       "      <th>1</th>\n",
       "      <td>2020-02-01 01:00:00+00:00</td>\n",
       "      <td>8.2</td>\n",
       "    </tr>\n",
       "    <tr>\n",
       "      <th>2</th>\n",
       "      <td>2020-02-01 02:00:00+00:00</td>\n",
       "      <td>8.4</td>\n",
       "    </tr>\n",
       "    <tr>\n",
       "      <th>3</th>\n",
       "      <td>2020-02-01 03:00:00+00:00</td>\n",
       "      <td>8.4</td>\n",
       "    </tr>\n",
       "    <tr>\n",
       "      <th>4</th>\n",
       "      <td>2020-02-01 04:00:00+00:00</td>\n",
       "      <td>8.2</td>\n",
       "    </tr>\n",
       "  </tbody>\n",
       "</table>\n",
       "</div>"
      ],
      "text/plain": [
       "                        From  Temperature\n",
       "0  2020-02-01 00:00:00+00:00          7.6\n",
       "1  2020-02-01 01:00:00+00:00          8.2\n",
       "2  2020-02-01 02:00:00+00:00          8.4\n",
       "3  2020-02-01 03:00:00+00:00          8.4\n",
       "4  2020-02-01 04:00:00+00:00          8.2"
      ]
     },
     "execution_count": 7,
     "metadata": {},
     "output_type": "execute_result"
    }
   ],
   "source": [
    "X_train, X_test, y_train, y_test = train_test_split(X, y, test_size=0.4, shuffle=False)\n",
    "X_train.head()"
   ]
  },
  {
   "cell_type": "code",
   "execution_count": 8,
   "metadata": {},
   "outputs": [
    {
     "name": "stdout",
     "output_type": "stream",
     "text": [
      "                               SARIMAX Results                                \n",
      "==============================================================================\n",
      "Dep. Variable:                      y   No. Observations:                58320\n",
      "Model:               SARIMAX(4, 1, 5)   Log Likelihood              -62499.353\n",
      "Date:                Mon, 17 Jun 2024   AIC                         125018.705\n",
      "Time:                        14:06:09   BIC                         125108.442\n",
      "Sample:                             0   HQIC                        125046.615\n",
      "                              - 58320                                         \n",
      "Covariance Type:                  opg                                         \n",
      "==============================================================================\n",
      "                 coef    std err          z      P>|z|      [0.025      0.975]\n",
      "------------------------------------------------------------------------------\n",
      "ar.L1          1.3079      0.051     25.748      0.000       1.208       1.407\n",
      "ar.L2          0.2925      0.117      2.507      0.012       0.064       0.521\n",
      "ar.L3         -1.3901      0.101    -13.765      0.000      -1.588      -1.192\n",
      "ar.L4          0.5627      0.030     19.022      0.000       0.505       0.621\n",
      "ma.L1         -1.7212      0.051    -33.764      0.000      -1.821      -1.621\n",
      "ma.L2          0.0392      0.138      0.283      0.777      -0.232       0.310\n",
      "ma.L3          1.6599      0.140     11.876      0.000       1.386       1.934\n",
      "ma.L4         -0.9915      0.055    -18.081      0.000      -1.099      -0.884\n",
      "ma.L5          0.0274      0.005      5.149      0.000       0.017       0.038\n",
      "sigma2         0.4951      0.001    363.375      0.000       0.492       0.498\n",
      "===================================================================================\n",
      "Ljung-Box (L1) (Q):                  13.44   Jarque-Bera (JB):            153171.56\n",
      "Prob(Q):                              0.00   Prob(JB):                         0.00\n",
      "Heteroskedasticity (H):               0.66   Skew:                             1.17\n",
      "Prob(H) (two-sided):                  0.00   Kurtosis:                        10.59\n",
      "===================================================================================\n",
      "\n",
      "Warnings:\n",
      "[1] Covariance matrix calculated using the outer product of gradients (complex-step).\n"
     ]
    }
   ],
   "source": [
    "\n",
    "model = auto_arima(y_train,\n",
    "                   exogenous=X_train, \n",
    "                   suppress_warnings=True, \n",
    "                   error_action=\"ignore\")\n",
    "\n",
    "print(model.summary())"
   ]
  },
  {
   "cell_type": "code",
   "execution_count": 9,
   "metadata": {},
   "outputs": [
    {
     "name": "stdout",
     "output_type": "stream",
     "text": [
      "Predicted values: 58320    0.224423\n",
      "58321    0.196018\n",
      "58322    0.181762\n",
      "58323    0.177129\n",
      "58324    0.178932\n",
      "           ...   \n",
      "97195    0.177535\n",
      "97196    0.177535\n",
      "97197    0.177535\n",
      "97198    0.177535\n",
      "97199    0.177535\n",
      "Name: forecast_data, Length: 38880, dtype: float64\n",
      "Mean Squared Error: 6.1265473704289\n",
      "Mean Absolute Error: 1.7807436310424951\n",
      "Root Mean Squared Error: 2.475186330446437\n"
     ]
    }
   ],
   "source": [
    "n_periods = len(y_test)\n",
    "\n",
    "forecast = model.predict(n_periods=n_periods, exogenous=X_test)\n",
    "forecast.name = \"forecast_data\"\n",
    "forecast_df = phase_1.join(forecast,how=\"left\",rsuffix=\"_forecast\")\n",
    "\n",
    "print(\"Predicted values:\", forecast)\n",
    "\n",
    "mse = mean_squared_error(y_test, forecast)\n",
    "print(\"Mean Squared Error:\", mse)\n",
    "\n",
    "mae = mean_absolute_error(y_test, forecast)\n",
    "print(\"Mean Absolute Error:\", mae)\n",
    "\n",
    "rmse = np.sqrt(mse)\n",
    "print(\"Root Mean Squared Error:\", rmse)"
   ]
  },
  {
   "cell_type": "code",
   "execution_count": 10,
   "metadata": {},
   "outputs": [],
   "source": [
    "df = forecast_df[forecast_df[\"forecast_data\"].notna()]\n",
    "df = df.drop(columns=[\"Temperature\",\"Temperature24\",\"Temperature48\",\"Temperature72\",\"Hour\",\"Participation_Phase\"])\n",
    "\n",
    "df.to_csv(parent_directory+\"/Arima/predictions/Phase_1/arima_phase_1_method_2_60_40.csv\",index=True)"
   ]
  },
  {
   "cell_type": "markdown",
   "metadata": {},
   "source": [
    "50 / 50 Ratio"
   ]
  },
  {
   "cell_type": "code",
   "execution_count": 11,
   "metadata": {},
   "outputs": [
    {
     "data": {
      "text/html": [
       "<div>\n",
       "<style scoped>\n",
       "    .dataframe tbody tr th:only-of-type {\n",
       "        vertical-align: middle;\n",
       "    }\n",
       "\n",
       "    .dataframe tbody tr th {\n",
       "        vertical-align: top;\n",
       "    }\n",
       "\n",
       "    .dataframe thead th {\n",
       "        text-align: right;\n",
       "    }\n",
       "</style>\n",
       "<table border=\"1\" class=\"dataframe\">\n",
       "  <thead>\n",
       "    <tr style=\"text-align: right;\">\n",
       "      <th></th>\n",
       "      <th>From</th>\n",
       "      <th>Temperature</th>\n",
       "    </tr>\n",
       "  </thead>\n",
       "  <tbody>\n",
       "    <tr>\n",
       "      <th>0</th>\n",
       "      <td>2020-02-01 00:00:00+00:00</td>\n",
       "      <td>7.6</td>\n",
       "    </tr>\n",
       "    <tr>\n",
       "      <th>1</th>\n",
       "      <td>2020-02-01 01:00:00+00:00</td>\n",
       "      <td>8.2</td>\n",
       "    </tr>\n",
       "    <tr>\n",
       "      <th>2</th>\n",
       "      <td>2020-02-01 02:00:00+00:00</td>\n",
       "      <td>8.4</td>\n",
       "    </tr>\n",
       "    <tr>\n",
       "      <th>3</th>\n",
       "      <td>2020-02-01 03:00:00+00:00</td>\n",
       "      <td>8.4</td>\n",
       "    </tr>\n",
       "    <tr>\n",
       "      <th>4</th>\n",
       "      <td>2020-02-01 04:00:00+00:00</td>\n",
       "      <td>8.2</td>\n",
       "    </tr>\n",
       "  </tbody>\n",
       "</table>\n",
       "</div>"
      ],
      "text/plain": [
       "                        From  Temperature\n",
       "0  2020-02-01 00:00:00+00:00          7.6\n",
       "1  2020-02-01 01:00:00+00:00          8.2\n",
       "2  2020-02-01 02:00:00+00:00          8.4\n",
       "3  2020-02-01 03:00:00+00:00          8.4\n",
       "4  2020-02-01 04:00:00+00:00          8.2"
      ]
     },
     "execution_count": 11,
     "metadata": {},
     "output_type": "execute_result"
    }
   ],
   "source": [
    "X_train, X_test, y_train, y_test = train_test_split(X, y, test_size=0.5, shuffle=False)\n",
    "X_train.head()"
   ]
  },
  {
   "cell_type": "code",
   "execution_count": 12,
   "metadata": {},
   "outputs": [
    {
     "name": "stdout",
     "output_type": "stream",
     "text": [
      "                               SARIMAX Results                                \n",
      "==============================================================================\n",
      "Dep. Variable:                      y   No. Observations:                48600\n",
      "Model:               SARIMAX(2, 1, 5)   Log Likelihood              -56438.795\n",
      "Date:                Mon, 17 Jun 2024   AIC                         112893.590\n",
      "Time:                        14:13:24   BIC                         112963.921\n",
      "Sample:                             0   HQIC                        112915.650\n",
      "                              - 48600                                         \n",
      "Covariance Type:                  opg                                         \n",
      "==============================================================================\n",
      "                 coef    std err          z      P>|z|      [0.025      0.975]\n",
      "------------------------------------------------------------------------------\n",
      "ar.L1          1.6087      0.004    360.327      0.000       1.600       1.617\n",
      "ar.L2         -0.8912      0.004   -223.611      0.000      -0.899      -0.883\n",
      "ma.L1         -2.0211      0.005   -380.778      0.000      -2.032      -2.011\n",
      "ma.L2          1.2913      0.009    145.230      0.000       1.274       1.309\n",
      "ma.L3         -0.0603      0.009     -6.767      0.000      -0.078      -0.043\n",
      "ma.L4         -0.0539      0.008     -6.804      0.000      -0.069      -0.038\n",
      "ma.L5         -0.1316      0.004    -34.907      0.000      -0.139      -0.124\n",
      "sigma2         0.5936      0.002    309.263      0.000       0.590       0.597\n",
      "===================================================================================\n",
      "Ljung-Box (L1) (Q):                  60.37   Jarque-Bera (JB):             84729.84\n",
      "Prob(Q):                              0.00   Prob(JB):                         0.00\n",
      "Heteroskedasticity (H):               1.10   Skew:                             1.11\n",
      "Prob(H) (two-sided):                  0.00   Kurtosis:                         9.08\n",
      "===================================================================================\n",
      "\n",
      "Warnings:\n",
      "[1] Covariance matrix calculated using the outer product of gradients (complex-step).\n"
     ]
    }
   ],
   "source": [
    "\n",
    "model = auto_arima(y_train,\n",
    "                   exogenous=X_train, \n",
    "                   suppress_warnings=True, \n",
    "                   error_action=\"ignore\")\n",
    "\n",
    "print(model.summary())"
   ]
  },
  {
   "cell_type": "code",
   "execution_count": 13,
   "metadata": {},
   "outputs": [
    {
     "name": "stdout",
     "output_type": "stream",
     "text": [
      "Predicted values: 48600    1.296063\n",
      "48601    1.242808\n",
      "48602    1.158470\n",
      "48603    1.111588\n",
      "48604    1.102231\n",
      "           ...   \n",
      "97195    1.226365\n",
      "97196    1.226365\n",
      "97197    1.226365\n",
      "97198    1.226365\n",
      "97199    1.226365\n",
      "Name: forecast_data, Length: 48600, dtype: float64\n",
      "Mean Squared Error: 2.9743993294978144\n",
      "Mean Absolute Error: 1.2755285037520012\n",
      "Root Mean Squared Error: 1.7246446965963205\n"
     ]
    }
   ],
   "source": [
    "n_periods = len(y_test)\n",
    "\n",
    "forecast = model.predict(n_periods=n_periods, exogenous=X_test)\n",
    "forecast.name = \"forecast_data\"\n",
    "forecast_df = phase_1.join(forecast,how=\"left\",rsuffix=\"_forecast\")\n",
    "\n",
    "print(\"Predicted values:\", forecast)\n",
    "\n",
    "mse = mean_squared_error(y_test, forecast)\n",
    "print(\"Mean Squared Error:\", mse)\n",
    "\n",
    "mae = mean_absolute_error(y_test, forecast)\n",
    "print(\"Mean Absolute Error:\", mae)\n",
    "\n",
    "rmse = np.sqrt(mse)\n",
    "print(\"Root Mean Squared Error:\", rmse)"
   ]
  },
  {
   "cell_type": "code",
   "execution_count": 14,
   "metadata": {},
   "outputs": [],
   "source": [
    "df = forecast_df[forecast_df[\"forecast_data\"].notna()]\n",
    "df = df.drop(columns=[\"Temperature\",\"Temperature24\",\"Temperature48\",\"Temperature72\",\"Hour\",\"Participation_Phase\"])\n",
    "\n",
    "df.to_csv(parent_directory+\"/Arima/predictions/Phase_1/arima_phase_1_method_2_50_50.csv\",index=True)"
   ]
  }
 ],
 "metadata": {
  "kernelspec": {
   "display_name": "Python 3",
   "language": "python",
   "name": "python3"
  },
  "language_info": {
   "codemirror_mode": {
    "name": "ipython",
    "version": 3
   },
   "file_extension": ".py",
   "mimetype": "text/x-python",
   "name": "python",
   "nbconvert_exporter": "python",
   "pygments_lexer": "ipython3",
   "version": "3.12.0"
  }
 },
 "nbformat": 4,
 "nbformat_minor": 2
}
