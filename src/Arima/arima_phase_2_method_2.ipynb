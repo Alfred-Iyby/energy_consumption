{
 "cells": [
  {
   "cell_type": "code",
   "execution_count": 1,
   "metadata": {},
   "outputs": [],
   "source": [
    "import os, pandas as pd\n",
    "import numpy as np\n",
    "from pmdarima import auto_arima\n",
    "from sklearn.model_selection import train_test_split\n",
    "from sklearn.metrics import mean_squared_error, mean_absolute_error\n"
   ]
  },
  {
   "cell_type": "code",
   "execution_count": 2,
   "metadata": {},
   "outputs": [
    {
     "data": {
      "text/html": [
       "<div>\n",
       "<style scoped>\n",
       "    .dataframe tbody tr th:only-of-type {\n",
       "        vertical-align: middle;\n",
       "    }\n",
       "\n",
       "    .dataframe tbody tr th {\n",
       "        vertical-align: top;\n",
       "    }\n",
       "\n",
       "    .dataframe thead th {\n",
       "        text-align: right;\n",
       "    }\n",
       "</style>\n",
       "<table border=\"1\" class=\"dataframe\">\n",
       "  <thead>\n",
       "    <tr style=\"text-align: right;\">\n",
       "      <th></th>\n",
       "      <th>ID</th>\n",
       "      <th>From</th>\n",
       "      <th>Date</th>\n",
       "      <th>Hour</th>\n",
       "      <th>Participation_Phase</th>\n",
       "      <th>Demand_kWh</th>\n",
       "      <th>Temperature</th>\n",
       "      <th>Temperature24</th>\n",
       "      <th>Temperature48</th>\n",
       "      <th>Temperature72</th>\n",
       "    </tr>\n",
       "  </thead>\n",
       "  <tbody>\n",
       "    <tr>\n",
       "      <th>0</th>\n",
       "      <td>Exp_3928</td>\n",
       "      <td>2020-12-01 00:00:00+00:00</td>\n",
       "      <td>2020-12-01</td>\n",
       "      <td>1</td>\n",
       "      <td>Phase_2</td>\n",
       "      <td>4.43</td>\n",
       "      <td>4.2</td>\n",
       "      <td>0.7</td>\n",
       "      <td>-0.8</td>\n",
       "      <td>-1.3</td>\n",
       "    </tr>\n",
       "    <tr>\n",
       "      <th>1</th>\n",
       "      <td>Exp_3928</td>\n",
       "      <td>2020-12-01 01:00:00+00:00</td>\n",
       "      <td>2020-12-01</td>\n",
       "      <td>2</td>\n",
       "      <td>Phase_2</td>\n",
       "      <td>4.50</td>\n",
       "      <td>4.2</td>\n",
       "      <td>1.0</td>\n",
       "      <td>-0.7</td>\n",
       "      <td>-1.2</td>\n",
       "    </tr>\n",
       "    <tr>\n",
       "      <th>2</th>\n",
       "      <td>Exp_3928</td>\n",
       "      <td>2020-12-01 02:00:00+00:00</td>\n",
       "      <td>2020-12-01</td>\n",
       "      <td>3</td>\n",
       "      <td>Phase_2</td>\n",
       "      <td>5.44</td>\n",
       "      <td>3.9</td>\n",
       "      <td>1.3</td>\n",
       "      <td>-0.6</td>\n",
       "      <td>-1.0</td>\n",
       "    </tr>\n",
       "    <tr>\n",
       "      <th>3</th>\n",
       "      <td>Exp_3928</td>\n",
       "      <td>2020-12-01 03:00:00+00:00</td>\n",
       "      <td>2020-12-01</td>\n",
       "      <td>4</td>\n",
       "      <td>Phase_2</td>\n",
       "      <td>4.50</td>\n",
       "      <td>3.1</td>\n",
       "      <td>1.6</td>\n",
       "      <td>-0.5</td>\n",
       "      <td>-0.9</td>\n",
       "    </tr>\n",
       "    <tr>\n",
       "      <th>4</th>\n",
       "      <td>Exp_3928</td>\n",
       "      <td>2020-12-01 04:00:00+00:00</td>\n",
       "      <td>2020-12-01</td>\n",
       "      <td>5</td>\n",
       "      <td>Phase_2</td>\n",
       "      <td>4.48</td>\n",
       "      <td>2.4</td>\n",
       "      <td>1.8</td>\n",
       "      <td>-0.4</td>\n",
       "      <td>-0.8</td>\n",
       "    </tr>\n",
       "  </tbody>\n",
       "</table>\n",
       "</div>"
      ],
      "text/plain": [
       "         ID                       From        Date  Hour Participation_Phase  \\\n",
       "0  Exp_3928  2020-12-01 00:00:00+00:00  2020-12-01     1             Phase_2   \n",
       "1  Exp_3928  2020-12-01 01:00:00+00:00  2020-12-01     2             Phase_2   \n",
       "2  Exp_3928  2020-12-01 02:00:00+00:00  2020-12-01     3             Phase_2   \n",
       "3  Exp_3928  2020-12-01 03:00:00+00:00  2020-12-01     4             Phase_2   \n",
       "4  Exp_3928  2020-12-01 04:00:00+00:00  2020-12-01     5             Phase_2   \n",
       "\n",
       "   Demand_kWh  Temperature  Temperature24  Temperature48  Temperature72  \n",
       "0        4.43          4.2            0.7           -0.8           -1.3  \n",
       "1        4.50          4.2            1.0           -0.7           -1.2  \n",
       "2        5.44          3.9            1.3           -0.6           -1.0  \n",
       "3        4.50          3.1            1.6           -0.5           -0.9  \n",
       "4        4.48          2.4            1.8           -0.4           -0.8  "
      ]
     },
     "execution_count": 2,
     "metadata": {},
     "output_type": "execute_result"
    }
   ],
   "source": [
    "parent_directory = os.path.abspath(os.path.join(os.getcwd(), os.pardir))\n",
    "main_directory = os.path.dirname(parent_directory)\n",
    "phase_2 =  pd.read_csv(main_directory + '/data/phase_2_data.csv')\n",
    "phase_2.head()"
   ]
  },
  {
   "cell_type": "markdown",
   "metadata": {},
   "source": [
    "Training for 100 households from 3000"
   ]
  },
  {
   "cell_type": "code",
   "execution_count": 3,
   "metadata": {},
   "outputs": [],
   "source": [
    "unique_ids = phase_2[\"ID\"].unique()[:100]\n",
    "phase_2 = phase_2[phase_2[\"ID\"].isin(unique_ids)]"
   ]
  },
  {
   "cell_type": "markdown",
   "metadata": {},
   "source": [
    "75/25"
   ]
  },
  {
   "cell_type": "code",
   "execution_count": 4,
   "metadata": {},
   "outputs": [
    {
     "data": {
      "text/html": [
       "<div>\n",
       "<style scoped>\n",
       "    .dataframe tbody tr th:only-of-type {\n",
       "        vertical-align: middle;\n",
       "    }\n",
       "\n",
       "    .dataframe tbody tr th {\n",
       "        vertical-align: top;\n",
       "    }\n",
       "\n",
       "    .dataframe thead th {\n",
       "        text-align: right;\n",
       "    }\n",
       "</style>\n",
       "<table border=\"1\" class=\"dataframe\">\n",
       "  <thead>\n",
       "    <tr style=\"text-align: right;\">\n",
       "      <th></th>\n",
       "      <th>From</th>\n",
       "      <th>Temperature</th>\n",
       "    </tr>\n",
       "  </thead>\n",
       "  <tbody>\n",
       "    <tr>\n",
       "      <th>0</th>\n",
       "      <td>2020-12-01 00:00:00+00:00</td>\n",
       "      <td>4.2</td>\n",
       "    </tr>\n",
       "    <tr>\n",
       "      <th>1</th>\n",
       "      <td>2020-12-01 01:00:00+00:00</td>\n",
       "      <td>4.2</td>\n",
       "    </tr>\n",
       "    <tr>\n",
       "      <th>2</th>\n",
       "      <td>2020-12-01 02:00:00+00:00</td>\n",
       "      <td>3.9</td>\n",
       "    </tr>\n",
       "    <tr>\n",
       "      <th>3</th>\n",
       "      <td>2020-12-01 03:00:00+00:00</td>\n",
       "      <td>3.1</td>\n",
       "    </tr>\n",
       "    <tr>\n",
       "      <th>4</th>\n",
       "      <td>2020-12-01 04:00:00+00:00</td>\n",
       "      <td>2.4</td>\n",
       "    </tr>\n",
       "  </tbody>\n",
       "</table>\n",
       "</div>"
      ],
      "text/plain": [
       "                        From  Temperature\n",
       "0  2020-12-01 00:00:00+00:00          4.2\n",
       "1  2020-12-01 01:00:00+00:00          4.2\n",
       "2  2020-12-01 02:00:00+00:00          3.9\n",
       "3  2020-12-01 03:00:00+00:00          3.1\n",
       "4  2020-12-01 04:00:00+00:00          2.4"
      ]
     },
     "execution_count": 4,
     "metadata": {},
     "output_type": "execute_result"
    }
   ],
   "source": [
    "y=phase_2['Demand_kWh']\n",
    "X= phase_2[[\"From\",\"Temperature\"]]\n",
    "X_train, X_test, y_train, y_test = train_test_split(X, y, test_size=0.25, shuffle=False)\n",
    "X_train.head()"
   ]
  },
  {
   "cell_type": "code",
   "execution_count": 5,
   "metadata": {},
   "outputs": [
    {
     "name": "stdout",
     "output_type": "stream",
     "text": [
      "                               SARIMAX Results                                \n",
      "==============================================================================\n",
      "Dep. Variable:                      y   No. Observations:               208800\n",
      "Model:               SARIMAX(4, 1, 2)   Log Likelihood             -268609.654\n",
      "Date:                Thu, 04 Jul 2024   AIC                         537233.308\n",
      "Time:                        23:07:02   BIC                         537305.051\n",
      "Sample:                             0   HQIC                        537254.384\n",
      "                             - 208800                                         \n",
      "Covariance Type:                  opg                                         \n",
      "==============================================================================\n",
      "                 coef    std err          z      P>|z|      [0.025      0.975]\n",
      "------------------------------------------------------------------------------\n",
      "ar.L1          1.3895      0.004    328.412      0.000       1.381       1.398\n",
      "ar.L2         -0.3949      0.003   -132.852      0.000      -0.401      -0.389\n",
      "ar.L3         -0.0263      0.002    -11.499      0.000      -0.031      -0.022\n",
      "ar.L4         -0.0530      0.001    -36.749      0.000      -0.056      -0.050\n",
      "ma.L1         -1.8366      0.004   -448.288      0.000      -1.845      -1.829\n",
      "ma.L2          0.8447      0.004    213.885      0.000       0.837       0.852\n",
      "sigma2         0.7671      0.001    731.564      0.000       0.765       0.769\n",
      "===================================================================================\n",
      "Ljung-Box (L1) (Q):                   0.01   Jarque-Bera (JB):            675467.47\n",
      "Prob(Q):                              0.92   Prob(JB):                         0.00\n",
      "Heteroskedasticity (H):               0.88   Skew:                             0.95\n",
      "Prob(H) (two-sided):                  0.00   Kurtosis:                        11.60\n",
      "===================================================================================\n",
      "\n",
      "Warnings:\n",
      "[1] Covariance matrix calculated using the outer product of gradients (complex-step).\n"
     ]
    }
   ],
   "source": [
    "\n",
    "model = auto_arima(y_train,\n",
    "                   exogenous=X_train, \n",
    "                   suppress_warnings=True, \n",
    "                   error_action=\"ignore\")\n",
    "\n",
    "print(model.summary())"
   ]
  },
  {
   "cell_type": "code",
   "execution_count": 6,
   "metadata": {},
   "outputs": [
    {
     "name": "stdout",
     "output_type": "stream",
     "text": [
      "Predicted values: 208800    0.680754\n",
      "208801    0.695628\n",
      "208802    0.708027\n",
      "208803    0.726779\n",
      "208804    0.747507\n",
      "            ...   \n",
      "278395    0.845464\n",
      "278396    0.845464\n",
      "278397    0.845464\n",
      "278398    0.845464\n",
      "278399    0.845464\n",
      "Name: forecast_data, Length: 69600, dtype: float64\n",
      "Mean Squared Error: 2.1219139813589734\n",
      "Mean Absolute Error: 0.9699728267024537\n",
      "Root Mean Squared Error: 1.4566790934721943\n"
     ]
    }
   ],
   "source": [
    "n_periods = len(y_test)\n",
    "\n",
    "forecast = model.predict(n_periods=n_periods, exogenous=X_test)\n",
    "forecast.name = \"forecast_data\"\n",
    "forecast_df = phase_2.join(forecast,how=\"left\",rsuffix=\"_forecast\")\n",
    "\n",
    "print(\"Predicted values:\", forecast)\n",
    "\n",
    "mse = mean_squared_error(y_test, forecast)\n",
    "print(\"Mean Squared Error:\", mse)\n",
    "\n",
    "mae = mean_absolute_error(y_test, forecast)\n",
    "print(\"Mean Absolute Error:\", mae)\n",
    "\n",
    "rmse = np.sqrt(mse)\n",
    "print(\"Root Mean Squared Error:\", rmse)"
   ]
  },
  {
   "cell_type": "code",
   "execution_count": 8,
   "metadata": {},
   "outputs": [],
   "source": [
    "df = forecast_df[forecast_df[\"forecast_data\"].notna()]\n",
    "df = df.drop(columns=[\"Temperature\",\"Temperature24\",\"Temperature48\",\"Temperature72\",\"Hour\",\"Participation_Phase\"])\n",
    "\n",
    "df.to_csv(parent_directory+\"/Arima/predictions/phase_2/arima_phase_2_method_2_75_25.csv\",index=True)\n"
   ]
  },
  {
   "cell_type": "markdown",
   "metadata": {},
   "source": [
    "80 / 20 Ratio"
   ]
  },
  {
   "cell_type": "code",
   "execution_count": 4,
   "metadata": {},
   "outputs": [
    {
     "data": {
      "text/html": [
       "<div>\n",
       "<style scoped>\n",
       "    .dataframe tbody tr th:only-of-type {\n",
       "        vertical-align: middle;\n",
       "    }\n",
       "\n",
       "    .dataframe tbody tr th {\n",
       "        vertical-align: top;\n",
       "    }\n",
       "\n",
       "    .dataframe thead th {\n",
       "        text-align: right;\n",
       "    }\n",
       "</style>\n",
       "<table border=\"1\" class=\"dataframe\">\n",
       "  <thead>\n",
       "    <tr style=\"text-align: right;\">\n",
       "      <th></th>\n",
       "      <th>From</th>\n",
       "      <th>Temperature</th>\n",
       "    </tr>\n",
       "  </thead>\n",
       "  <tbody>\n",
       "    <tr>\n",
       "      <th>0</th>\n",
       "      <td>2020-12-01 00:00:00+00:00</td>\n",
       "      <td>4.2</td>\n",
       "    </tr>\n",
       "    <tr>\n",
       "      <th>1</th>\n",
       "      <td>2020-12-01 01:00:00+00:00</td>\n",
       "      <td>4.2</td>\n",
       "    </tr>\n",
       "    <tr>\n",
       "      <th>2</th>\n",
       "      <td>2020-12-01 02:00:00+00:00</td>\n",
       "      <td>3.9</td>\n",
       "    </tr>\n",
       "    <tr>\n",
       "      <th>3</th>\n",
       "      <td>2020-12-01 03:00:00+00:00</td>\n",
       "      <td>3.1</td>\n",
       "    </tr>\n",
       "    <tr>\n",
       "      <th>4</th>\n",
       "      <td>2020-12-01 04:00:00+00:00</td>\n",
       "      <td>2.4</td>\n",
       "    </tr>\n",
       "  </tbody>\n",
       "</table>\n",
       "</div>"
      ],
      "text/plain": [
       "                        From  Temperature\n",
       "0  2020-12-01 00:00:00+00:00          4.2\n",
       "1  2020-12-01 01:00:00+00:00          4.2\n",
       "2  2020-12-01 02:00:00+00:00          3.9\n",
       "3  2020-12-01 03:00:00+00:00          3.1\n",
       "4  2020-12-01 04:00:00+00:00          2.4"
      ]
     },
     "execution_count": 4,
     "metadata": {},
     "output_type": "execute_result"
    }
   ],
   "source": [
    "# phase_2.set_index('From',inplace=True)\n",
    "\n",
    "y=phase_2['Demand_kWh']\n",
    "X= phase_2[[\"From\",\"Temperature\"]]\n",
    "X_train, X_test, y_train, y_test = train_test_split(X, y, test_size=0.2, shuffle=False)\n",
    "X_train.head()"
   ]
  },
  {
   "cell_type": "code",
   "execution_count": 5,
   "metadata": {},
   "outputs": [
    {
     "name": "stdout",
     "output_type": "stream",
     "text": [
      "                               SARIMAX Results                                \n",
      "==============================================================================\n",
      "Dep. Variable:                      y   No. Observations:               222720\n",
      "Model:               SARIMAX(3, 1, 4)   Log Likelihood             -284699.333\n",
      "Date:                Mon, 17 Jun 2024   AIC                         569414.667\n",
      "Time:                        21:41:27   BIC                         569497.176\n",
      "Sample:                             0   HQIC                        569438.838\n",
      "                             - 222720                                         \n",
      "Covariance Type:                  opg                                         \n",
      "==============================================================================\n",
      "                 coef    std err          z      P>|z|      [0.025      0.975]\n",
      "------------------------------------------------------------------------------\n",
      "ar.L1          0.6617      0.017     39.503      0.000       0.629       0.695\n",
      "ar.L2          0.8282      0.026     31.483      0.000       0.777       0.880\n",
      "ar.L3         -0.6160      0.011    -56.545      0.000      -0.637      -0.595\n",
      "ma.L1         -1.1009      0.017    -65.966      0.000      -1.134      -1.068\n",
      "ma.L2         -0.6952      0.033    -21.042      0.000      -0.760      -0.630\n",
      "ma.L3          0.9676      0.019     50.608      0.000       0.930       1.005\n",
      "ma.L4         -0.1599      0.003    -55.526      0.000      -0.166      -0.154\n",
      "sigma2         0.7550      0.001    807.329      0.000       0.753       0.757\n",
      "===================================================================================\n",
      "Ljung-Box (L1) (Q):                   1.57   Jarque-Bera (JB):           1006448.45\n",
      "Prob(Q):                              0.21   Prob(JB):                         0.00\n",
      "Heteroskedasticity (H):               0.88   Skew:                             1.07\n",
      "Prob(H) (two-sided):                  0.00   Kurtosis:                        13.19\n",
      "===================================================================================\n",
      "\n",
      "Warnings:\n",
      "[1] Covariance matrix calculated using the outer product of gradients (complex-step).\n"
     ]
    }
   ],
   "source": [
    "\n",
    "model = auto_arima(y_train,\n",
    "                   exogenous=X_train, \n",
    "                   suppress_warnings=True, \n",
    "                   error_action=\"ignore\")\n",
    "\n",
    "print(model.summary())"
   ]
  },
  {
   "cell_type": "code",
   "execution_count": 6,
   "metadata": {},
   "outputs": [
    {
     "name": "stdout",
     "output_type": "stream",
     "text": [
      "Predicted values: 222720    0.555255\n",
      "222721    0.651862\n",
      "222722    0.725227\n",
      "222723    0.798299\n",
      "222724    0.847893\n",
      "            ...   \n",
      "278395    0.955983\n",
      "278396    0.955983\n",
      "278397    0.955983\n",
      "278398    0.955983\n",
      "278399    0.955983\n",
      "Name: forecast_data, Length: 55680, dtype: float64\n",
      "Mean Squared Error: 2.114964409531244\n",
      "Mean Absolute Error: 1.0086965239750714\n",
      "Root Mean Squared Error: 1.4542917209182085\n"
     ]
    }
   ],
   "source": [
    "n_periods = len(y_test)\n",
    "\n",
    "forecast = model.predict(n_periods=n_periods, exogenous=X_test)\n",
    "forecast.name = \"forecast_data\"\n",
    "forecast_df = phase_2.join(forecast,how=\"left\",rsuffix=\"_forecast\")\n",
    "\n",
    "print(\"Predicted values:\", forecast)\n",
    "\n",
    "mse = mean_squared_error(y_test, forecast)\n",
    "print(\"Mean Squared Error:\", mse)\n",
    "\n",
    "mae = mean_absolute_error(y_test, forecast)\n",
    "print(\"Mean Absolute Error:\", mae)\n",
    "\n",
    "rmse = np.sqrt(mse)\n",
    "print(\"Root Mean Squared Error:\", rmse)"
   ]
  },
  {
   "cell_type": "code",
   "execution_count": 7,
   "metadata": {},
   "outputs": [],
   "source": [
    "df = forecast_df[forecast_df[\"forecast_data\"].notna()]\n",
    "df = df.drop(columns=[\"Temperature\",\"Temperature24\",\"Temperature48\",\"Temperature72\",\"Hour\",\"Participation_Phase\"])\n",
    "\n",
    "df.to_csv(parent_directory+\"/Arima/predictions/Phase 2/arima_phase_2_method_2_80_20.csv\",index=True)\n"
   ]
  },
  {
   "cell_type": "markdown",
   "metadata": {},
   "source": [
    "50 / 50 Ratio"
   ]
  },
  {
   "cell_type": "code",
   "execution_count": 8,
   "metadata": {},
   "outputs": [
    {
     "data": {
      "text/html": [
       "<div>\n",
       "<style scoped>\n",
       "    .dataframe tbody tr th:only-of-type {\n",
       "        vertical-align: middle;\n",
       "    }\n",
       "\n",
       "    .dataframe tbody tr th {\n",
       "        vertical-align: top;\n",
       "    }\n",
       "\n",
       "    .dataframe thead th {\n",
       "        text-align: right;\n",
       "    }\n",
       "</style>\n",
       "<table border=\"1\" class=\"dataframe\">\n",
       "  <thead>\n",
       "    <tr style=\"text-align: right;\">\n",
       "      <th></th>\n",
       "      <th>From</th>\n",
       "      <th>Temperature</th>\n",
       "    </tr>\n",
       "  </thead>\n",
       "  <tbody>\n",
       "    <tr>\n",
       "      <th>0</th>\n",
       "      <td>2020-12-01 00:00:00+00:00</td>\n",
       "      <td>4.2</td>\n",
       "    </tr>\n",
       "    <tr>\n",
       "      <th>1</th>\n",
       "      <td>2020-12-01 01:00:00+00:00</td>\n",
       "      <td>4.2</td>\n",
       "    </tr>\n",
       "    <tr>\n",
       "      <th>2</th>\n",
       "      <td>2020-12-01 02:00:00+00:00</td>\n",
       "      <td>3.9</td>\n",
       "    </tr>\n",
       "    <tr>\n",
       "      <th>3</th>\n",
       "      <td>2020-12-01 03:00:00+00:00</td>\n",
       "      <td>3.1</td>\n",
       "    </tr>\n",
       "    <tr>\n",
       "      <th>4</th>\n",
       "      <td>2020-12-01 04:00:00+00:00</td>\n",
       "      <td>2.4</td>\n",
       "    </tr>\n",
       "  </tbody>\n",
       "</table>\n",
       "</div>"
      ],
      "text/plain": [
       "                        From  Temperature\n",
       "0  2020-12-01 00:00:00+00:00          4.2\n",
       "1  2020-12-01 01:00:00+00:00          4.2\n",
       "2  2020-12-01 02:00:00+00:00          3.9\n",
       "3  2020-12-01 03:00:00+00:00          3.1\n",
       "4  2020-12-01 04:00:00+00:00          2.4"
      ]
     },
     "execution_count": 8,
     "metadata": {},
     "output_type": "execute_result"
    }
   ],
   "source": [
    "X_train, X_test, y_train, y_test = train_test_split(X, y, test_size=0.5, shuffle=False)\n",
    "X_train.head()"
   ]
  },
  {
   "cell_type": "code",
   "execution_count": 9,
   "metadata": {},
   "outputs": [
    {
     "name": "stdout",
     "output_type": "stream",
     "text": [
      "                               SARIMAX Results                                \n",
      "==============================================================================\n",
      "Dep. Variable:                      y   No. Observations:               139200\n",
      "Model:               SARIMAX(5, 1, 5)   Log Likelihood             -182489.968\n",
      "Date:                Mon, 17 Jun 2024   AIC                         365001.937\n",
      "Time:                        22:23:34   BIC                         365110.217\n",
      "Sample:                             0   HQIC                        365034.316\n",
      "                             - 139200                                         \n",
      "Covariance Type:                  opg                                         \n",
      "==============================================================================\n",
      "                 coef    std err          z      P>|z|      [0.025      0.975]\n",
      "------------------------------------------------------------------------------\n",
      "ar.L1          0.7680      0.016     48.907      0.000       0.737       0.799\n",
      "ar.L2         -0.3694      0.012    -30.219      0.000      -0.393      -0.345\n",
      "ar.L3          0.8496      0.005    181.185      0.000       0.840       0.859\n",
      "ar.L4         -0.8805      0.014    -61.810      0.000      -0.908      -0.853\n",
      "ar.L5          0.2228      0.009     24.211      0.000       0.205       0.241\n",
      "ma.L1         -1.2226      0.015    -79.186      0.000      -1.253      -1.192\n",
      "ma.L2          0.5528      0.016     35.582      0.000       0.522       0.583\n",
      "ma.L3         -0.9812      0.002   -405.973      0.000      -0.986      -0.976\n",
      "ma.L4          1.1878      0.015     80.120      0.000       1.159       1.217\n",
      "ma.L5         -0.5072      0.014    -35.256      0.000      -0.535      -0.479\n",
      "sigma2         0.8044      0.001    616.818      0.000       0.802       0.807\n",
      "===================================================================================\n",
      "Ljung-Box (L1) (Q):                   0.31   Jarque-Bera (JB):            543011.31\n",
      "Prob(Q):                              0.58   Prob(JB):                         0.00\n",
      "Heteroskedasticity (H):               1.93   Skew:                             1.00\n",
      "Prob(H) (two-sided):                  0.00   Kurtosis:                        12.46\n",
      "===================================================================================\n",
      "\n",
      "Warnings:\n",
      "[1] Covariance matrix calculated using the outer product of gradients (complex-step).\n"
     ]
    }
   ],
   "source": [
    "model = auto_arima(y_train,\n",
    "                   exogenous=X_train, \n",
    "                   suppress_warnings=True, \n",
    "                   error_action=\"ignore\")\n",
    "\n",
    "print(model.summary())"
   ]
  },
  {
   "cell_type": "code",
   "execution_count": 10,
   "metadata": {},
   "outputs": [
    {
     "name": "stdout",
     "output_type": "stream",
     "text": [
      "Predicted values: 139200    6.117855\n",
      "139201    6.195192\n",
      "139202    6.316122\n",
      "139203    6.477774\n",
      "139204    6.735295\n",
      "            ...   \n",
      "278395    6.761223\n",
      "278396    6.761223\n",
      "278397    6.761223\n",
      "278398    6.761223\n",
      "278399    6.761223\n",
      "Name: forecast_data, Length: 139200, dtype: float64\n",
      "Mean Squared Error: 23.828075304198723\n",
      "Mean Absolute Error: 4.641642955230534\n",
      "Root Mean Squared Error: 4.8814009571227315\n"
     ]
    }
   ],
   "source": [
    "n_periods = len(y_test)\n",
    "\n",
    "forecast = model.predict(n_periods=n_periods, exogenous=X_test)\n",
    "forecast.name = \"forecast_data\"\n",
    "forecast_df = phase_2.join(forecast,how=\"left\",rsuffix=\"_forecast\")\n",
    "\n",
    "print(\"Predicted values:\", forecast)\n",
    "\n",
    "mse = mean_squared_error(y_test, forecast)\n",
    "print(\"Mean Squared Error:\", mse)\n",
    "\n",
    "mae = mean_absolute_error(y_test, forecast)\n",
    "print(\"Mean Absolute Error:\", mae)\n",
    "\n",
    "rmse = np.sqrt(mse)\n",
    "print(\"Root Mean Squared Error:\", rmse)"
   ]
  },
  {
   "cell_type": "code",
   "execution_count": 11,
   "metadata": {},
   "outputs": [],
   "source": [
    "df = forecast_df[forecast_df[\"forecast_data\"].notna()]\n",
    "df = df.drop(columns=[\"Temperature\",\"Temperature24\",\"Temperature48\",\"Temperature72\",\"Hour\",\"Participation_Phase\"])\n",
    "\n",
    "df.to_csv(parent_directory+\"/Arima/predictions/Phase 2/arima_phase_2_method_2_50_50.csv\",index=True)\n"
   ]
  },
  {
   "cell_type": "markdown",
   "metadata": {},
   "source": [
    "60 / 40 Ratio"
   ]
  },
  {
   "cell_type": "code",
   "execution_count": 12,
   "metadata": {},
   "outputs": [
    {
     "data": {
      "text/html": [
       "<div>\n",
       "<style scoped>\n",
       "    .dataframe tbody tr th:only-of-type {\n",
       "        vertical-align: middle;\n",
       "    }\n",
       "\n",
       "    .dataframe tbody tr th {\n",
       "        vertical-align: top;\n",
       "    }\n",
       "\n",
       "    .dataframe thead th {\n",
       "        text-align: right;\n",
       "    }\n",
       "</style>\n",
       "<table border=\"1\" class=\"dataframe\">\n",
       "  <thead>\n",
       "    <tr style=\"text-align: right;\">\n",
       "      <th></th>\n",
       "      <th>From</th>\n",
       "      <th>Temperature</th>\n",
       "    </tr>\n",
       "  </thead>\n",
       "  <tbody>\n",
       "    <tr>\n",
       "      <th>0</th>\n",
       "      <td>2020-12-01 00:00:00+00:00</td>\n",
       "      <td>4.2</td>\n",
       "    </tr>\n",
       "    <tr>\n",
       "      <th>1</th>\n",
       "      <td>2020-12-01 01:00:00+00:00</td>\n",
       "      <td>4.2</td>\n",
       "    </tr>\n",
       "    <tr>\n",
       "      <th>2</th>\n",
       "      <td>2020-12-01 02:00:00+00:00</td>\n",
       "      <td>3.9</td>\n",
       "    </tr>\n",
       "    <tr>\n",
       "      <th>3</th>\n",
       "      <td>2020-12-01 03:00:00+00:00</td>\n",
       "      <td>3.1</td>\n",
       "    </tr>\n",
       "    <tr>\n",
       "      <th>4</th>\n",
       "      <td>2020-12-01 04:00:00+00:00</td>\n",
       "      <td>2.4</td>\n",
       "    </tr>\n",
       "  </tbody>\n",
       "</table>\n",
       "</div>"
      ],
      "text/plain": [
       "                        From  Temperature\n",
       "0  2020-12-01 00:00:00+00:00          4.2\n",
       "1  2020-12-01 01:00:00+00:00          4.2\n",
       "2  2020-12-01 02:00:00+00:00          3.9\n",
       "3  2020-12-01 03:00:00+00:00          3.1\n",
       "4  2020-12-01 04:00:00+00:00          2.4"
      ]
     },
     "execution_count": 12,
     "metadata": {},
     "output_type": "execute_result"
    }
   ],
   "source": [
    "X_train, X_test, y_train, y_test = train_test_split(X, y, test_size=0.4, shuffle=False)\n",
    "X_train.head()"
   ]
  },
  {
   "cell_type": "code",
   "execution_count": 13,
   "metadata": {},
   "outputs": [
    {
     "name": "stdout",
     "output_type": "stream",
     "text": [
      "                               SARIMAX Results                                \n",
      "==============================================================================\n",
      "Dep. Variable:                      y   No. Observations:               167040\n",
      "Model:               SARIMAX(5, 1, 3)   Log Likelihood             -213302.691\n",
      "Date:                Mon, 17 Jun 2024   AIC                         426623.382\n",
      "Time:                        23:24:33   BIC                         426713.616\n",
      "Sample:                             0   HQIC                        426650.149\n",
      "                             - 167040                                         \n",
      "Covariance Type:                  opg                                         \n",
      "==============================================================================\n",
      "                 coef    std err          z      P>|z|      [0.025      0.975]\n",
      "------------------------------------------------------------------------------\n",
      "ar.L1          0.3879      0.006     61.007      0.000       0.375       0.400\n",
      "ar.L2          0.9722      0.005    203.425      0.000       0.963       0.982\n",
      "ar.L3         -0.3983      0.004    -95.107      0.000      -0.407      -0.390\n",
      "ar.L4         -0.0741      0.002    -46.420      0.000      -0.077      -0.071\n",
      "ar.L5         -0.0536      0.002    -33.815      0.000      -0.057      -0.051\n",
      "ma.L1         -0.8454      0.006   -134.442      0.000      -0.858      -0.833\n",
      "ma.L2         -0.9613      0.005   -206.036      0.000      -0.970      -0.952\n",
      "ma.L3          0.8203      0.006    132.931      0.000       0.808       0.832\n",
      "sigma2         0.7529      0.001    680.147      0.000       0.751       0.755\n",
      "===================================================================================\n",
      "Ljung-Box (L1) (Q):                   1.48   Jarque-Bera (JB):            666702.06\n",
      "Prob(Q):                              0.22   Prob(JB):                         0.00\n",
      "Heteroskedasticity (H):               0.84   Skew:                             1.01\n",
      "Prob(H) (two-sided):                  0.00   Kurtosis:                        12.57\n",
      "===================================================================================\n",
      "\n",
      "Warnings:\n",
      "[1] Covariance matrix calculated using the outer product of gradients (complex-step).\n"
     ]
    }
   ],
   "source": [
    "model = auto_arima(y_train,\n",
    "                   exogenous=X_train, \n",
    "                   suppress_warnings=True, \n",
    "                   error_action=\"ignore\")\n",
    "\n",
    "print(model.summary())"
   ]
  },
  {
   "cell_type": "code",
   "execution_count": 14,
   "metadata": {},
   "outputs": [
    {
     "name": "stdout",
     "output_type": "stream",
     "text": [
      "Predicted values: 167040    1.210371\n",
      "167041    1.265970\n",
      "167042    1.337352\n",
      "167043    1.377518\n",
      "167044    1.448159\n",
      "            ...   \n",
      "278395    1.570846\n",
      "278396    1.570846\n",
      "278397    1.570846\n",
      "278398    1.570846\n",
      "278399    1.570846\n",
      "Name: forecast_data, Length: 111360, dtype: float64\n",
      "Mean Squared Error: 4.501408903529178\n",
      "Mean Absolute Error: 1.3549857637082092\n",
      "Root Mean Squared Error: 2.121652399317376\n"
     ]
    }
   ],
   "source": [
    "n_periods = len(y_test)\n",
    "\n",
    "forecast = model.predict(n_periods=n_periods, exogenous=X_test)\n",
    "forecast.name = \"forecast_data\"\n",
    "forecast_df = phase_2.join(forecast,how=\"left\",rsuffix=\"_forecast\")\n",
    "\n",
    "print(\"Predicted values:\", forecast)\n",
    "\n",
    "mse = mean_squared_error(y_test, forecast)\n",
    "print(\"Mean Squared Error:\", mse)\n",
    "\n",
    "mae = mean_absolute_error(y_test, forecast)\n",
    "print(\"Mean Absolute Error:\", mae)\n",
    "\n",
    "rmse = np.sqrt(mse)\n",
    "print(\"Root Mean Squared Error:\", rmse)"
   ]
  },
  {
   "cell_type": "code",
   "execution_count": 15,
   "metadata": {},
   "outputs": [],
   "source": [
    "df = forecast_df[forecast_df[\"forecast_data\"].notna()]\n",
    "df = df.drop(columns=[\"Temperature\",\"Temperature24\",\"Temperature48\",\"Temperature72\",\"Hour\",\"Participation_Phase\"])\n",
    "\n",
    "df.to_csv(parent_directory+\"/Arima/predictions/Phase 2/arima_phase_2_method_2_60_40.csv\",index=True)\n"
   ]
  }
 ],
 "metadata": {
  "kernelspec": {
   "display_name": "Python 3",
   "language": "python",
   "name": "python3"
  },
  "language_info": {
   "codemirror_mode": {
    "name": "ipython",
    "version": 3
   },
   "file_extension": ".py",
   "mimetype": "text/x-python",
   "name": "python",
   "nbconvert_exporter": "python",
   "pygments_lexer": "ipython3",
   "version": "3.12.0"
  }
 },
 "nbformat": 4,
 "nbformat_minor": 2
}
