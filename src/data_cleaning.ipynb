{
  "cells": [
    {
      "cell_type": "code",
      "execution_count": 27,
      "metadata": {
        "id": "0TEfZNYDhOtB"
      },
      "outputs": [],
      "source": [
        "import pandas as pd\n",
        "import numpy as np\n",
        "import os\n",
        "import matplotlib.pyplot as plt"
      ]
    },
    {
      "cell_type": "code",
      "execution_count": 28,
      "metadata": {
        "colab": {
          "base_uri": "https://localhost:8080/"
        },
        "id": "CbqZsSfitB70",
        "outputId": "77cfdc87-f141-444a-c593-ea00f9a4a11d"
      },
      "outputs": [],
      "source": [
        "parent_directory = os.path.abspath(os.path.join(os.getcwd(), os.pardir))\n",
        "df =  pd.read_csv(parent_directory + '/data/data_hourly.csv')"
      ]
    },
    {
      "cell_type": "code",
      "execution_count": 29,
      "metadata": {
        "colab": {
          "base_uri": "https://localhost:8080/",
          "height": 313
        },
        "id": "KvLOkEFdt-BM",
        "outputId": "ca07ed3b-bd0b-402f-9eb2-6f9dfeb156ee"
      },
      "outputs": [
        {
          "data": {
            "text/html": [
              "<div>\n",
              "<style scoped>\n",
              "    .dataframe tbody tr th:only-of-type {\n",
              "        vertical-align: middle;\n",
              "    }\n",
              "\n",
              "    .dataframe tbody tr th {\n",
              "        vertical-align: top;\n",
              "    }\n",
              "\n",
              "    .dataframe thead th {\n",
              "        text-align: right;\n",
              "    }\n",
              "</style>\n",
              "<table border=\"1\" class=\"dataframe\">\n",
              "  <thead>\n",
              "    <tr style=\"text-align: right;\">\n",
              "      <th></th>\n",
              "      <th>ID</th>\n",
              "      <th>From</th>\n",
              "      <th>Date</th>\n",
              "      <th>Hour</th>\n",
              "      <th>Participation_Phase</th>\n",
              "      <th>Demand_kWh</th>\n",
              "      <th>Price_signal</th>\n",
              "      <th>Experiment_price_NOK_kWh</th>\n",
              "      <th>Temperature</th>\n",
              "      <th>Temperature24</th>\n",
              "      <th>Temperature48</th>\n",
              "      <th>Temperature72</th>\n",
              "    </tr>\n",
              "  </thead>\n",
              "  <tbody>\n",
              "    <tr>\n",
              "      <th>0</th>\n",
              "      <td>Exp_43</td>\n",
              "      <td>2020-02-01T00:00:00Z</td>\n",
              "      <td>2020-02-01</td>\n",
              "      <td>1</td>\n",
              "      <td>Phase_1</td>\n",
              "      <td>0.348</td>\n",
              "      <td>NaN</td>\n",
              "      <td>NaN</td>\n",
              "      <td>7.6</td>\n",
              "      <td>6.1</td>\n",
              "      <td>5.0</td>\n",
              "      <td>4.4</td>\n",
              "    </tr>\n",
              "    <tr>\n",
              "      <th>1</th>\n",
              "      <td>Exp_43</td>\n",
              "      <td>2020-02-01T01:00:00Z</td>\n",
              "      <td>2020-02-01</td>\n",
              "      <td>2</td>\n",
              "      <td>Phase_1</td>\n",
              "      <td>0.589</td>\n",
              "      <td>NaN</td>\n",
              "      <td>NaN</td>\n",
              "      <td>8.2</td>\n",
              "      <td>6.2</td>\n",
              "      <td>5.1</td>\n",
              "      <td>4.4</td>\n",
              "    </tr>\n",
              "    <tr>\n",
              "      <th>2</th>\n",
              "      <td>Exp_43</td>\n",
              "      <td>2020-02-01T02:00:00Z</td>\n",
              "      <td>2020-02-01</td>\n",
              "      <td>3</td>\n",
              "      <td>Phase_1</td>\n",
              "      <td>0.358</td>\n",
              "      <td>NaN</td>\n",
              "      <td>NaN</td>\n",
              "      <td>8.4</td>\n",
              "      <td>6.3</td>\n",
              "      <td>5.3</td>\n",
              "      <td>4.5</td>\n",
              "    </tr>\n",
              "    <tr>\n",
              "      <th>3</th>\n",
              "      <td>Exp_43</td>\n",
              "      <td>2020-02-01T03:00:00Z</td>\n",
              "      <td>2020-02-01</td>\n",
              "      <td>4</td>\n",
              "      <td>Phase_1</td>\n",
              "      <td>0.582</td>\n",
              "      <td>NaN</td>\n",
              "      <td>NaN</td>\n",
              "      <td>8.4</td>\n",
              "      <td>6.4</td>\n",
              "      <td>5.4</td>\n",
              "      <td>4.5</td>\n",
              "    </tr>\n",
              "    <tr>\n",
              "      <th>4</th>\n",
              "      <td>Exp_43</td>\n",
              "      <td>2020-02-01T04:00:00Z</td>\n",
              "      <td>2020-02-01</td>\n",
              "      <td>5</td>\n",
              "      <td>Phase_1</td>\n",
              "      <td>0.364</td>\n",
              "      <td>NaN</td>\n",
              "      <td>NaN</td>\n",
              "      <td>8.2</td>\n",
              "      <td>6.5</td>\n",
              "      <td>5.5</td>\n",
              "      <td>4.6</td>\n",
              "    </tr>\n",
              "  </tbody>\n",
              "</table>\n",
              "</div>"
            ],
            "text/plain": [
              "       ID                  From        Date  Hour Participation_Phase  \\\n",
              "0  Exp_43  2020-02-01T00:00:00Z  2020-02-01     1             Phase_1   \n",
              "1  Exp_43  2020-02-01T01:00:00Z  2020-02-01     2             Phase_1   \n",
              "2  Exp_43  2020-02-01T02:00:00Z  2020-02-01     3             Phase_1   \n",
              "3  Exp_43  2020-02-01T03:00:00Z  2020-02-01     4             Phase_1   \n",
              "4  Exp_43  2020-02-01T04:00:00Z  2020-02-01     5             Phase_1   \n",
              "\n",
              "   Demand_kWh Price_signal  Experiment_price_NOK_kWh  Temperature  \\\n",
              "0       0.348          NaN                       NaN          7.6   \n",
              "1       0.589          NaN                       NaN          8.2   \n",
              "2       0.358          NaN                       NaN          8.4   \n",
              "3       0.582          NaN                       NaN          8.4   \n",
              "4       0.364          NaN                       NaN          8.2   \n",
              "\n",
              "   Temperature24  Temperature48  Temperature72  \n",
              "0            6.1            5.0            4.4  \n",
              "1            6.2            5.1            4.4  \n",
              "2            6.3            5.3            4.5  \n",
              "3            6.4            5.4            4.5  \n",
              "4            6.5            5.5            4.6  "
            ]
          },
          "execution_count": 29,
          "metadata": {},
          "output_type": "execute_result"
        }
      ],
      "source": [
        "df.head()"
      ]
    },
    {
      "cell_type": "code",
      "execution_count": 30,
      "metadata": {
        "colab": {
          "base_uri": "https://localhost:8080/",
          "height": 783
        },
        "id": "XIu0rdxbuDrZ",
        "outputId": "7ce081fd-8d7c-48bb-d1d7-ba4455f76a27"
      },
      "outputs": [
        {
          "data": {
            "text/plain": [
              "13515600"
            ]
          },
          "execution_count": 30,
          "metadata": {},
          "output_type": "execute_result"
        }
      ],
      "source": [
        "df.describe()\n",
        "len(df)"
      ]
    },
    {
      "cell_type": "code",
      "execution_count": 31,
      "metadata": {
        "colab": {
          "base_uri": "https://localhost:8080/"
        },
        "id": "zd46fOWfuxmw",
        "outputId": "2f203470-c316-4d29-ff32-d912a6321a82"
      },
      "outputs": [
        {
          "name": "stdout",
          "output_type": "stream",
          "text": [
            "Count of unique values in the ID: 4429\n"
          ]
        }
      ],
      "source": [
        "unique_values_ID = df['ID'].nunique()\n",
        "\n",
        "print(\"Count of unique values in the ID:\", unique_values_ID)"
      ]
    },
    {
      "cell_type": "code",
      "execution_count": 32,
      "metadata": {
        "colab": {
          "base_uri": "https://localhost:8080/"
        },
        "id": "1kv65TyWvVho",
        "outputId": "4dd4e2d9-85f0-46d9-913d-25706ad9fa1a"
      },
      "outputs": [
        {
          "name": "stdout",
          "output_type": "stream",
          "text": [
            "Count of unique values in the Data: 191\n"
          ]
        }
      ],
      "source": [
        "unique_values_Date = df['Date'].nunique()\n",
        "\n",
        "print(\"Count of unique values in the Data:\", unique_values_Date)"
      ]
    },
    {
      "cell_type": "code",
      "execution_count": 33,
      "metadata": {
        "colab": {
          "base_uri": "https://localhost:8080/"
        },
        "id": "4fQFHz2yvn7B",
        "outputId": "4d3b51db-dbb5-40f5-ddbc-d8382fd387dc"
      },
      "outputs": [
        {
          "name": "stdout",
          "output_type": "stream",
          "text": [
            "Count of unique values in the Phase: 2\n"
          ]
        }
      ],
      "source": [
        "unique_values_Phase = df['Participation_Phase'].nunique()\n",
        "\n",
        "print(\"Count of unique values in the Phase:\", unique_values_Phase)"
      ]
    },
    {
      "cell_type": "code",
      "execution_count": 34,
      "metadata": {
        "colab": {
          "base_uri": "https://localhost:8080/"
        },
        "id": "uvM32jK-wHqn",
        "outputId": "c33a8840-79f0-4ed4-d8f4-eea345ef7cd8"
      },
      "outputs": [
        {
          "name": "stdout",
          "output_type": "stream",
          "text": [
            "Count of unique values in the Hour: 24\n"
          ]
        }
      ],
      "source": [
        "unique_values_Hour = df['Hour'].nunique()\n",
        "\n",
        "print(\"Count of unique values in the Hour:\", unique_values_Hour)"
      ]
    },
    {
      "cell_type": "code",
      "execution_count": 35,
      "metadata": {
        "colab": {
          "base_uri": "https://localhost:8080/"
        },
        "id": "mAF3FBu0yjQd",
        "outputId": "a6a4c047-3bcf-4f35-f42f-4e1f49e52f08"
      },
      "outputs": [
        {
          "name": "stdout",
          "output_type": "stream",
          "text": [
            "Total count of value phase_1: 1335600\n"
          ]
        }
      ],
      "source": [
        "count_Phase1 = df['Participation_Phase'].value_counts()['Phase_1']\n",
        "\n",
        "print(\"Total count of value phase_1:\", count_Phase1)"
      ]
    },
    {
      "cell_type": "code",
      "execution_count": 36,
      "metadata": {
        "colab": {
          "base_uri": "https://localhost:8080/"
        },
        "id": "sfuikec7y6aD",
        "outputId": "d00c6902-2cbf-4ddb-ee7c-ddb2e2b38daf"
      },
      "outputs": [
        {
          "name": "stdout",
          "output_type": "stream",
          "text": [
            "Total count of value phase_2: 12180000\n"
          ]
        }
      ],
      "source": [
        "count_Phase2 = df['Participation_Phase'].value_counts()['Phase_2']\n",
        "\n",
        "print(\"Total count of value phase_2:\", count_Phase2)\n"
      ]
    },
    {
      "cell_type": "code",
      "execution_count": 37,
      "metadata": {
        "colab": {
          "base_uri": "https://localhost:8080/"
        },
        "id": "ftkCHKDlzmpB",
        "outputId": "cca6aa6d-d384-46a2-9ec5-1700c9160ee2"
      },
      "outputs": [
        {
          "name": "stdout",
          "output_type": "stream",
          "text": [
            "Count of unique values for ID for Phase_1  ID\n",
            "Exp_1      1800\n",
            "Exp_10     1800\n",
            "Exp_100    1800\n",
            "Exp_101    1800\n",
            "Exp_102    1800\n",
            "           ... \n",
            "Exp_95     1800\n",
            "Exp_96     1800\n",
            "Exp_97     1800\n",
            "Exp_98     1800\n",
            "Exp_99     1800\n",
            "Length: 742, dtype: int64\n"
          ]
        }
      ],
      "source": [
        "grouped_data_p1 = df[df['Participation_Phase'] == 'Phase_1'].groupby('ID').size()\n",
        "\n",
        "print(\"Count of unique values for ID for Phase_1 \", grouped_data_p1)"
      ]
    },
    {
      "cell_type": "code",
      "execution_count": 38,
      "metadata": {
        "colab": {
          "base_uri": "https://localhost:8080/"
        },
        "id": "4Q8XOipp1c43",
        "outputId": "1f2ef602-6c48-4e27-a78a-0b2caa8122ff"
      },
      "outputs": [
        {
          "name": "stdout",
          "output_type": "stream",
          "text": [
            "Count of unique values for ID for Phase_2  ID\n",
            "Exp_1      2784\n",
            "Exp_10     2784\n",
            "Exp_100    2784\n",
            "Exp_101    2784\n",
            "Exp_102    2784\n",
            "           ... \n",
            "Exp_95     2784\n",
            "Exp_96     2784\n",
            "Exp_97     2784\n",
            "Exp_98     2784\n",
            "Exp_99     2784\n",
            "Length: 4375, dtype: int64\n"
          ]
        }
      ],
      "source": [
        "grouped_data_p2 = df[df['Participation_Phase'] == 'Phase_2'].groupby('ID').size()\n",
        "\n",
        "print(\"Count of unique values for ID for Phase_2 \", grouped_data_p2)"
      ]
    },
    {
      "cell_type": "code",
      "execution_count": 39,
      "metadata": {
        "colab": {
          "base_uri": "https://localhost:8080/"
        },
        "id": "7gFk7k3u2GJr",
        "outputId": "91b37274-8e66-4504-fff2-eb16ab45be27"
      },
      "outputs": [
        {
          "name": "stdout",
          "output_type": "stream",
          "text": [
            "Count of unique values for Date for Specific ID  Date\n",
            "2020-01-06    24\n",
            "2020-01-07    24\n",
            "2020-01-08    24\n",
            "2020-01-09    24\n",
            "2020-01-10    24\n",
            "              ..\n",
            "2021-03-22    24\n",
            "2021-03-23    24\n",
            "2021-03-24    24\n",
            "2021-03-25    24\n",
            "2021-03-26    24\n",
            "Length: 191, dtype: int64\n"
          ]
        }
      ],
      "source": [
        "grouped_data_Date = df[df['ID'] == 'Exp_43'].groupby('Date').size()\n",
        "\n",
        "print(\"Count of unique values for Date for Specific ID \", grouped_data_Date)"
      ]
    },
    {
      "cell_type": "code",
      "execution_count": 40,
      "metadata": {
        "colab": {
          "base_uri": "https://localhost:8080/"
        },
        "id": "tIYNIa9L9xCp",
        "outputId": "8ea02ff8-8959-4f13-9d26-fd2df142a3c3"
      },
      "outputs": [
        {
          "name": "stdout",
          "output_type": "stream",
          "text": [
            "Number of common IDs between Participation Phase 1 and 2: 688\n"
          ]
        }
      ],
      "source": [
        "# Filter the dataset for Participation Phase 1 and 2 separately\n",
        "phase1_data = df[df['Participation_Phase'] == 'Phase_1']\n",
        "phase2_data = df[df['Participation_Phase'] == 'Phase_2']\n",
        "\n",
        "# Extract unique IDs for each phase\n",
        "phase1_ids = set(phase1_data['ID'])\n",
        "phase2_ids = set(phase2_data['ID'])\n",
        "\n",
        "# Find the intersection of the sets of IDs\n",
        "common_ids = phase1_ids.intersection(phase2_ids)\n",
        "\n",
        "# Calculate the number of common IDs\n",
        "num_common_ids = len(common_ids)\n",
        "\n",
        "print(\"Number of common IDs between Participation Phase 1 and 2:\", num_common_ids)"
      ]
    },
    {
      "cell_type": "code",
      "execution_count": 42,
      "metadata": {
        "colab": {
          "base_uri": "https://localhost:8080/",
          "height": 607
        },
        "id": "Ki7JgvaQ-0A9",
        "outputId": "0caaf96a-bd1b-42ce-f136-88f25be0890a"
      },
      "outputs": [
        {
          "data": {
            "image/png": "[encoded data removed]",
            "text/plain": [
              "<Figure size 1000x600 with 1 Axes>"
            ]
          },
          "metadata": {},
          "output_type": "display_data"
        }
      ],
      "source": [
        "# Group the dataset by household_id and calculate the average demand\n",
        "average_demand = df.groupby('ID')['Demand_kWh'].mean()\n",
        "\n",
        "# Sort the average demands in descending order and take the top 10 records\n",
        "top_10_average_demand = average_demand.nlargest(10)\n",
        "# Plot the graph\n",
        "plt.figure(figsize=(10, 6))\n",
        "top_10_average_demand.plot(kind='bar', color='skyblue')\n",
        "plt.title('Top 10 Average Demand by Household ID')\n",
        "plt.xlabel('Household ID')\n",
        "plt.ylabel('Average Demand (kWh)')\n",
        "plt.xticks(rotation=45)  # Rotate x-axis labels for better readability\n",
        "plt.grid(axis='y')  # Add gridlines to y-axis\n",
        "plt.tight_layout()\n",
        "plt.show()"
      ]
    },
    {
      "cell_type": "code",
      "execution_count": 16,
      "metadata": {
        "colab": {
          "base_uri": "https://localhost:8080/"
        },
        "id": "NppwY7Vz_8IB",
        "outputId": "c102eda2-62e0-4e48-baa0-b18f0a16a30f"
      },
      "outputs": [
        {
          "name": "stdout",
          "output_type": "stream",
          "text": [
            "List of IDs only in Phase 1 and not in Phase 2: ['Exp_693', 'Exp_272', 'Exp_17', 'Exp_446', 'Exp_208', 'Exp_553', 'Exp_325', 'Exp_223', 'Exp_420', 'Exp_266', 'Exp_222', 'Exp_587', 'Exp_332', 'Exp_367', 'Exp_451', 'Exp_462', 'Exp_86', 'Exp_191', 'Exp_103', 'Exp_313', 'Exp_612', 'Exp_509', 'Exp_12', 'Exp_502', 'Exp_401', 'Exp_567', 'Exp_56', 'Exp_737', 'Exp_182', 'Exp_49', 'Exp_649', 'Exp_547', 'Exp_643', 'Exp_733', 'Exp_315', 'Exp_128', 'Exp_62', 'Exp_365', 'Exp_271', 'Exp_111', 'Exp_690', 'Exp_460', 'Exp_445', 'Exp_93', 'Exp_529', 'Exp_124', 'Exp_518', 'Exp_635', 'Exp_52', 'Exp_23', 'Exp_732', 'Exp_500', 'Exp_570', 'Exp_356']\n"
          ]
        }
      ],
      "source": [
        "phase1_data = df[df['Participation_Phase'] == 'Phase_1']\n",
        "phase2_data = df[df['Participation_Phase'] == 'Phase_2']\n",
        "\n",
        "# Get unique IDs for each phase\n",
        "phase1_ids = set(phase1_data['ID'])\n",
        "phase2_ids = set(phase2_data['ID'])\n",
        "\n",
        "# Get IDs that are in Phase 1 but not in Phase 2\n",
        "ids_only_in_phase1 = phase1_ids - phase2_ids\n",
        "\n",
        "# Convert the set to a list if needed\n",
        "ids_only_in_phase1_list = list(ids_only_in_phase1)\n",
        "\n",
        "print(\"List of IDs only in Phase 1 and not in Phase 2:\", ids_only_in_phase1_list)"
      ]
    },
    {
      "cell_type": "code",
      "execution_count": 17,
      "metadata": {
        "colab": {
          "base_uri": "https://localhost:8080/"
        },
        "id": "QSFWLIn7ByIJ",
        "outputId": "8c20a68a-b28c-4021-b2a2-20b438717097"
      },
      "outputs": [
        {
          "name": "stdout",
          "output_type": "stream",
          "text": [
            "Count of unique values for Date for Specific ID  Date\n",
            "2020-01-06    24\n",
            "2020-01-07    24\n",
            "2020-01-08    24\n",
            "2020-01-09    24\n",
            "2020-01-10    24\n",
            "              ..\n",
            "2020-03-16    24\n",
            "2020-03-17    24\n",
            "2020-03-18    24\n",
            "2020-03-19    24\n",
            "2020-03-20    24\n",
            "Length: 75, dtype: int64\n"
          ]
        }
      ],
      "source": [
        "grouped_data_Date = df[df['ID'] == 'Exp_103'].groupby('Date').size()\n",
        "\n",
        "print(\"Count of unique values for Date for Specific ID \", grouped_data_Date)"
      ]
    },
    {
      "cell_type": "code",
      "execution_count": 18,
      "metadata": {
        "colab": {
          "base_uri": "https://localhost:8080/"
        },
        "id": "OkS1fEFDCmf9",
        "outputId": "c074adca-7048-4630-856f-0fc9451eaf6f"
      },
      "outputs": [
        {
          "name": "stdout",
          "output_type": "stream",
          "text": [
            "Count of unique values for Date for Specific ID  Date\n",
            "2020-01-06    24\n",
            "2020-01-07    24\n",
            "2020-01-08    24\n",
            "2020-01-09    24\n",
            "2020-01-10    24\n",
            "              ..\n",
            "2020-03-16    24\n",
            "2020-03-17    24\n",
            "2020-03-18    24\n",
            "2020-03-19    24\n",
            "2020-03-20    24\n",
            "Length: 75, dtype: int64\n"
          ]
        }
      ],
      "source": [
        "grouped_data_Date = df[df['ID'] == 'Exp_445'].groupby('Date').size()\n",
        "\n",
        "print(\"Count of unique values for Date for Specific ID \", grouped_data_Date)"
      ]
    },
    {
      "cell_type": "code",
      "execution_count": 19,
      "metadata": {
        "colab": {
          "base_uri": "https://localhost:8080/"
        },
        "id": "2KmyO7rrB_Mr",
        "outputId": "3fb4292a-2ffa-4a7c-d925-4f57fc755751"
      },
      "outputs": [
        {
          "name": "stdout",
          "output_type": "stream",
          "text": [
            "List of IDs only in Phase 2 : ['Exp_3734', 'Exp_2798', 'Exp_4533', 'Exp_5162', 'Exp_3441', 'Exp_4921', 'Exp_3539', 'Exp_5033', 'Exp_3870', 'Exp_4578', 'Exp_3168', 'Exp_4671', 'Exp_4177', 'Exp_1851', 'Exp_4429', 'Exp_2002', 'Exp_2100', 'Exp_2066', 'Exp_3229', 'Exp_5277', 'Exp_3715', 'Exp_3933', 'Exp_4449', 'Exp_2687', 'Exp_3871', 'Exp_5303', 'Exp_4985', 'Exp_4785', 'Exp_2197', 'Exp_2021', 'Exp_2317', 'Exp_3105', 'Exp_3607', 'Exp_3444', 'Exp_2975', 'Exp_4385', 'Exp_3973', 'Exp_4816', 'Exp_5058', 'Exp_3660', 'Exp_4499', 'Exp_2794', 'Exp_5081', 'Exp_5211', 'Exp_2908', 'Exp_1844', 'Exp_1923', 'Exp_2223', 'Exp_5107', 'Exp_2692', 'Exp_2408', 'Exp_2335', 'Exp_3080', 'Exp_3319', 'Exp_2141', 'Exp_4266', 'Exp_2712', 'Exp_5249', 'Exp_1893', 'Exp_2525', 'Exp_5097', 'Exp_2558', 'Exp_4237', 'Exp_2813', 'Exp_2363', 'Exp_5283', 'Exp_3860', 'Exp_3309', 'Exp_2089', 'Exp_2934', 'Exp_3173', 'Exp_3627', 'Exp_3594', 'Exp_2930', 'Exp_2294', 'Exp_4596', 'Exp_5339', 'Exp_2998', 'Exp_2797', 'Exp_5024', 'Exp_3033', 'Exp_3153', 'Exp_3030', 'Exp_4621', 'Exp_3506', 'Exp_5025', 'Exp_3717', 'Exp_3591', 'Exp_2869', 'Exp_2274', 'Exp_3878', 'Exp_3446', 'Exp_5092', 'Exp_1962', 'Exp_4113', 'Exp_1814', 'Exp_1861', 'Exp_1853', 'Exp_3579', 'Exp_4164', 'Exp_3294', 'Exp_2491', 'Exp_1977', 'Exp_4198', 'Exp_5115', 'Exp_4857', 'Exp_2637', 'Exp_3792', 'Exp_4028', 'Exp_4278', 'Exp_4861', 'Exp_2008', 'Exp_4872', 'Exp_5014', 'Exp_2156', 'Exp_3470', 'Exp_4146', 'Exp_2536', 'Exp_2953', 'Exp_3324', 'Exp_1810', 'Exp_4467', 'Exp_2814', 'Exp_4769', 'Exp_5338', 'Exp_3326', 'Exp_5240', 'Exp_4863', 'Exp_3624', 'Exp_2628', 'Exp_4790', 'Exp_2598', 'Exp_3617', 'Exp_2081', 'Exp_3876', 'Exp_2519', 'Exp_4334', 'Exp_4577', 'Exp_3748', 'Exp_1961', 'Exp_3931', 'Exp_1765', 'Exp_2494', 'Exp_4182', 'Exp_2031', 'Exp_4272', 'Exp_5327', 'Exp_2927', 'Exp_2529', 'Exp_2286', 'Exp_4598', 'Exp_4759', 'Exp_4764', 'Exp_4623', 'Exp_2817', 'Exp_4492', 'Exp_4923', 'Exp_5050', 'Exp_2511', 'Exp_5242', 'Exp_4071', 'Exp_4926', 'Exp_5194', 'Exp_4268', 'Exp_2723', 'Exp_4746', 'Exp_3036', 'Exp_4749', 'Exp_4393', 'Exp_5009', 'Exp_2409', 'Exp_2309', 'Exp_3730', 'Exp_5270', 'Exp_4032', 'Exp_2468', 'Exp_2273', 'Exp_4442', 'Exp_4083', 'Exp_4771', 'Exp_4013', 'Exp_2639', 'Exp_4082', 'Exp_2711', 'Exp_5141', 'Exp_2769', 'Exp_5203', 'Exp_5345', 'Exp_4107', 'Exp_2821', 'Exp_2600', 'Exp_4102', 'Exp_2948', 'Exp_4395', 'Exp_1759', 'Exp_2328', 'Exp_5313', 'Exp_4380', 'Exp_3767', 'Exp_4402', 'Exp_3333', 'Exp_3668', 'Exp_4505', 'Exp_1724', 'Exp_1942', 'Exp_1839', 'Exp_2025', 'Exp_2731', 'Exp_3077', 'Exp_3403', 'Exp_3677', 'Exp_2339', 'Exp_2594', 'Exp_5154', 'Exp_4506', 'Exp_2532', 'Exp_5244', 'Exp_5164', 'Exp_3626', 'Exp_4576', 'Exp_2840', 'Exp_3735', 'Exp_4821', 'Exp_3369', 'Exp_4378', 'Exp_5185', 'Exp_4670', 'Exp_1742', 'Exp_2396', 'Exp_3885', 'Exp_2965', 'Exp_2447', 'Exp_3270', 'Exp_4958', 'Exp_3310', 'Exp_3713', 'Exp_1818', 'Exp_2784', 'Exp_4851', 'Exp_1865', 'Exp_3699', 'Exp_3414', 'Exp_3774', 'Exp_2743', 'Exp_2259', 'Exp_4302', 'Exp_3698', 'Exp_4710', 'Exp_3427', 'Exp_4928', 'Exp_2049', 'Exp_3523', 'Exp_3906', 'Exp_2773', 'Exp_2020', 'Exp_5378', 'Exp_2080', 'Exp_3898', 'Exp_2164', 'Exp_2474', 'Exp_2176', 'Exp_2381', 'Exp_2287', 'Exp_3027', 'Exp_5333', 'Exp_5013', 'Exp_2999', 'Exp_1836', 'Exp_3445', 'Exp_1763', 'Exp_4828', 'Exp_5310', 'Exp_2690', 'Exp_4628', 'Exp_3054', 'Exp_3067', 'Exp_4976', 'Exp_3111', 'Exp_2461', 'Exp_4685', 'Exp_3255', 'Exp_5078', 'Exp_4688', 'Exp_2135', 'Exp_3163', 'Exp_5032', 'Exp_2829', 'Exp_2745', 'Exp_3228', 'Exp_5284', 'Exp_5137', 'Exp_4518', 'Exp_3751', 'Exp_2874', 'Exp_5406', 'Exp_3703', 'Exp_2669', 'Exp_5179', 'Exp_4009', 'Exp_5349', 'Exp_3079', 'Exp_4002', 'Exp_2772', 'Exp_3017', 'Exp_3529', 'Exp_2207', 'Exp_1981', 'Exp_1890', 'Exp_3065', 'Exp_1876', 'Exp_5309', 'Exp_2201', 'Exp_2615', 'Exp_4024', 'Exp_4100', 'Exp_1897', 'Exp_4729', 'Exp_1910', 'Exp_4291', 'Exp_1807', 'Exp_3131', 'Exp_4203', 'Exp_4274', 'Exp_5347', 'Exp_5260', 'Exp_3917', 'Exp_1914', 'Exp_3548', 'Exp_3232', 'Exp_4058', 'Exp_1922', 'Exp_3589', 'Exp_4725', 'Exp_2727', 'Exp_3307', 'Exp_5057', 'Exp_4695', 'Exp_5019', 'Exp_3996', 'Exp_4972', 'Exp_5325', 'Exp_5399', 'Exp_1854', 'Exp_4178', 'Exp_4066', 'Exp_3099', 'Exp_4535', 'Exp_3274', 'Exp_4714', 'Exp_3461', 'Exp_4199', 'Exp_4256', 'Exp_3222', 'Exp_2058', 'Exp_2199', 'Exp_3095', 'Exp_2563', 'Exp_4222', 'Exp_2423', 'Exp_1967', 'Exp_3262', 'Exp_4634', 'Exp_4094', 'Exp_3081', 'Exp_3768', 'Exp_5264', 'Exp_2316', 'Exp_3639', 'Exp_2046', 'Exp_2925', 'Exp_3121', 'Exp_2265', 'Exp_4865', 'Exp_3175', 'Exp_3311', 'Exp_3590', 'Exp_4983', 'Exp_3849', 'Exp_4441', 'Exp_4701', 'Exp_2581', 'Exp_3769', 'Exp_5341', 'Exp_5225', 'Exp_1812', 'Exp_3201', 'Exp_4641', 'Exp_4137', 'Exp_1928', 'Exp_2142', 'Exp_4587', 'Exp_3613', 'Exp_3941', 'Exp_4220', 'Exp_2009', 'Exp_2051', 'Exp_1908', 'Exp_4287', 'Exp_2504', 'Exp_4110', 'Exp_3750', 'Exp_5342', 'Exp_2970', 'Exp_4575', 'Exp_4980', 'Exp_1766', 'Exp_3801', 'Exp_4896', 'Exp_4793', 'Exp_1909', 'Exp_3216', 'Exp_3058', 'Exp_5122', 'Exp_3399', 'Exp_2240', 'Exp_4593', 'Exp_4420', 'Exp_1933', 'Exp_3588', 'Exp_1804', 'Exp_5210', 'Exp_3630', 'Exp_3908', 'Exp_3366', 'Exp_4155', 'Exp_1940', 'Exp_5061', 'Exp_3398', 'Exp_5163', 'Exp_3409', 'Exp_4398', 'Exp_4386', 'Exp_3585', 'Exp_3285', 'Exp_2755', 'Exp_4924', 'Exp_4176', 'Exp_3610', 'Exp_3645', 'Exp_3160', 'Exp_4868', 'Exp_2247', 'Exp_4279', 'Exp_2016', 'Exp_4532', 'Exp_3522', 'Exp_4730', 'Exp_4965', 'Exp_2545', 'Exp_3169', 'Exp_3966', 'Exp_4407', 'Exp_4884', 'Exp_3118', 'Exp_4502', 'Exp_5041', 'Exp_4126', 'Exp_4798', 'Exp_3063', 'Exp_4427', 'Exp_4179', 'Exp_3818', 'Exp_2012', 'Exp_4424', 'Exp_4396', 'Exp_4940', 'Exp_4252', 'Exp_1767', 'Exp_2716', 'Exp_4907', 'Exp_4101', 'Exp_1848', 'Exp_4728', 'Exp_4397', 'Exp_4782', 'Exp_5330', 'Exp_3010', 'Exp_5004', 'Exp_2389', 'Exp_4911', 'Exp_3664', 'Exp_4039', 'Exp_2827', 'Exp_4147', 'Exp_3573', 'Exp_3129', 'Exp_3250', 'Exp_3640', 'Exp_3533', 'Exp_3519', 'Exp_1866', 'Exp_2333', 'Exp_2179', 'Exp_3016', 'Exp_3019', 'Exp_3696', 'Exp_4257', 'Exp_1852', 'Exp_3386', 'Exp_4902', 'Exp_4477', 'Exp_2295', 'Exp_3384', 'Exp_4455', 'Exp_4136', 'Exp_4475', 'Exp_3997', 'Exp_2420', 'Exp_1992', 'Exp_5361', 'Exp_3577', 'Exp_3015', 'Exp_4531', 'Exp_2614', 'Exp_3055', 'Exp_5326', 'Exp_2653', 'Exp_1963', 'Exp_3151', 'Exp_2778', 'Exp_2438', 'Exp_3658', 'Exp_3243', 'Exp_4938', 'Exp_3090', 'Exp_2452', 'Exp_4360', 'Exp_3817', 'Exp_4590', 'Exp_2341', 'Exp_4631', 'Exp_1898', 'Exp_3723', 'Exp_3141', 'Exp_4773', 'Exp_4510', 'Exp_5219', 'Exp_2582', 'Exp_3467', 'Exp_4848', 'Exp_2596', 'Exp_4494', 'Exp_4584', 'Exp_3749', 'Exp_2064', 'Exp_5123', 'Exp_5268', 'Exp_3302', 'Exp_2484', 'Exp_4613', 'Exp_4365', 'Exp_4913', 'Exp_4734', 'Exp_4322', 'Exp_3078', 'Exp_3781', 'Exp_5191', 'Exp_3252', 'Exp_2204', 'Exp_2218', 'Exp_4877', 'Exp_2830', 'Exp_4678', 'Exp_3775', 'Exp_2736', 'Exp_4349', 'Exp_1833', 'Exp_3679', 'Exp_4552', 'Exp_2139', 'Exp_2828', 'Exp_3360', 'Exp_2180', 'Exp_5105', 'Exp_3557', 'Exp_5222', 'Exp_4417', 'Exp_2522', 'Exp_3816', 'Exp_3595', 'Exp_4466', 'Exp_4326', 'Exp_3883', 'Exp_4925', 'Exp_1975', 'Exp_4134', 'Exp_2379', 'Exp_4548', 'Exp_1741', 'Exp_4239', 'Exp_4794', 'Exp_3230', 'Exp_4478', 'Exp_3026', 'Exp_1827', 'Exp_4841', 'Exp_3766', 'Exp_3493', 'Exp_4041', 'Exp_4765', 'Exp_3389', 'Exp_5221', 'Exp_2304', 'Exp_5296', 'Exp_4263', 'Exp_3838', 'Exp_5077', 'Exp_3743', 'Exp_2996', 'Exp_5124', 'Exp_5131', 'Exp_2857', 'Exp_4964', 'Exp_2913', 'Exp_3700', 'Exp_2221', 'Exp_3983', 'Exp_3447', 'Exp_2985', 'Exp_4309', 'Exp_4444', 'Exp_2905', 'Exp_3305', 'Exp_4293', 'Exp_2052', 'Exp_4656', 'Exp_4833', 'Exp_4683', 'Exp_1870', 'Exp_2146', 'Exp_3657', 'Exp_4084', 'Exp_4193', 'Exp_3142', 'Exp_3856', 'Exp_2252', 'Exp_2248', 'Exp_4132', 'Exp_3405', 'Exp_4844', 'Exp_3176', 'Exp_3912', 'Exp_2510', 'Exp_3811', 'Exp_3909', 'Exp_5060', 'Exp_2343', 'Exp_1835', 'Exp_4251', 'Exp_4871', 'Exp_2854', 'Exp_3572', 'Exp_4677', 'Exp_3959', 'Exp_3807', 'Exp_2838', 'Exp_2393', 'Exp_2876', 'Exp_4755', 'Exp_5232', 'Exp_3948', 'Exp_2638', 'Exp_2466', 'Exp_4332', 'Exp_3186', 'Exp_3071', 'Exp_1944', 'Exp_2729', 'Exp_3347', 'Exp_4301', 'Exp_4717', 'Exp_4484', 'Exp_4854', 'Exp_2425', 'Exp_4270', 'Exp_1825', 'Exp_5315', 'Exp_2353', 'Exp_2233', 'Exp_3728', 'Exp_2863', 'Exp_2895', 'Exp_3068', 'Exp_2003', 'Exp_4160', 'Exp_4855', 'Exp_4130', 'Exp_4400', 'Exp_2188', 'Exp_3673', 'Exp_3127', 'Exp_4939', 'Exp_2576', 'Exp_2616', 'Exp_4827', 'Exp_3773', 'Exp_4832', 'Exp_3140', 'Exp_4558', 'Exp_3044', 'Exp_4148', 'Exp_3739', 'Exp_2897', 'Exp_4243', 'Exp_3092', 'Exp_1986', 'Exp_2626', 'Exp_4375', 'Exp_3936', 'Exp_5172', 'Exp_3407', 'Exp_3581', 'Exp_3619', 'Exp_2721', 'Exp_4741', 'Exp_2667', 'Exp_2642', 'Exp_3296', 'Exp_3119', 'Exp_3146', 'Exp_1781', 'Exp_4498', 'Exp_3422', 'Exp_4292', 'Exp_4643', 'Exp_4930', 'Exp_2926', 'Exp_2882', 'Exp_5200', 'Exp_2006', 'Exp_2847', 'Exp_5308', 'Exp_3934', 'Exp_2481', 'Exp_5236', 'Exp_3704', 'Exp_3952', 'Exp_3900', 'Exp_3804', 'Exp_4021', 'Exp_4186', 'Exp_4379', 'Exp_2958', 'Exp_5254', 'Exp_2086', 'Exp_3013', 'Exp_4269', 'Exp_3299', 'Exp_3057', 'Exp_2147', 'Exp_2682', 'Exp_2906', 'Exp_2489', 'Exp_5178', 'Exp_2138', 'Exp_1819', 'Exp_2325', 'Exp_4600', 'Exp_5152', 'Exp_3843', 'Exp_4723', 'Exp_4698', 'Exp_3251', 'Exp_5343', 'Exp_4942', 'Exp_3914', 'Exp_3674', 'Exp_2720', 'Exp_2973', 'Exp_4172', 'Exp_2029', 'Exp_2894', 'Exp_5023', 'Exp_5215', 'Exp_1800', 'Exp_3492', 'Exp_2976', 'Exp_4870', 'Exp_2665', 'Exp_3868', 'Exp_2501', 'Exp_4413', 'Exp_5299', 'Exp_3990', 'Exp_1820', 'Exp_2015', 'Exp_3174', 'Exp_3985', 'Exp_4585', 'Exp_2533', 'Exp_5104', 'Exp_1730', 'Exp_2538', 'Exp_4020', 'Exp_2877', 'Exp_5157', 'Exp_4453', 'Exp_4579', 'Exp_3385', 'Exp_4795', 'Exp_4601', 'Exp_5145', 'Exp_5265', 'Exp_3727', 'Exp_3987', 'Exp_2056', 'Exp_4357', 'Exp_3789', 'Exp_4369', 'Exp_2945', 'Exp_4663', 'Exp_2478', 'Exp_2758', 'Exp_5352', 'Exp_3895', 'Exp_3100', 'Exp_5121', 'Exp_2792', 'Exp_2860', 'Exp_5117', 'Exp_4703', 'Exp_1858', 'Exp_2219', 'Exp_4281', 'Exp_3850', 'Exp_3947', 'Exp_2986', 'Exp_3180', 'Exp_3535', 'Exp_2960', 'Exp_2395', 'Exp_2090', 'Exp_4483', 'Exp_4970', 'Exp_2803', 'Exp_1821', 'Exp_1874', 'Exp_4850', 'Exp_2194', 'Exp_2648', 'Exp_2360', 'Exp_2741', 'Exp_4313', 'Exp_1732', 'Exp_3791', 'Exp_3069', 'Exp_3070', 'Exp_4774', 'Exp_1786', 'Exp_1896', 'Exp_5176', 'Exp_4261', 'Exp_3277', 'Exp_3344', 'Exp_1859', 'Exp_2264', 'Exp_4820', 'Exp_2750', 'Exp_1989', 'Exp_4062', 'Exp_4905', 'Exp_2917', 'Exp_3770', 'Exp_2190', 'Exp_2327', 'Exp_5062', 'Exp_3195', 'Exp_3839', 'Exp_3420', 'Exp_5052', 'Exp_4253', 'Exp_3215', 'Exp_3394', 'Exp_3600', 'Exp_3351', 'Exp_4250', 'Exp_1958', 'Exp_3269', 'Exp_3975', 'Exp_5195', 'Exp_3608', 'Exp_3586', 'Exp_3193', 'Exp_5394', 'Exp_2280', 'Exp_4242', 'Exp_3978', 'Exp_1740', 'Exp_1815', 'Exp_4331', 'Exp_5229', 'Exp_5335', 'Exp_3359', 'Exp_2947', 'Exp_2651', 'Exp_3257', 'Exp_2260', 'Exp_2177', 'Exp_4171', 'Exp_5276', 'Exp_1736', 'Exp_4979', 'Exp_5140', 'Exp_2272', 'Exp_1971', 'Exp_2537', 'Exp_1985', 'Exp_3896', 'Exp_4898', 'Exp_3314', 'Exp_3331', 'Exp_4812', 'Exp_3520', 'Exp_4580', 'Exp_5275', 'Exp_2400', 'Exp_5243', 'Exp_3546', 'Exp_2617', 'Exp_3828', 'Exp_3928', 'Exp_2282', 'Exp_2618', 'Exp_5408', 'Exp_4766', 'Exp_5015', 'Exp_4583', 'Exp_1934', 'Exp_4994', 'Exp_4077', 'Exp_3076', 'Exp_5355', 'Exp_2819', 'Exp_4654', 'Exp_4536', 'Exp_4012', 'Exp_3547', 'Exp_2079', 'Exp_3128', 'Exp_5129', 'Exp_1850', 'Exp_4809', 'Exp_1991', 'Exp_4218', 'Exp_4996', 'Exp_3652', 'Exp_5384', 'Exp_3223', 'Exp_2572', 'Exp_2429', 'Exp_5130', 'Exp_4649', 'Exp_2521', 'Exp_3596', 'Exp_2561', 'Exp_3049', 'Exp_3919', 'Exp_3753', 'Exp_5204', 'Exp_2768', 'Exp_1755', 'Exp_4837', 'Exp_4288', 'Exp_2410', 'Exp_2458', 'Exp_4875', 'Exp_4614', 'Exp_4987', 'Exp_2593', 'Exp_4615', 'Exp_2437', 'Exp_5003', 'Exp_5292', 'Exp_3101', 'Exp_2881', 'Exp_3605', 'Exp_3318', 'Exp_4516', 'Exp_3760', 'Exp_2657', 'Exp_4886', 'Exp_2836', 'Exp_4885', 'Exp_2010', 'Exp_2279', 'Exp_3350', 'Exp_3475', 'Exp_3204', 'Exp_4956', 'Exp_3321', 'Exp_2850', 'Exp_2355', 'Exp_1994', 'Exp_4757', 'Exp_3156', 'Exp_3291', 'Exp_2312', 'Exp_3107', 'Exp_4847', 'Exp_4321', 'Exp_3073', 'Exp_3466', 'Exp_2205', 'Exp_3034', 'Exp_4520', 'Exp_2967', 'Exp_3341', 'Exp_3029', 'Exp_4508', 'Exp_2014', 'Exp_3208', 'Exp_2105', 'Exp_4808', 'Exp_2374', 'Exp_3135', 'Exp_3355', 'Exp_2515', 'Exp_5197', 'Exp_4151', 'Exp_3018', 'Exp_3683', 'Exp_3342', 'Exp_4534', 'Exp_5139', 'Exp_4941', 'Exp_2042', 'Exp_3758', 'Exp_4283', 'Exp_4599', 'Exp_4693', 'Exp_2115', 'Exp_5255', 'Exp_3177', 'Exp_3396', 'Exp_2322', 'Exp_2524', 'Exp_2421', 'Exp_4410', 'Exp_5271', 'Exp_3785', 'Exp_2324', 'Exp_2989', 'Exp_2082', 'Exp_3779', 'Exp_2277', 'Exp_2173', 'Exp_2777', 'Exp_3231', 'Exp_4035', 'Exp_3390', 'Exp_2766', 'Exp_3293', 'Exp_3382', 'Exp_5168', 'Exp_4491', 'Exp_3510', 'Exp_2765', 'Exp_4722', 'Exp_3569', 'Exp_4521', 'Exp_2311', 'Exp_2158', 'Exp_3972', 'Exp_3188', 'Exp_3254', 'Exp_1855', 'Exp_3887', 'Exp_4603', 'Exp_5012', 'Exp_3379', 'Exp_5238', 'Exp_4761', 'Exp_5233', 'Exp_3473', 'Exp_2226', 'Exp_2403', 'Exp_2584', 'Exp_3290', 'Exp_5135', 'Exp_3530', 'Exp_5183', 'Exp_5030', 'Exp_3891', 'Exp_4085', 'Exp_5138', 'Exp_3622', 'Exp_2022', 'Exp_1862', 'Exp_3421', 'Exp_4592', 'Exp_2112', 'Exp_4390', 'Exp_1946', 'Exp_4800', 'Exp_3130', 'Exp_4690', 'Exp_3227', 'Exp_1779', 'Exp_5037', 'Exp_2904', 'Exp_5056', 'Exp_5173', 'Exp_4831', 'Exp_2155', 'Exp_5049', 'Exp_1990', 'Exp_4304', 'Exp_2463', 'Exp_2222', 'Exp_1964', 'Exp_3740', 'Exp_1919', 'Exp_5125', 'Exp_3437', 'Exp_5070', 'Exp_4163', 'Exp_1758', 'Exp_4435', 'Exp_1903', 'Exp_4726', 'Exp_4056', 'Exp_3796', 'Exp_2703', 'Exp_2083', 'Exp_4574', 'Exp_1924', 'Exp_2348', 'Exp_2241', 'Exp_5252', 'Exp_4920', 'Exp_4866', 'Exp_4647', 'Exp_3280', 'Exp_4595', 'Exp_5246', 'Exp_3687', 'Exp_2705', 'Exp_1754', 'Exp_2942', 'Exp_1783', 'Exp_3313', 'Exp_2632', 'Exp_5208', 'Exp_3502', 'Exp_4248', 'Exp_2534', 'Exp_4339', 'Exp_4608', 'Exp_4170', 'Exp_3154', 'Exp_3478', 'Exp_4033', 'Exp_3091', 'Exp_2800', 'Exp_1921', 'Exp_4873', 'Exp_3221', 'Exp_2760', 'Exp_1849', 'Exp_2229', 'Exp_4762', 'Exp_5036', 'Exp_3659', 'Exp_3205', 'Exp_3650', 'Exp_2121', 'Exp_4359', 'Exp_4436', 'Exp_3515', 'Exp_2890', 'Exp_2543', 'Exp_4342', 'Exp_3782', 'Exp_1957', 'Exp_5267', 'Exp_4133', 'Exp_1751', 'Exp_2266', 'Exp_5120', 'Exp_5202', 'Exp_2662', 'Exp_4403', 'Exp_5263', 'Exp_3795', 'Exp_5059', 'Exp_4057', 'Exp_1842', 'Exp_5365', 'Exp_2691', 'Exp_4513', 'Exp_2345', 'Exp_2034', 'Exp_2238', 'Exp_2114', 'Exp_2506', 'Exp_2370', 'Exp_1931', 'Exp_2775', 'Exp_3123', 'Exp_2728', 'Exp_3000', 'Exp_3540', 'Exp_3267', 'Exp_2530', 'Exp_4231', 'Exp_4731', 'Exp_2013', 'Exp_4666', 'Exp_3545', 'Exp_4122', 'Exp_2544', 'Exp_2702', 'Exp_4721', 'Exp_2456', 'Exp_2195', 'Exp_4549', 'Exp_3507', 'Exp_3008', 'Exp_3114', 'Exp_5401', 'Exp_3532', 'Exp_4249', 'Exp_3356', 'Exp_3133', 'Exp_2302', 'Exp_5082', 'Exp_3503', 'Exp_3429', 'Exp_2449', 'Exp_5258', 'Exp_5080', 'Exp_4919', 'Exp_4138', 'Exp_1878', 'Exp_2747', 'Exp_2210', 'Exp_3844', 'Exp_3780', 'Exp_4605', 'Exp_4622', 'Exp_2940', 'Exp_4625', 'Exp_3284', 'Exp_5094', 'Exp_4050', 'Exp_4644', 'Exp_2968', 'Exp_3152', 'Exp_4305', 'Exp_3761', 'Exp_3025', 'Exp_5247', 'Exp_3210', 'Exp_2749', 'Exp_2962', 'Exp_4860', 'Exp_3363', 'Exp_5364', 'Exp_4036', 'Exp_5083', 'Exp_3950', 'Exp_3862', 'Exp_3218', 'Exp_5160', 'Exp_3638', 'Exp_4801', 'Exp_3855', 'Exp_1791', 'Exp_2668', 'Exp_4899', 'Exp_1805', 'Exp_4206', 'Exp_4946', 'Exp_2487', 'Exp_4404', 'Exp_4825', 'Exp_5175', 'Exp_2246', 'Exp_2866', 'Exp_4074', 'Exp_2875', 'Exp_3806', 'Exp_3689', 'Exp_1769', 'Exp_2818', 'Exp_5297', 'Exp_3416', 'Exp_4702', 'Exp_2907', 'Exp_3886', 'Exp_2550', 'Exp_2479', 'Exp_3075', 'Exp_3918', 'Exp_3053', 'Exp_2647', 'Exp_4330', 'Exp_2298', 'Exp_2196', 'Exp_4745', 'Exp_4882', 'Exp_4607', 'Exp_1954', 'Exp_4008', 'Exp_4165', 'Exp_2937', 'Exp_4487', 'Exp_5370', 'Exp_4184', 'Exp_3059', 'Exp_3995', 'Exp_2825', 'Exp_2924', 'Exp_5321', 'Exp_4016', 'Exp_2541', 'Exp_4582', 'Exp_4975', 'Exp_4763', 'Exp_2612', 'Exp_3043', 'Exp_3575', 'Exp_3763', 'Exp_3549', 'Exp_2892', 'Exp_5280', 'Exp_2901', 'Exp_2376', 'Exp_4963', 'Exp_5253', 'Exp_3452', 'Exp_2305', 'Exp_3214', 'Exp_3742', 'Exp_3873', 'Exp_3716', 'Exp_1956', 'Exp_3926', 'Exp_3239', 'Exp_3803', 'Exp_2977', 'Exp_2150', 'Exp_4445', 'Exp_3365', 'Exp_2033', 'Exp_3903', 'Exp_2017', 'Exp_3631', 'Exp_4648', 'Exp_4792', 'Exp_4336', 'Exp_4880', 'Exp_3387', 'Exp_2307', 'Exp_2643', 'Exp_3537', 'Exp_3580', 'Exp_4460', 'Exp_2879', 'Exp_4984', 'Exp_2255', 'Exp_2364', 'Exp_3275', 'Exp_4630', 'Exp_4989', 'Exp_5016', 'Exp_4922', 'Exp_2868', 'Exp_2552', 'Exp_3266', 'Exp_3992', 'Exp_2441', 'Exp_3776', 'Exp_5239', 'Exp_3410', 'Exp_1886', 'Exp_4144', 'Exp_5224', 'Exp_3680', 'Exp_4187', 'Exp_5362', 'Exp_1995', 'Exp_3108', 'Exp_2475', 'Exp_2726', 'Exp_2490', 'Exp_4627', 'Exp_3531', 'Exp_4044', 'Exp_4807', 'Exp_2528', 'Exp_3103', 'Exp_3343', 'Exp_4672', 'Exp_2865', 'Exp_2832', 'Exp_2722', 'Exp_4669', 'Exp_5028', 'Exp_3971', 'Exp_2559', 'Exp_2185', 'Exp_2574', 'Exp_4991', 'Exp_2796', 'Exp_3372', 'Exp_3512', 'Exp_4411', 'Exp_3376', 'Exp_2189', 'Exp_4572', 'Exp_2442', 'Exp_2097', 'Exp_4454', 'Exp_2334', 'Exp_2933', 'Exp_3859', 'Exp_2422', 'Exp_4204', 'Exp_1787', 'Exp_2763', 'Exp_1889', 'Exp_4665', 'Exp_4139', 'Exp_5006', 'Exp_4201', 'Exp_3819', 'Exp_2159', 'Exp_3485', 'Exp_3064', 'Exp_1969', 'Exp_2659', 'Exp_3663', 'Exp_2780', 'Exp_2761', 'Exp_2354', 'Exp_2340', 'Exp_2498', 'Exp_5261', 'Exp_3688', 'Exp_3098', 'Exp_4826', 'Exp_4450', 'Exp_3633', 'Exp_2994', 'Exp_1802', 'Exp_5167', 'Exp_1983', 'Exp_2284', 'Exp_4214', 'Exp_2263', 'Exp_3754', 'Exp_2133', 'Exp_3897', 'Exp_3951', 'Exp_4060', 'Exp_2465', 'Exp_2804', 'Exp_3669', 'Exp_1973', 'Exp_5149', 'Exp_4246', 'Exp_3550', 'Exp_2384', 'Exp_3479', 'Exp_3206', 'Exp_4212', 'Exp_2806', 'Exp_2580', 'Exp_3423', 'Exp_2075', 'Exp_4909', 'Exp_5282', 'Exp_4858', 'Exp_4207', 'Exp_2338', 'Exp_2570', 'Exp_5356', 'Exp_4947', 'Exp_5256', 'Exp_4567', 'Exp_4853', 'Exp_3584', 'Exp_4830', 'Exp_3611', 'Exp_4431', 'Exp_2103', 'Exp_5047', 'Exp_5109', 'Exp_4320', 'Exp_3566', 'Exp_5132', 'Exp_3733', 'Exp_3869', 'Exp_4943', 'Exp_4501', 'Exp_3695', 'Exp_1891', 'Exp_2030', 'Exp_4716', 'Exp_2844', 'Exp_1882', 'Exp_1777', 'Exp_2439', 'Exp_4664', 'Exp_2816', 'Exp_4087', 'Exp_2791', 'Exp_4509', 'Exp_1764', 'Exp_2368', 'Exp_3554', 'Exp_4238', 'Exp_3465', 'Exp_4069', 'Exp_3402', 'Exp_2578', 'Exp_5281', 'Exp_2172', 'Exp_3178', 'Exp_5153', 'Exp_4612', 'Exp_3964', 'Exp_2387', 'Exp_3824', 'Exp_4707', 'Exp_3283', 'Exp_4503', 'Exp_4054', 'Exp_4392', 'Exp_1798', 'Exp_3306', 'Exp_2267', 'Exp_4337', 'Exp_4167', 'Exp_2047', 'Exp_2867', 'Exp_2557', 'Exp_4226', 'Exp_4610', 'Exp_3681', 'Exp_3191', 'Exp_4739', 'Exp_4025', 'Exp_4473', 'Exp_2746', 'Exp_2290', 'Exp_4708', 'Exp_4437', 'Exp_1829', 'Exp_5351', 'Exp_2220', 'Exp_4135', 'Exp_1881', 'Exp_2714', 'Exp_5076', 'Exp_2883', 'Exp_4606', 'Exp_4674', 'Exp_4209', 'Exp_3989', 'Exp_3884', 'Exp_3241', 'Exp_5089', 'Exp_2738', 'Exp_2087', 'Exp_3857', 'Exp_2935', 'Exp_3821', 'Exp_3881', 'Exp_1869', 'Exp_3144', 'Exp_2694', 'Exp_5305', 'Exp_3845', 'Exp_4697', 'Exp_4840', 'Exp_5367', 'Exp_4562', 'Exp_2852', 'Exp_3649', 'Exp_4061', 'Exp_2823', 'Exp_5323', 'Exp_4405', 'Exp_2565', 'Exp_4001', 'Exp_3653', 'Exp_4233', 'Exp_1948', 'Exp_4127', 'Exp_4569', 'Exp_5108', 'Exp_3038', 'Exp_3651', 'Exp_3364', 'Exp_4846', 'Exp_2661', 'Exp_1943', 'Exp_1953', 'Exp_4295', 'Exp_5075', 'Exp_4267', 'Exp_3093', 'Exp_4835', 'Exp_4014', 'Exp_3709', 'Exp_4299', 'Exp_5251', 'Exp_1744', 'Exp_4262', 'Exp_3980', 'Exp_4285', 'Exp_2790', 'Exp_2436', 'Exp_3880', 'Exp_5119', 'Exp_3793', 'Exp_3736', 'Exp_3907', 'Exp_3772', 'Exp_3954', 'Exp_3517', 'Exp_3866', 'Exp_3353', 'Exp_5278', 'Exp_4966', 'Exp_2831', 'Exp_4443', 'Exp_2216', 'Exp_3236', 'Exp_4362', 'Exp_2737', 'Exp_2885', 'Exp_3104', 'Exp_4912', 'Exp_2349', 'Exp_3253', 'Exp_2331', 'Exp_2673', 'Exp_5358', 'Exp_3625', 'Exp_3089', 'Exp_4300', 'Exp_2903', 'Exp_5396', 'Exp_3472', 'Exp_4162', 'Exp_5223', 'Exp_3835', 'Exp_5230', 'Exp_2109', 'Exp_5099', 'Exp_3890', 'Exp_1830', 'Exp_3440', 'Exp_3808', 'Exp_3628', 'Exp_2192', 'Exp_4780', 'Exp_4967', 'Exp_3281', 'Exp_5188', 'Exp_5106', 'Exp_5369', 'Exp_5409', 'Exp_2508', 'Exp_2997', 'Exp_2414', 'Exp_4015', 'Exp_4951', 'Exp_1780', 'Exp_5331', 'Exp_2680', 'Exp_2739', 'Exp_5046', 'Exp_3412', 'Exp_2077', 'Exp_2540', 'Exp_3604', 'Exp_2470', 'Exp_4878', 'Exp_2752', 'Exp_3794', 'Exp_4296', 'Exp_2957', 'Exp_2891', 'Exp_4591', 'Exp_4308', 'Exp_4112', 'Exp_4329', 'Exp_3888', 'Exp_3433', 'Exp_3927', 'Exp_3788', 'Exp_5392', 'Exp_4738', 'Exp_2007', 'Exp_1912', 'Exp_3757', 'Exp_4168', 'Exp_2910', 'Exp_3393', 'Exp_3259', 'Exp_5101', 'Exp_4551', 'Exp_2981', 'Exp_2624', 'Exp_4265', 'Exp_3468', 'Exp_1918', 'Exp_2625', 'Exp_2872', 'Exp_4824', 'Exp_2592', 'Exp_2966', 'Exp_2672', 'Exp_1773', 'Exp_4523', 'Exp_5376', 'Exp_5159', 'Exp_3726', 'Exp_5285', 'Exp_2527', 'Exp_3489', 'Exp_3436', 'Exp_3476', 'Exp_2824', 'Exp_4908', 'Exp_4992', 'Exp_5127', 'Exp_3762', 'Exp_3126', 'Exp_4904', 'Exp_4852', 'Exp_2278', 'Exp_5156', 'Exp_4117', 'Exp_4646', 'Exp_3746', 'Exp_2564', 'Exp_4092', 'Exp_4986', 'Exp_3041', 'Exp_4189', 'Exp_3411', 'Exp_3334', 'Exp_3558', 'Exp_2834', 'Exp_5177', 'Exp_4557', 'Exp_4519', 'Exp_3006', 'Exp_3272', 'Exp_2671', 'Exp_3276', 'Exp_2060', 'Exp_4260', 'Exp_3271', 'Exp_3527', 'Exp_4651', 'Exp_3690', 'Exp_2710', 'Exp_2181', 'Exp_2635', 'Exp_5026', 'Exp_2932', 'Exp_1887', 'Exp_4687', 'Exp_2781', 'Exp_4969', 'Exp_5279', 'Exp_5216', 'Exp_4955', 'Exp_2224', 'Exp_2837', 'Exp_1784', 'Exp_2076', 'Exp_4892', 'Exp_4950', 'Exp_5262', 'Exp_1978', 'Exp_1806', 'Exp_4709', 'Exp_2640', 'Exp_4421', 'Exp_4140', 'Exp_2693', 'Exp_5398', 'Exp_1796', 'Exp_4952', 'Exp_2291', 'Exp_4090', 'Exp_2178', 'Exp_4289', 'Exp_2851', 'Exp_4104', 'Exp_3564', 'Exp_5142', 'Exp_2862', 'Exp_2724', 'Exp_1845', 'Exp_4029', 'Exp_4681', 'Exp_4684', 'Exp_2899', 'Exp_2964', 'Exp_2656', 'Exp_2120', 'Exp_3022', 'Exp_2297', 'Exp_4982', 'Exp_1976', 'Exp_2154', 'Exp_3534', 'Exp_3974', 'Exp_2725', 'Exp_3559', 'Exp_4399', 'Exp_5051', 'Exp_4636', 'Exp_2622', 'Exp_4546', 'Exp_4918', 'Exp_4181', 'Exp_5312', 'Exp_4571', 'Exp_4948', 'Exp_2512', 'Exp_2623', 'Exp_2323', 'Exp_4891', 'Exp_2650', 'Exp_1793', 'Exp_4679', 'Exp_4742', 'Exp_4426', 'Exp_4470', 'Exp_2038', 'Exp_2392', 'Exp_2406', 'Exp_2320', 'Exp_2742', 'Exp_5387', 'Exp_4075', 'Exp_4093', 'Exp_3670', 'Exp_5350', 'Exp_5389', 'Exp_3340', 'Exp_1834', 'Exp_2663', 'Exp_5087', 'Exp_3814', 'Exp_4271', 'Exp_1735', 'Exp_3500', 'Exp_2281', 'Exp_3686', 'Exp_3961', 'Exp_2464', 'Exp_3647', 'Exp_3910', 'Exp_3187', 'Exp_3289', 'Exp_3599', 'Exp_1792', 'Exp_3198', 'Exp_2110', 'Exp_3578', 'Exp_4324', 'Exp_2067', 'Exp_3024', 'Exp_3456', 'Exp_4073', 'Exp_3833', 'Exp_4903', 'Exp_5002', 'Exp_2397', 'Exp_3004', 'Exp_4241', 'Exp_2826', 'Exp_3322', 'Exp_2709', 'Exp_5334', 'Exp_3998', 'Exp_3977', 'Exp_4594', 'Exp_3848', 'Exp_5011', 'Exp_3894', 'Exp_1789', 'Exp_4459', 'Exp_4705', 'Exp_4370', 'Exp_3504', 'Exp_2938', 'Exp_3332', 'Exp_2235', 'Exp_2186', 'Exp_2127', 'Exp_2664', 'Exp_3096', 'Exp_5111', 'Exp_1873', 'Exp_2162', 'Exp_1880', 'Exp_3921', 'Exp_4202', 'Exp_5320', 'Exp_3488', 'Exp_4522', 'Exp_1894', 'Exp_3474', 'Exp_5287', 'Exp_3449', 'Exp_2168', 'Exp_3139', 'Exp_4650', 'Exp_2599', 'Exp_3428', 'Exp_4753', 'Exp_5035', 'Exp_4439', 'Exp_2213', 'Exp_2202', 'Exp_4772', 'Exp_3710', 'Exp_3432', 'Exp_1788', 'Exp_3490', 'Exp_3905', 'Exp_3708', 'Exp_2476', 'Exp_2040', 'Exp_3166', 'Exp_3656', 'Exp_3865', 'Exp_4114', 'Exp_2735', 'Exp_4894', 'Exp_4640', 'Exp_5322', 'Exp_3777', 'Exp_2137', 'Exp_2161', 'Exp_3526', 'Exp_4275', 'Exp_5067', 'Exp_4563', 'Exp_1982', 'Exp_2886', 'Exp_4191', 'Exp_4108', 'Exp_5328', 'Exp_3889', 'Exp_4555', 'Exp_1993', 'Exp_4372', 'Exp_3035', 'Exp_3194', 'Exp_4829', 'Exp_1895', 'Exp_3916', 'Exp_3525', 'Exp_4425', 'Exp_5302', 'Exp_4046', 'Exp_5155', 'Exp_3937', 'Exp_2257', 'Exp_3508', 'Exp_5395', 'Exp_2660', 'Exp_3643', 'Exp_4040', 'Exp_4286', 'Exp_2245', 'Exp_2502', 'Exp_2175', 'Exp_3962', 'Exp_5186', 'Exp_3541', 'Exp_2684', 'Exp_4006', 'Exp_5171', 'Exp_2670', 'Exp_3282', 'Exp_4778', 'Exp_5072', 'Exp_4927', 'Exp_2070', 'Exp_2386', 'Exp_4468', 'Exp_4813', 'Exp_5359', 'Exp_2011', 'Exp_5348', 'Exp_1907', 'Exp_2676', 'Exp_2332', 'Exp_4290', 'Exp_1803', 'Exp_1728', 'Exp_3846', 'Exp_5337', 'Exp_4166', 'Exp_3666', 'Exp_2678', 'Exp_4748', 'Exp_2864', 'Exp_3220', 'Exp_4338', 'Exp_2518', 'Exp_4619', 'Exp_2292', 'Exp_4280', 'Exp_2811', 'Exp_1930', 'Exp_2433', 'Exp_3003', 'Exp_3316', 'Exp_2357', 'Exp_3202', 'Exp_2035', 'Exp_2415', 'Exp_4842', 'Exp_3155', 'Exp_1917', 'Exp_4733', 'Exp_3902', 'Exp_4043', 'Exp_4089', 'Exp_3920', 'Exp_3083', 'Exp_2453', 'Exp_4560', 'Exp_3233', 'Exp_4639', 'Exp_3787', 'Exp_4490', 'Exp_2718', 'Exp_2547', 'Exp_1774', 'Exp_4389', 'Exp_5385', 'Exp_3968', 'Exp_4355', 'Exp_3032', 'Exp_4070', 'Exp_2605', 'Exp_4881', 'Exp_1753', 'Exp_1966', 'Exp_4150', 'Exp_3345', 'Exp_5017', 'Exp_3731', 'Exp_2839', 'Exp_4374', 'Exp_2482', 'Exp_3568', 'Exp_2900', 'Exp_4895', 'Exp_4528', 'Exp_3455', 'Exp_4481', 'Exp_4675', 'Exp_5118', 'Exp_2262', 'Exp_2440', 'Exp_1913', 'Exp_3315', 'Exp_4642', 'Exp_4954', 'Exp_2774', 'Exp_2833', 'Exp_4760', 'Exp_3424', 'Exp_1980', 'Exp_2719', 'Exp_3764', 'Exp_3056', 'Exp_5380', 'Exp_4384', 'Exp_2151', 'Exp_2072', 'Exp_5289', 'Exp_1916', 'Exp_1892', 'Exp_1860', 'Exp_1856', 'Exp_2956', 'Exp_4458', 'Exp_4822', 'Exp_4497', 'Exp_3023', 'Exp_2636', 'Exp_4781', 'Exp_2941', 'Exp_4803', 'Exp_3109', 'Exp_4747', 'Exp_4018', 'Exp_2326', 'Exp_4906', 'Exp_2520', 'Exp_2001', 'Exp_4935', 'Exp_2310', 'Exp_2946', 'Exp_3086', 'Exp_2652', 'Exp_1790', 'Exp_4097', 'Exp_2122', 'Exp_5133', 'Exp_3260', 'Exp_2300', 'Exp_3273', 'Exp_3431', 'Exp_2230', 'Exp_4145', 'Exp_3261', 'Exp_3491', 'Exp_4051', 'Exp_3040', 'Exp_2770', 'Exp_2915', 'Exp_4159', 'Exp_3614', 'Exp_3219', 'Exp_3556', 'Exp_5217', 'Exp_3720', 'Exp_2950', 'Exp_3629', 'Exp_4597', 'Exp_4034', 'Exp_2239', 'Exp_3514', 'Exp_2954', 'Exp_4152', 'Exp_2144', 'Exp_4776', 'Exp_3245', 'Exp_4447', 'Exp_4791', 'Exp_3397', 'Exp_2878', 'Exp_2566', 'Exp_4315', 'Exp_5407', 'Exp_4845', 'Exp_5405', 'Exp_2206', 'Exp_5112', 'Exp_3338', 'Exp_4216', 'Exp_4652', 'Exp_2880', 'Exp_3249', 'Exp_5148', 'Exp_4063', 'Exp_5090', 'Exp_2057', 'Exp_3553', 'Exp_2955', 'Exp_3718', 'Exp_3963', 'Exp_2275', 'Exp_4744', 'Exp_5298', 'Exp_4653', 'Exp_2488', 'Exp_5410', 'Exp_1867', 'Exp_3158', 'Exp_2949', 'Exp_3501', 'Exp_2822', 'Exp_1955', 'Exp_2065', 'Exp_4715', 'Exp_4632', 'Exp_4351', 'Exp_1799', 'Exp_4121', 'Exp_5397', 'Exp_4456', 'Exp_5128', 'Exp_3544', 'Exp_2577', 'Exp_4859', 'Exp_3601', 'Exp_4277', 'Exp_2858', 'Exp_2583', 'Exp_4469', 'Exp_1935', 'Exp_3408', 'Exp_3348', 'Exp_2604', 'Exp_3298', 'Exp_2118', 'Exp_5150', 'Exp_2258', 'Exp_3618', 'Exp_2446', 'Exp_2730', 'Exp_4507', 'Exp_3451', 'Exp_5180', 'Exp_5382', 'Exp_3513', 'Exp_3279', 'Exp_3051', 'Exp_5366', 'Exp_4180', 'Exp_3170', 'Exp_2126', 'Exp_2106', 'Exp_2261', 'Exp_5201', 'Exp_4661', 'Exp_2990', 'Exp_4609', 'Exp_3561', 'Exp_1794', 'Exp_5068', 'Exp_5400', 'Exp_4479', 'Exp_5022', 'Exp_3744', 'Exp_5377', 'Exp_2404', 'Exp_2799', 'Exp_2708', 'Exp_1760', 'Exp_2944', 'Exp_4371', 'Exp_4658', 'Exp_3185', 'Exp_5227', 'Exp_3560', 'Exp_1872', 'Exp_4476', 'Exp_2991', 'Exp_3138', 'Exp_5044', 'Exp_4566', 'Exp_3242', 'Exp_4368', 'Exp_2424', 'Exp_3911', 'Exp_3958', 'Exp_2119', 'Exp_4284', 'Exp_2751', 'Exp_2418', 'Exp_4645', 'Exp_2143', 'Exp_2093', 'Exp_1915', 'Exp_4874', 'Exp_4065', 'Exp_3810', 'Exp_4325', 'Exp_4106', 'Exp_3045', 'Exp_3632', 'Exp_5250', 'Exp_3496', 'Exp_4758', 'Exp_2516', 'Exp_5344', 'Exp_2509', 'Exp_2249', 'Exp_4079', 'Exp_3615', 'Exp_4637', 'Exp_2734', 'Exp_4382', 'Exp_3301', 'Exp_3778', 'Exp_5027', 'Exp_5218', 'Exp_4143', 'Exp_3088', 'Exp_2675', 'Exp_3813', 'Exp_3922', 'Exp_3457', 'Exp_4353', 'Exp_3084', 'Exp_4341', 'Exp_1938', 'Exp_4815', 'Exp_1949', 'Exp_2032', 'Exp_3419', 'Exp_2992', 'Exp_3418', 'Exp_4933', 'Exp_2700', 'Exp_3147', 'Exp_3946', 'Exp_2859', 'Exp_2685', 'Exp_2980', 'Exp_1952', 'Exp_4276', 'Exp_3162', 'Exp_3738', 'Exp_3874', 'Exp_2560', 'Exp_3701', 'Exp_5088', 'Exp_4169', 'Exp_4388', 'Exp_2978', 'Exp_2666', 'Exp_4031', 'Exp_3755', 'Exp_1974', 'Exp_4754', 'Exp_4655', 'Exp_2861', 'Exp_1831', 'Exp_2514', 'Exp_3790', 'Exp_3265', 'Exp_4376', 'Exp_2573', 'Exp_3007', 'Exp_4990', 'Exp_3031', 'Exp_4668', 'Exp_2606', 'Exp_3112', 'Exp_2472', 'Exp_2987', 'Exp_2939', 'Exp_3879', 'Exp_3149', 'Exp_2548', 'Exp_2888', 'Exp_1743', 'Exp_3576', 'Exp_4799', 'Exp_3993', 'Exp_4154', 'Exp_2467', 'Exp_2655', 'Exp_2092', 'Exp_4767', 'Exp_3636', 'Exp_3518', 'Exp_3400', 'Exp_2315', 'Exp_3661', 'Exp_4194', 'Exp_2398', 'Exp_4565', 'Exp_4524', 'Exp_4052', 'Exp_2500', 'Exp_2288', 'Exp_2983', 'Exp_5174', 'Exp_3552', 'Exp_3685', 'Exp_3106', 'Exp_1838', 'Exp_1817', 'Exp_3820', 'Exp_5054', 'Exp_3200', 'Exp_3165', 'Exp_2704', 'Exp_2130', 'Exp_2591', 'Exp_5231', 'Exp_4720', 'Exp_4185', 'Exp_5187', 'Exp_1738', 'Exp_2191', 'Exp_3417', 'Exp_5317', 'Exp_3893', 'Exp_3825', 'Exp_4856', 'Exp_1782', 'Exp_2984', 'Exp_3066', 'Exp_4333', 'Exp_1925', 'Exp_3370', 'Exp_3675', 'Exp_4718', 'Exp_4915', 'Exp_2157', 'Exp_5353', 'Exp_4116', 'Exp_4624', 'Exp_4211', 'Exp_4588', 'Exp_2450', 'Exp_2041', 'Exp_4111', 'Exp_4328', 'Exp_4962', 'Exp_3189', 'Exp_2416', 'Exp_3157', 'Exp_2783', 'Exp_4298', 'Exp_2203', 'Exp_2088', 'Exp_4124', 'Exp_3028', 'Exp_2237', 'Exp_5190', 'Exp_1822', 'Exp_4768', 'Exp_4363', 'Exp_4797', 'Exp_1911', 'Exp_4221', 'Exp_3124', 'Exp_3722', 'Exp_1885', 'Exp_1960', 'Exp_3800', 'Exp_2419', 'Exp_3074', 'Exp_3448', 'Exp_2102', 'Exp_2351', 'Exp_4604', 'Exp_4568', 'Exp_3939', 'Exp_2462', 'Exp_3330', 'Exp_2629', 'Exp_2627', 'Exp_4691', 'Exp_4096', 'Exp_2513', 'Exp_4319', 'Exp_5136', 'Exp_2477', 'Exp_2215', 'Exp_2036', 'Exp_5114', 'Exp_2505', 'Exp_3745', 'Exp_4779', 'Exp_4724', 'Exp_2276', 'Exp_2256', 'Exp_2236', 'Exp_2916', 'Exp_4752', 'Exp_4838', 'Exp_3256', 'Exp_4076', 'Exp_4213', 'Exp_2914', 'Exp_3606', 'Exp_2551', 'Exp_2842', 'Exp_4391', 'Exp_3349', 'Exp_5169', 'Exp_3555', 'Exp_2748', 'Exp_4735', 'Exp_4067', 'Exp_3207', 'Exp_3317', 'Exp_2448', 'Exp_2149', 'Exp_4934', 'Exp_3641', 'Exp_1906', 'Exp_4377', 'Exp_4419', 'Exp_2982', 'Exp_2845', 'Exp_3377', 'Exp_2787', 'Exp_4802', 'Exp_2717', 'Exp_2740', 'Exp_2200', 'Exp_3697', 'Exp_4485', 'Exp_3184', 'Exp_5170', 'Exp_3172', 'Exp_4932', 'Exp_5336', 'Exp_2443', 'Exp_2431', 'Exp_3388', 'Exp_3621', 'Exp_2308', 'Exp_2802', 'Exp_3955', 'Exp_2495', 'Exp_2597', 'Exp_2567', 'Exp_3362', 'Exp_4545', 'Exp_3247', 'Exp_4706', 'Exp_3593', 'Exp_2251', 'Exp_3932', 'Exp_2330', 'Exp_3815', 'Exp_2388', 'Exp_4543', 'Exp_3899', 'Exp_2063', 'Exp_2101', 'Exp_4027', 'Exp_2995', 'Exp_4078', 'Exp_2762', 'Exp_3486', 'Exp_4660', 'Exp_4775', 'Exp_3209', 'Exp_3712', 'Exp_2503', 'Exp_4244', 'Exp_4530', 'Exp_2231', 'Exp_2789', 'Exp_2961', 'Exp_5237', 'Exp_4317', 'Exp_4409', 'Exp_5269', 'Exp_2373', 'Exp_4115', 'Exp_2140', 'Exp_1776', 'Exp_4264', 'Exp_1727', 'Exp_4440', 'Exp_3923', 'Exp_5272', 'Exp_3536', 'Exp_3930', 'Exp_5116', 'Exp_1847', 'Exp_2004', 'Exp_5166', 'Exp_5144', 'Exp_1733', 'Exp_2871', 'Exp_2733', 'Exp_3484', 'Exp_4247', 'Exp_2329', 'Exp_2569', 'Exp_4512', 'Exp_5206', 'Exp_5274', 'Exp_4131', 'Exp_3434', 'Exp_3102', 'Exp_3682', 'Exp_4434', 'Exp_5311', 'Exp_3949', 'Exp_2808', 'Exp_3483', 'Exp_3005', 'Exp_4810', 'Exp_2788', 'Exp_3335', 'Exp_3991', 'Exp_3011', 'Exp_4142', 'Exp_2602', 'Exp_3352', 'Exp_3705', 'Exp_4210', 'Exp_1745', 'Exp_1947', 'Exp_2367', 'Exp_2681', 'Exp_3337', 'Exp_3623', 'Exp_1883', 'Exp_1808', 'Exp_3574', 'Exp_2268', 'Exp_4936', 'Exp_4945', 'Exp_3988', 'Exp_4153', 'Exp_3453', 'Exp_2371', 'Exp_1725', 'Exp_1864', 'Exp_3339', 'Exp_2497', 'Exp_1739', 'Exp_4055', 'Exp_3367', 'Exp_2369', 'Exp_2094', 'Exp_3179', 'Exp_2167', 'Exp_3567', 'Exp_4949', 'Exp_4893', 'Exp_4415', 'Exp_2069', 'Exp_3747', 'Exp_5259', 'Exp_4602', 'Exp_4511', 'Exp_4195', 'Exp_2870', 'Exp_2936', 'Exp_3477', 'Exp_2496', 'Exp_4432', 'Exp_2951', 'Exp_4307', 'Exp_5294', 'Exp_5379', 'Exp_2303', 'Exp_2815', 'Exp_4977', 'Exp_4225', 'Exp_3620', 'Exp_2645', 'Exp_3181', 'Exp_4197', 'Exp_3328', 'Exp_4818', 'Exp_2098', 'Exp_3830', 'Exp_4737', 'Exp_4464', 'Exp_2754', 'Exp_3113', 'Exp_5021', 'Exp_4689', 'Exp_3956', 'Exp_4869', 'Exp_2394', 'Exp_4303', 'Exp_5295', 'Exp_2683', 'Exp_2554', 'Exp_5158', 'Exp_5161', 'Exp_2507', 'Exp_4890', 'Exp_4323', 'Exp_2767', 'Exp_2131', 'Exp_3798', 'Exp_4294', 'Exp_4968', 'Exp_3450', 'Exp_2293', 'Exp_2187', 'Exp_3464', 'Exp_3380', 'Exp_3050', 'Exp_5064', 'Exp_3982', 'Exp_2848', 'Exp_2023', 'Exp_2362', 'Exp_4495', 'Exp_3943', 'Exp_4751', 'Exp_3802', 'Exp_2430', 'Exp_4412', 'Exp_4633', 'Exp_2227', 'Exp_3719', 'Exp_5266', 'Exp_2630', 'Exp_4819', 'Exp_4310', 'Exp_2587', 'Exp_4823', 'Exp_3783', 'Exp_4789', 'Exp_3598', 'Exp_4471', 'Exp_2969', 'Exp_3300', 'Exp_5207', 'Exp_3167', 'Exp_4474', 'Exp_2342', 'Exp_4493', 'Exp_3721', 'Exp_3854', 'Exp_1879', 'Exp_3192', 'Exp_4240', 'Exp_3371', 'Exp_4711', 'Exp_5043', 'Exp_4273', 'Exp_2701', 'Exp_1762', 'Exp_4586', 'Exp_3164', 'Exp_3994', 'Exp_4448', 'Exp_4091', 'Exp_2542', 'Exp_4488', 'Exp_4573', 'Exp_5329', 'Exp_3999', 'Exp_4843', 'Exp_1816', 'Exp_3012', 'Exp_4786', 'Exp_3872', 'Exp_4109', 'Exp_2887', 'Exp_5098', 'Exp_3944', 'Exp_2457', 'Exp_3882', 'Exp_3864', 'Exp_3458', 'Exp_4416', 'Exp_4867', 'Exp_4347', 'Exp_5393', 'Exp_1768', 'Exp_1941', 'Exp_2124', 'Exp_3829', 'Exp_2601', 'Exp_2053', 'Exp_1877', 'Exp_1871', 'Exp_4961', 'Exp_4011', 'Exp_4118', 'Exp_2744', 'Exp_3237', 'Exp_3122', 'Exp_3295', 'Exp_4047', 'Exp_2366', 'Exp_2909', 'Exp_4900', 'Exp_3924', 'Exp_4401', 'Exp_3867', 'Exp_3583', 'Exp_5005', 'Exp_2243', 'Exp_4978', 'Exp_3765', 'Exp_4318', 'Exp_2435', 'Exp_2855', 'Exp_4255', 'Exp_4489', 'Exp_2073', 'Exp_3039', 'Exp_4068', 'Exp_2931', 'Exp_2208', 'Exp_3737', 'Exp_3087', 'Exp_4282', 'Exp_3752', 'Exp_3061', 'Exp_3415', 'Exp_4196', 'Exp_4345', 'Exp_5069', 'Exp_5340', 'Exp_3199', 'Exp_5053', 'Exp_3827', 'Exp_2359', 'Exp_4635', 'Exp_3469', 'Exp_5063', 'Exp_3278', 'Exp_2432', 'Exp_3368', 'Exp_2184', 'Exp_5134', 'Exp_3495', 'Exp_3014', 'Exp_2283', 'Exp_2492', 'Exp_4570', 'Exp_5371', 'Exp_1729', 'Exp_3587', 'Exp_3143', 'Exp_2225', 'Exp_2658', 'Exp_4224', 'Exp_1832', 'Exp_3642', 'Exp_2125', 'Exp_4327', 'Exp_3264', 'Exp_1778', 'Exp_2096', 'Exp_2611', 'Exp_4161', 'Exp_2211', 'Exp_3288', 'Exp_4030', 'Exp_1937', 'Exp_2884', 'Exp_2253', 'Exp_3981', 'Exp_3634', 'Exp_2896', 'Exp_5306', 'Exp_4999', 'Exp_2361', 'Exp_5074', 'Exp_1939', 'Exp_4692', 'Exp_2846', 'Exp_3329', 'Exp_1775', 'Exp_2631', 'Exp_2588', 'Exp_4072', 'Exp_2486', 'Exp_2228', 'Exp_4673', 'Exp_3132', 'Exp_3042', 'Exp_3391', 'Exp_3136', 'Exp_4564', 'Exp_3706', 'Exp_1905', 'Exp_3875', 'Exp_4839', 'Exp_3263', 'Exp_2347', 'Exp_2809', 'Exp_2111', 'Exp_2428', 'Exp_5212', 'Exp_4814', 'Exp_1809', 'Exp_5181', 'Exp_3336', 'Exp_4883', 'Exp_4931', 'Exp_4686', 'Exp_3287', 'Exp_3786', 'Exp_2873', 'Exp_4559', 'Exp_4540', 'Exp_4696', 'Exp_4788', 'Exp_2979', 'Exp_4662', 'Exp_2793', 'Exp_4680', 'Exp_3678', 'Exp_3426', 'Exp_5404', 'Exp_2707', 'Exp_2037', 'Exp_4712', 'Exp_2068', 'Exp_4732', 'Exp_4620', 'Exp_4472', 'Exp_4354', 'Exp_4743', 'Exp_3304', 'Exp_4446', 'Exp_3665', 'Exp_4227', 'Exp_2674', 'Exp_3505', 'Exp_2757', 'Exp_3047', 'Exp_4414', 'Exp_1750', 'Exp_5008', 'Exp_3378', 'Exp_2128', 'Exp_3375', 'Exp_3702', 'Exp_2270', 'Exp_2782', 'Exp_4394', 'Exp_2313', 'Exp_3834', 'Exp_4438', 'Exp_2713', 'Exp_3842', 'Exp_2696', 'Exp_4682', 'Exp_4245', 'Exp_2071', 'Exp_4784', 'Exp_4080', 'Exp_4618', 'Exp_3246', 'Exp_2911', 'Exp_2444', 'Exp_5213', 'Exp_4340', 'Exp_3942', 'Exp_3148', 'Exp_3430', 'Exp_2337', 'Exp_2610', 'Exp_3224', 'Exp_5257', 'Exp_3840', 'Exp_2471', 'Exp_3120', 'Exp_3542', 'Exp_4335', 'Exp_5354', 'Exp_1837', 'Exp_4173', 'Exp_5020', 'Exp_4626', 'Exp_4504', 'Exp_3609', 'Exp_1824', 'Exp_5065', 'Exp_4864', 'Exp_2820', 'Exp_4480', 'Exp_5071', 'Exp_5375', 'Exp_2074', 'Exp_2634', 'Exp_3953', 'Exp_2812', 'Exp_2198', 'Exp_5241', 'Exp_3812', 'Exp_4423', 'Exp_5018', 'Exp_3439', 'Exp_2383', 'Exp_1959', 'Exp_2054', 'Exp_3969', 'Exp_4022', 'Exp_5038', 'Exp_4556', 'Exp_3831', 'Exp_4406', 'Exp_3150', 'Exp_3196', 'Exp_4451', 'Exp_5143', 'Exp_3115', 'Exp_3413', 'Exp_4373', 'Exp_3732', 'Exp_3110', 'Exp_4053', 'Exp_5000', 'Exp_5316', 'Exp_4849', 'Exp_2378', 'Exp_5220', 'Exp_2104', 'Exp_4694', 'Exp_5073', 'Exp_4350', 'Exp_5248', 'Exp_3383', 'Exp_4059', 'Exp_3213', 'Exp_3325', 'Exp_5198', 'Exp_3771', 'Exp_3979', 'Exp_3374', 'Exp_3592', 'Exp_2621', 'Exp_3935', 'Exp_3582', 'Exp_3563', 'Exp_5055', 'Exp_4190', 'Exp_2974', 'Exp_4306', 'Exp_3297', 'Exp_3543', 'Exp_2062', 'Exp_2163', 'Exp_4537', 'Exp_4496', 'Exp_5360', 'Exp_4727', 'Exp_5372', 'Exp_4219', 'Exp_2902', 'Exp_4581', 'Exp_2044', 'Exp_5290', 'Exp_3361', 'Exp_3497', 'Exp_2919', 'Exp_2575', 'Exp_1965', 'Exp_4740', 'Exp_2352', 'Exp_2523', 'Exp_3637', 'Exp_3459', 'Exp_2586', 'Exp_4796', 'Exp_4463', 'Exp_4228', 'Exp_2546', 'Exp_4428', 'Exp_2988', 'Exp_5288', 'Exp_3861', 'Exp_2785', 'Exp_3654', 'Exp_2078', 'Exp_3970', 'Exp_1988', 'Exp_4462', 'Exp_1900', 'Exp_2043', 'Exp_3799', 'Exp_2018', 'Exp_1904', 'Exp_4876', 'Exp_2805', 'Exp_4366', 'Exp_3603', 'Exp_3463', 'Exp_3442', 'Exp_4254', 'Exp_2943', 'Exp_2922', 'Exp_4188', 'Exp_4988', 'Exp_3837', 'Exp_4387', 'Exp_3471', 'Exp_3851', 'Exp_2493', 'Exp_5084', 'Exp_4611', 'Exp_2889', 'Exp_3454', 'Exp_2920', 'Exp_2254', 'Exp_4141', 'Exp_2756', 'Exp_3171', 'Exp_4258', 'Exp_2165', 'Exp_4638', 'Exp_4981', 'Exp_2242', 'Exp_3145', 'Exp_5079', 'Exp_3182', 'Exp_1920', 'Exp_2209', 'Exp_3357', 'Exp_3986', 'Exp_3438', 'Exp_3671', 'Exp_5146', 'Exp_2459', 'Exp_2153', 'Exp_2390', 'Exp_4383', 'Exp_2698', 'Exp_2553', 'Exp_5199', 'Exp_2024', 'Exp_2764', 'Exp_2849', 'Exp_2314', 'Exp_4515', 'Exp_2451', 'Exp_4149', 'Exp_3646', 'Exp_2619', 'Exp_2921', 'Exp_2289', 'Exp_4616', 'Exp_3462', 'Exp_4539', 'Exp_5039', 'Exp_3667', 'Exp_4343', 'Exp_5301', 'Exp_3759', 'Exp_3244', 'Exp_2609', 'Exp_1843', 'Exp_3965', 'Exp_2091', 'Exp_2183', 'Exp_3940', 'Exp_5093', 'Exp_3693', 'Exp_4700', 'Exp_3052', 'Exp_2607', 'Exp_4183', 'Exp_2055', 'Exp_4452', 'Exp_2689', 'Exp_2959', 'Exp_3938', 'Exp_4381', 'Exp_4128', 'Exp_2050', 'Exp_4223', 'Exp_4667', 'Exp_2377', 'Exp_4811', 'Exp_2026', 'Exp_4889', 'Exp_5373', 'Exp_3021', 'Exp_2807', 'Exp_1771', 'Exp_4787', 'Exp_3929', 'Exp_4088', 'Exp_1761', 'Exp_4005', 'Exp_5318', 'Exp_3125', 'Exp_5324', 'Exp_3443', 'Exp_1746', 'Exp_5042', 'Exp_5383', 'Exp_2531', 'Exp_4259', 'Exp_2952', 'Exp_4561', 'Exp_4119', 'Exp_5110', 'Exp_3570', 'Exp_2568', 'Exp_2350', 'Exp_3684', 'Exp_4888', 'Exp_3676', 'Exp_3395', 'Exp_2801', 'Exp_1863', 'Exp_3116', 'Exp_3853', 'Exp_4099', 'Exp_2679', 'Exp_5102', 'Exp_1902', 'Exp_3847', 'Exp_4998', 'Exp_1813', 'Exp_4205', 'Exp_2695', 'Exp_3234', 'Exp_3635', 'Exp_2296', 'Exp_2469', 'Exp_4526', 'Exp_1757', 'Exp_3516', 'Exp_3741', 'Exp_3729', 'Exp_2556', 'Exp_4777', 'Exp_3094', 'Exp_5346', 'Exp_2677', 'Exp_3784', 'Exp_1884', 'Exp_2372', 'Exp_3082', 'Exp_2212', 'Exp_5293', 'Exp_4553', 'Exp_2455', 'Exp_3346', 'Exp_5374', 'Exp_4064', 'Exp_5291', 'Exp_3662', 'Exp_4500', 'Exp_5390', 'Exp_2045', 'Exp_2148', 'Exp_4995', 'Exp_3809', 'Exp_2562', 'Exp_2555', 'Exp_2039', 'Exp_3072', 'Exp_3435', 'Exp_1811', 'Exp_2085', 'Exp_4200', 'Exp_4482', 'Exp_3714', 'Exp_2517', 'Exp_1927', 'Exp_1756', 'Exp_5048', 'Exp_3571', 'Exp_1797', 'Exp_3183', 'Exp_2306', 'Exp_3303', 'Exp_2160', 'Exp_2095', 'Exp_2460', 'Exp_5066', 'Exp_3655', 'Exp_3161', 'Exp_3381', 'Exp_5095', 'Exp_1932', 'Exp_2301', 'Exp_2549', 'Exp_3805', 'Exp_2929', 'Exp_4657', 'Exp_4736', 'Exp_3240', 'Exp_3238', 'Exp_2232', 'Exp_4804', 'Exp_4617', 'Exp_1801', 'Exp_4235', 'Exp_5234', 'Exp_2688', 'Exp_3048', 'Exp_3692', 'Exp_4037', 'Exp_3797', 'Exp_3482', 'Exp_4887', 'Exp_3602', 'Exp_2321', 'Exp_2810', 'Exp_4230', 'Exp_2589', 'Exp_5010', 'Exp_2169', 'Exp_4937', 'Exp_1950', 'Exp_4525', 'Exp_4914', 'Exp_4175', 'Exp_3235', 'Exp_2786', 'Exp_2483', 'Exp_2608', 'Exp_2856', 'Exp_2402', 'Exp_4699', 'Exp_4019', 'Exp_2152', 'Exp_4312', 'Exp_3648', 'Exp_1752', 'Exp_5235', 'Exp_2380', 'Exp_4960', 'Exp_5226', 'Exp_3009', 'Exp_2336', 'Exp_5286', 'Exp_5319', 'Exp_4157', 'Exp_4081', 'Exp_1987', 'Exp_1888', 'Exp_2271', 'Exp_5214', 'Exp_3248', 'Exp_4364', 'Exp_2358', 'Exp_3822', 'Exp_3312', 'Exp_1968', 'Exp_5245', 'Exp_2123', 'Exp_2000', 'Exp_5363', 'Exp_3292', 'Exp_3134', 'Exp_3841', 'Exp_2132', 'Exp_4704', 'Exp_5228', 'Exp_2299', 'Exp_2170', 'Exp_2972', 'Exp_1785', 'Exp_5182', 'Exp_1979', 'Exp_4629', 'Exp_2427', 'Exp_2853', 'Exp_4217', 'Exp_4007', 'Exp_4756', 'Exp_2971', 'Exp_4125', 'Exp_4486', 'Exp_3945', 'Exp_4236', 'Exp_2182', 'Exp_3756', 'Exp_1868', 'Exp_2166', 'Exp_4973', 'Exp_3562', 'Exp_5189', 'Exp_3062', 'Exp_2649', 'Exp_4158', 'Exp_2535', 'Exp_4208', 'Exp_2732', 'Exp_2417', 'Exp_3976', 'Exp_2382', 'Exp_2686', 'Exp_5209', 'Exp_3925', 'Exp_3001', 'Exp_3037', 'Exp_4953', 'Exp_4311', 'Exp_5205', 'Exp_4433', 'Exp_3060', 'Exp_4527', 'Exp_1734', 'Exp_1731', 'Exp_4129', 'Exp_1748', 'Exp_2244', 'Exp_5314', 'Exp_5304', 'Exp_4367', 'Exp_3863', 'Exp_2385', 'Exp_2923', 'Exp_3217', 'Exp_2019', 'Exp_2048', 'Exp_4589', 'Exp_2654', 'Exp_2779', 'Exp_4352', 'Exp_3672', 'Exp_3725', 'Exp_4120', 'Exp_4098', 'Exp_1841', 'Exp_4817', 'Exp_4538', 'Exp_3117', 'Exp_3852', 'Exp_2776', 'Exp_4465', 'Exp_2059', 'Exp_5184', 'Exp_4356', 'Exp_1951', 'Exp_3644', 'Exp_4004', 'Exp_1997', 'Exp_2346', 'Exp_5045', 'Exp_3327', 'Exp_2405', 'Exp_4156', 'Exp_4862', 'Exp_3984', 'Exp_5403', 'Exp_4348', 'Exp_3691', 'Exp_2898', 'Exp_3612', 'Exp_5091', 'Exp_2499', 'Exp_2107', 'Exp_1901', 'Exp_4430', 'Exp_4215', 'Exp_3498', 'Exp_1770', 'Exp_4422', 'Exp_4719', 'Exp_3354', 'Exp_5001', 'Exp_5332', 'Exp_1972', 'Exp_3499', 'Exp_4234', 'Exp_4095', 'Exp_4783', 'Exp_3320', 'Exp_3904', 'Exp_3836', 'Exp_2620', 'Exp_3225', 'Exp_4974', 'Exp_4901', 'Exp_3425', 'Exp_2706', 'Exp_2129', 'Exp_3597', 'Exp_2963', 'Exp_4993', 'Exp_1823', 'Exp_4123', 'Exp_3892', 'Exp_4048', 'Exp_4916', 'Exp_2269', 'Exp_4957', 'Exp_2318', 'Exp_1828', 'Exp_4174', 'Exp_2590', 'Exp_3323', 'Exp_3197', 'Exp_4045', 'Exp_4086', 'Exp_2319', 'Exp_2171', 'Exp_2843', 'Exp_2480', 'Exp_4971', 'Exp_2413', 'Exp_2116', 'Exp_5147', 'Exp_2136', 'Exp_5029', 'Exp_2407', 'Exp_1998', 'Exp_4297', 'Exp_4103', 'Exp_2108', 'Exp_3524', 'Exp_1840', 'Exp_1846', 'Exp_4038', 'Exp_2344', 'Exp_3967', 'Exp_4836', 'Exp_4897', 'Exp_5034', 'Exp_1984', 'Exp_5085', 'Exp_3565', 'Exp_3711', 'Exp_1999', 'Exp_3913', 'Exp_5391', 'Exp_4023', 'Exp_2579', 'Exp_2099', 'Exp_5165', 'Exp_2411', 'Exp_5196', 'Exp_2005', 'Exp_4026', 'Exp_4834', 'Exp_3707', 'Exp_4713', 'Exp_1826', 'Exp_2893', 'Exp_4542', 'Exp_3020', 'Exp_3724', 'Exp_2835', 'Exp_4010', 'Exp_5007', 'Exp_2285', 'Exp_4229', 'Exp_2841', 'Exp_5113', 'Exp_3481', 'Exp_5381', 'Exp_5126', 'Exp_4346', 'Exp_1726', 'Exp_2113', 'Exp_4541', 'Exp_5031', 'Exp_3203', 'Exp_3460', 'Exp_5357', 'Exp_3538', 'Exp_5103', 'Exp_1737', 'Exp_2217', 'Exp_3401', 'Exp_1936', 'Exp_1875', 'Exp_3901', 'Exp_5040', 'Exp_1795', 'Exp_4917', 'Exp_1857', 'Exp_4017', 'Exp_2485', 'Exp_3826', 'Exp_1945', 'Exp_4049', 'Exp_5402', 'Exp_4806', 'Exp_4550', 'Exp_3358', 'Exp_4457', 'Exp_2375', 'Exp_4659', 'Exp_2633', 'Exp_2365', 'Exp_4003', 'Exp_3480', 'Exp_4929', 'Exp_3957', 'Exp_5086', 'Exp_2759', 'Exp_5273', 'Exp_2912', 'Exp_5151', 'Exp_4529', 'Exp_2412', 'Exp_5096', 'Exp_2585', 'Exp_3616', 'Exp_1899', 'Exp_3551', 'Exp_3046', 'Exp_3877', 'Exp_4944', 'Exp_1772', 'Exp_4344', 'Exp_2697', 'Exp_2771', 'Exp_3190', 'Exp_4316', 'Exp_2795', 'Exp_4418', 'Exp_4770', 'Exp_4554', 'Exp_4461', 'Exp_2401', 'Exp_4000', 'Exp_4805', 'Exp_3960', 'Exp_2356', 'Exp_4514', 'Exp_4314', 'Exp_2646', 'Exp_1996', 'Exp_3823', 'Exp_2193', 'Exp_3137', 'Exp_2473', 'Exp_3694', 'Exp_5307', 'Exp_4547', 'Exp_4997', 'Exp_2117', 'Exp_4750', 'Exp_3212', 'Exp_4959', 'Exp_2084', 'Exp_5386', 'Exp_2214', 'Exp_5300', 'Exp_2061', 'Exp_4544', 'Exp_1747', 'Exp_5192', 'Exp_2699', 'Exp_2426', 'Exp_2174', 'Exp_3404', 'Exp_1926', 'Exp_2250', 'Exp_2445', 'Exp_4358', 'Exp_4408', 'Exp_3406', 'Exp_4042', 'Exp_2539', 'Exp_5193', 'Exp_2918', 'Exp_2613', 'Exp_2145', 'Exp_2928', 'Exp_3159', 'Exp_3858', 'Exp_3286', 'Exp_2641', 'Exp_2603', 'Exp_2644', 'Exp_3528', 'Exp_2571', 'Exp_1749', 'Exp_4361', 'Exp_2434', 'Exp_2027', 'Exp_2399', 'Exp_4676', 'Exp_2391', 'Exp_3511', 'Exp_1929', 'Exp_4232', 'Exp_3308', 'Exp_2454', 'Exp_5388', 'Exp_3392', 'Exp_3509', 'Exp_4517', 'Exp_2234', 'Exp_2993', 'Exp_3373', 'Exp_2595', 'Exp_3268', 'Exp_5100', 'Exp_3494', 'Exp_3915', 'Exp_2526', 'Exp_4192', 'Exp_3226', 'Exp_4910', 'Exp_3832', 'Exp_3487', 'Exp_2715', 'Exp_4879', 'Exp_2028', 'Exp_1970', 'Exp_2134', 'Exp_3521', 'Exp_3258', 'Exp_3085', 'Exp_3002', 'Exp_3211', 'Exp_3097', 'Exp_2753', 'Exp_4105', 'Exp_5368']\n"
          ]
        }
      ],
      "source": [
        "# Get IDs that are in Phase 1 but not in Phase 2\n",
        "ids_only_in_phase2 = phase2_ids - phase1_ids\n",
        "\n",
        "# Convert the set to a list if needed\n",
        "ids_only_in_phase2_list = list(ids_only_in_phase2)\n",
        "\n",
        "print(\"List of IDs only in Phase 2 :\", ids_only_in_phase2_list)"
      ]
    },
    {
      "cell_type": "code",
      "execution_count": 20,
      "metadata": {
        "colab": {
          "base_uri": "https://localhost:8080/"
        },
        "id": "SPVc5191Ct7o",
        "outputId": "7aeba4ab-03fd-4f0d-b3b2-dd5720a576d1"
      },
      "outputs": [
        {
          "name": "stdout",
          "output_type": "stream",
          "text": [
            "Count of unique values for Date for Specific ID  Date\n",
            "2020-12-01    24\n",
            "2020-12-02    24\n",
            "2020-12-03    24\n",
            "2020-12-04    24\n",
            "2020-12-05    24\n",
            "              ..\n",
            "2021-03-22    24\n",
            "2021-03-23    24\n",
            "2021-03-24    24\n",
            "2021-03-25    24\n",
            "2021-03-26    24\n",
            "Length: 116, dtype: int64\n"
          ]
        }
      ],
      "source": [
        "grouped_data_Date = df[df['ID'] == 'Exp_4640'].groupby('Date').size()\n",
        "\n",
        "print(\"Count of unique values for Date for Specific ID \", grouped_data_Date)"
      ]
    },
    {
      "cell_type": "code",
      "execution_count": 21,
      "metadata": {
        "colab": {
          "base_uri": "https://localhost:8080/"
        },
        "id": "DoNgymCbEO2h",
        "outputId": "f7303a33-dc5c-4bb9-f641-b31c407f485b"
      },
      "outputs": [
        {
          "name": "stdout",
          "output_type": "stream",
          "text": [
            "Number of household IDs present in both Phase 1 and Phase 2: 688\n"
          ]
        }
      ],
      "source": [
        "# Find the intersection of the sets of household IDs\n",
        "common_household_ids = phase1_ids.intersection(phase2_ids)\n",
        "\n",
        "# Calculate the number of common household IDs\n",
        "num_common_household_ids = len(common_household_ids)\n",
        "\n",
        "print(\"Number of household IDs present in both Phase 1 and Phase 2:\", num_common_household_ids)\n"
      ]
    },
    {
      "cell_type": "code",
      "execution_count": 22,
      "metadata": {},
      "outputs": [
        {
          "data": {
            "text/html": [
              "<div>\n",
              "<style scoped>\n",
              "    .dataframe tbody tr th:only-of-type {\n",
              "        vertical-align: middle;\n",
              "    }\n",
              "\n",
              "    .dataframe tbody tr th {\n",
              "        vertical-align: top;\n",
              "    }\n",
              "\n",
              "    .dataframe thead th {\n",
              "        text-align: right;\n",
              "    }\n",
              "</style>\n",
              "<table border=\"1\" class=\"dataframe\">\n",
              "  <thead>\n",
              "    <tr style=\"text-align: right;\">\n",
              "      <th></th>\n",
              "      <th>ID</th>\n",
              "      <th>From</th>\n",
              "      <th>Date</th>\n",
              "      <th>Hour</th>\n",
              "      <th>Participation_Phase</th>\n",
              "      <th>Demand_kWh</th>\n",
              "      <th>Temperature</th>\n",
              "      <th>Temperature24</th>\n",
              "      <th>Temperature48</th>\n",
              "      <th>Temperature72</th>\n",
              "    </tr>\n",
              "  </thead>\n",
              "  <tbody>\n",
              "    <tr>\n",
              "      <th>0</th>\n",
              "      <td>Exp_43</td>\n",
              "      <td>2020-02-01 00:00:00+00:00</td>\n",
              "      <td>2020-02-01</td>\n",
              "      <td>1</td>\n",
              "      <td>Phase_1</td>\n",
              "      <td>0.348</td>\n",
              "      <td>7.6</td>\n",
              "      <td>6.1</td>\n",
              "      <td>5.0</td>\n",
              "      <td>4.4</td>\n",
              "    </tr>\n",
              "    <tr>\n",
              "      <th>1</th>\n",
              "      <td>Exp_43</td>\n",
              "      <td>2020-02-01 01:00:00+00:00</td>\n",
              "      <td>2020-02-01</td>\n",
              "      <td>2</td>\n",
              "      <td>Phase_1</td>\n",
              "      <td>0.589</td>\n",
              "      <td>8.2</td>\n",
              "      <td>6.2</td>\n",
              "      <td>5.1</td>\n",
              "      <td>4.4</td>\n",
              "    </tr>\n",
              "    <tr>\n",
              "      <th>2</th>\n",
              "      <td>Exp_43</td>\n",
              "      <td>2020-02-01 02:00:00+00:00</td>\n",
              "      <td>2020-02-01</td>\n",
              "      <td>3</td>\n",
              "      <td>Phase_1</td>\n",
              "      <td>0.358</td>\n",
              "      <td>8.4</td>\n",
              "      <td>6.3</td>\n",
              "      <td>5.3</td>\n",
              "      <td>4.5</td>\n",
              "    </tr>\n",
              "    <tr>\n",
              "      <th>3</th>\n",
              "      <td>Exp_43</td>\n",
              "      <td>2020-02-01 03:00:00+00:00</td>\n",
              "      <td>2020-02-01</td>\n",
              "      <td>4</td>\n",
              "      <td>Phase_1</td>\n",
              "      <td>0.582</td>\n",
              "      <td>8.4</td>\n",
              "      <td>6.4</td>\n",
              "      <td>5.4</td>\n",
              "      <td>4.5</td>\n",
              "    </tr>\n",
              "    <tr>\n",
              "      <th>4</th>\n",
              "      <td>Exp_43</td>\n",
              "      <td>2020-02-01 04:00:00+00:00</td>\n",
              "      <td>2020-02-01</td>\n",
              "      <td>5</td>\n",
              "      <td>Phase_1</td>\n",
              "      <td>0.364</td>\n",
              "      <td>8.2</td>\n",
              "      <td>6.5</td>\n",
              "      <td>5.5</td>\n",
              "      <td>4.6</td>\n",
              "    </tr>\n",
              "  </tbody>\n",
              "</table>\n",
              "</div>"
            ],
            "text/plain": [
              "       ID                      From       Date  Hour Participation_Phase  \\\n",
              "0  Exp_43 2020-02-01 00:00:00+00:00 2020-02-01     1             Phase_1   \n",
              "1  Exp_43 2020-02-01 01:00:00+00:00 2020-02-01     2             Phase_1   \n",
              "2  Exp_43 2020-02-01 02:00:00+00:00 2020-02-01     3             Phase_1   \n",
              "3  Exp_43 2020-02-01 03:00:00+00:00 2020-02-01     4             Phase_1   \n",
              "4  Exp_43 2020-02-01 04:00:00+00:00 2020-02-01     5             Phase_1   \n",
              "\n",
              "   Demand_kWh  Temperature  Temperature24  Temperature48  Temperature72  \n",
              "0       0.348          7.6            6.1            5.0            4.4  \n",
              "1       0.589          8.2            6.2            5.1            4.4  \n",
              "2       0.358          8.4            6.3            5.3            4.5  \n",
              "3       0.582          8.4            6.4            5.4            4.5  \n",
              "4       0.364          8.2            6.5            5.5            4.6  "
            ]
          },
          "execution_count": 22,
          "metadata": {},
          "output_type": "execute_result"
        }
      ],
      "source": [
        "#drop unnecessary columns\n",
        "df.drop(columns=[\"Experiment_price_NOK_kWh\", \"Price_signal\"], inplace=True)\n",
        "\n",
        "#Correct dataframe date time column\n",
        "df['Date'] = pd.to_datetime(df['Date'])\n",
        "df['From'] = pd.to_datetime(df[\"From\"])\n",
        "\n",
        "df.head()"
      ]
    },
    {
      "cell_type": "code",
      "execution_count": 25,
      "metadata": {},
      "outputs": [],
      "source": [
        "#Seperate data frame into two based on phases\n",
        "phase_1_df = df[df[\"Participation_Phase\"]==\"Phase_1\"]\n",
        "phase_2_df = df[df[\"Participation_Phase\"]==\"Phase_2\"]\n",
        "\n",
        "phase_1_df = phase_1_df[phase_1_df['ID'].isin(ids_only_in_phase1_list)]\n",
        "phase_2_df = phase_2_df[phase_2_df['ID'].isin(ids_only_in_phase2_list)]\n",
        "\n",
        "grouped_data = df[df['ID'].isin(common_household_ids)]\n",
        "grouped_data = grouped_data.groupby(\"ID\")\n",
        "common_records= pd.concat([group for _, group in grouped_data])\n",
        "\n",
        "phase_1_df.to_csv(parent_directory + \"/data/phase_1_data.csv\",index=False)\n",
        "phase_2_df.to_csv(parent_directory + \"/data/phase_2_data.csv\",index=False)\n",
        "common_records.to_csv(parent_directory + \"/data/common_records.csv\",index=False)"
      ]
    },
    {
      "cell_type": "code",
      "execution_count": 26,
      "metadata": {},
      "outputs": [
        {
          "name": "stdout",
          "output_type": "stream",
          "text": [
            "54\n",
            "3687\n",
            "688\n"
          ]
        }
      ],
      "source": [
        "print(len(phase_1_df[\"ID\"].unique()))\n",
        "print(len(phase_2_df[\"ID\"].unique()))\n",
        "print(len(common_records[\"ID\"].unique()))"
      ]
    }
  ],
  "metadata": {
    "colab": {
      "provenance": []
    },
    "kernelspec": {
      "display_name": "Python 3",
      "name": "python3"
    },
    "language_info": {
      "codemirror_mode": {
        "name": "ipython",
        "version": 3
      },
      "file_extension": ".py",
      "mimetype": "text/x-python",
      "name": "python",
      "nbconvert_exporter": "python",
      "pygments_lexer": "ipython3",
      "version": "3.12.0"
    }
  },
  "nbformat": 4,
  "nbformat_minor": 0
}
